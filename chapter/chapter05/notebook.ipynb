{
 "cells": [
  {
   "cell_type": "markdown",
   "metadata": {},
   "source": [
    "# 5. LangChain Expression Language（LCEL）徹底解説\n"
   ]
  },
  {
   "cell_type": "code",
   "execution_count": 1,
   "metadata": {
    "execution": {
     "iopub.execute_input": "2024-06-28T02:32:34.489407Z",
     "iopub.status.busy": "2024-06-28T02:32:34.488775Z",
     "iopub.status.idle": "2024-06-28T02:32:34.491583Z",
     "shell.execute_reply": "2024-06-28T02:32:34.491086Z"
    }
   },
   "outputs": [],
   "source": [
    "import os\n"
   ]
  },
  {
   "cell_type": "markdown",
   "metadata": {},
   "source": [
    "## 5.1. Runnable と RunnableSequence―LCEL の最も基本的な構成要素\n"
   ]
  },
  {
   "cell_type": "code",
   "execution_count": 2,
   "metadata": {
    "execution": {
     "iopub.execute_input": "2024-06-28T02:33:12.290335Z",
     "iopub.status.busy": "2024-06-28T02:33:12.290156Z",
     "iopub.status.idle": "2024-06-28T02:33:12.344661Z",
     "shell.execute_reply": "2024-06-28T02:33:12.344241Z"
    }
   },
   "outputs": [],
   "source": [
    "from langchain_core.output_parsers import StrOutputParser\n",
    "from langchain_core.prompts import ChatPromptTemplate\n",
    "from langchain_openai import ChatOpenAI\n",
    "\n",
    "prompt = ChatPromptTemplate.from_messages(\n",
    "    [\n",
    "        (\"system\", \"ユーザーが入力した料理のレシピを考えてください。\"),\n",
    "        (\"human\", \"{dish}\"),\n",
    "    ]\n",
    ")\n",
    "\n",
    "model = ChatOpenAI(model=\"gpt-4o-mini\", temperature=0)\n",
    "\n",
    "output_parser = StrOutputParser()\n"
   ]
  },
  {
   "cell_type": "code",
   "execution_count": 3,
   "metadata": {
    "execution": {
     "iopub.execute_input": "2024-06-28T02:33:12.346689Z",
     "iopub.status.busy": "2024-06-28T02:33:12.346510Z",
     "iopub.status.idle": "2024-06-28T02:33:21.108437Z",
     "shell.execute_reply": "2024-06-28T02:33:21.108007Z"
    }
   },
   "outputs": [
    {
     "name": "stdout",
     "output_type": "stream",
     "text": [
      "カレーのレシピをご紹介します！以下は基本的なチキンカレーのレシピです。\n",
      "\n",
      "### 材料（4人分）\n",
      "- 鶏もも肉：400g（食べやすい大きさにカット）\n",
      "- 玉ねぎ：2個（みじん切り）\n",
      "- にんにく：2片（みじん切り）\n",
      "- 生姜：1片（みじん切り）\n",
      "- トマト：1個（ざく切り）\n",
      "- カレーパウダー：大さじ2\n",
      "- クミンシード：小さじ1\n",
      "- ココナッツミルク：200ml（お好みで）\n",
      "- サラダ油：大さじ2\n",
      "- 塩：適量\n",
      "- 黒胡椒：適量\n",
      "- 水：400ml\n",
      "- パクチー（飾り用）：適量\n",
      "\n",
      "### 作り方\n",
      "1. **下準備**: 鶏肉に塩と黒胡椒をふりかけて下味をつけておきます。\n",
      "\n",
      "2. **玉ねぎを炒める**: 大きめの鍋にサラダ油を熱し、みじん切りにした玉ねぎを加え、中火で透明になるまで炒めます。\n",
      "\n",
      "3. **香辛料を加える**: にんにく、生姜、クミンシードを加え、香りが立つまでさらに炒めます。\n",
      "\n",
      "4. **鶏肉を加える**: 鶏肉を鍋に加え、表面が白くなるまで炒めます。\n",
      "\n",
      "5. **トマトとカレーパウダーを加える**: ざく切りにしたトマトとカレーパウダーを加え、全体をよく混ぜます。\n",
      "\n",
      "6. **煮込む**: 水を加え、沸騰したら弱火にして蓋をし、約20分煮込みます。途中でアクが出たら取り除きます。\n",
      "\n",
      "7. **ココナッツミルクを加える**: ココナッツミルクを加え、さらに5分ほど煮込みます。味を見て、必要に応じて塩で調整します。\n",
      "\n",
      "8. **盛り付け**: お皿に盛り付け、パクチーを散らして完成です。\n",
      "\n",
      "### 提供方法\n",
      "ご飯やナンと一緒にお楽しみください。お好みでヨーグルトやサラダを添えると、より一層美味しくいただけます。\n",
      "\n",
      "ぜひお試しください！\n"
     ]
    }
   ],
   "source": [
    "prompt_value = prompt.invoke({\"dish\": \"カレー\"})\n",
    "ai_message = model.invoke(prompt_value)\n",
    "output = output_parser.invoke(ai_message)\n",
    "\n",
    "print(output)\n"
   ]
  },
  {
   "cell_type": "code",
   "execution_count": 4,
   "metadata": {
    "execution": {
     "iopub.execute_input": "2024-06-28T02:33:21.110332Z",
     "iopub.status.busy": "2024-06-28T02:33:21.110173Z",
     "iopub.status.idle": "2024-06-28T02:33:21.112634Z",
     "shell.execute_reply": "2024-06-28T02:33:21.112238Z"
    }
   },
   "outputs": [],
   "source": [
    "chain = prompt | model | output_parser\n"
   ]
  },
  {
   "cell_type": "code",
   "execution_count": 5,
   "metadata": {
    "execution": {
     "iopub.execute_input": "2024-06-28T02:33:21.114678Z",
     "iopub.status.busy": "2024-06-28T02:33:21.114418Z",
     "iopub.status.idle": "2024-06-28T02:33:26.539851Z",
     "shell.execute_reply": "2024-06-28T02:33:26.539250Z"
    }
   },
   "outputs": [
    {
     "name": "stdout",
     "output_type": "stream",
     "text": [
      "カレーのレシピをご紹介します。シンプルで美味しい基本のカレーを作りましょう。\n",
      "\n",
      "### 材料（4人分）\n",
      "- 鶏肉（もも肉または胸肉）: 400g\n",
      "- 玉ねぎ: 2個\n",
      "- にんじん: 1本\n",
      "- じゃがいも: 2個\n",
      "- カレールー: 1箱（約200g）\n",
      "- サラダ油: 大さじ2\n",
      "- 水: 800ml\n",
      "- 塩: 適量\n",
      "- 胡椒: 適量\n",
      "- お好みでガーリックパウダーや生姜: 適量\n",
      "\n",
      "### 作り方\n",
      "1. **材料の下ごしらえ**:\n",
      "   - 鶏肉は一口大に切り、塩と胡椒を振っておきます。\n",
      "   - 玉ねぎは薄切り、にんじんは輪切り、じゃがいもは一口大に切ります。\n",
      "\n",
      "2. **炒める**:\n",
      "   - 大きめの鍋にサラダ油を熱し、玉ねぎを中火で炒めます。玉ねぎが透明になるまで炒めます。\n",
      "   - 鶏肉を加え、表面が白くなるまで炒めます。\n",
      "\n",
      "3. **野菜を加える**:\n",
      "   - にんじんとじゃがいもを鍋に加え、全体をよく混ぜます。\n",
      "\n",
      "4. **煮る**:\n",
      "   - 水を加え、強火で煮立たせます。煮立ったら、アクを取り除き、中火にして蓋をし、約15分煮ます。\n",
      "\n",
      "5. **カレールーを加える**:\n",
      "   - 火を止めてカレールーを加え、よく溶かします。再び弱火にし、10分ほど煮込みます。お好みでガーリックパウダーや生姜を加えて風味を調整します。\n",
      "\n",
      "6. **味を調える**:\n",
      "   - 最後に塩で味を調整し、全体がなじんだら火を止めます。\n",
      "\n",
      "7. **盛り付け**:\n",
      "   - ご飯と一緒に盛り付けて、お好みで福神漬けやらっきょうを添えて完成です。\n",
      "\n",
      "### おすすめのトッピング\n",
      "- チーズ\n",
      "- 生卵（温泉卵や目玉焼き）\n",
      "- 青ねぎやパセリの刻んだもの\n",
      "\n",
      "この基本のカレーはアレンジがしやすいので、野菜や肉を変えて自分好みのカレーを楽しんでください！\n"
     ]
    }
   ],
   "source": [
    "output = chain.invoke({\"dish\": \"カレー\"})\n",
    "print(output)\n"
   ]
  },
  {
   "cell_type": "markdown",
   "metadata": {},
   "source": [
    "### Runnable の実行方法―invoke・stream・batch\n"
   ]
  },
  {
   "cell_type": "code",
   "execution_count": 6,
   "metadata": {
    "execution": {
     "iopub.execute_input": "2024-06-28T02:33:26.545129Z",
     "iopub.status.busy": "2024-06-28T02:33:26.544905Z",
     "iopub.status.idle": "2024-06-28T02:33:32.478679Z",
     "shell.execute_reply": "2024-06-28T02:33:32.478134Z"
    }
   },
   "outputs": [
    {
     "name": "stdout",
     "output_type": "stream",
     "text": [
      "カレーのレシピをご紹介します！以下は基本的なチキンカレーのレシピです。\n",
      "\n",
      "### 材料（4人分）\n",
      "- 鶏もも肉：400g（食べやすい大きさにカット）\n",
      "- 玉ねぎ：2個（みじん切り）\n",
      "- にんにく：2片（みじん切り）\n",
      "- 生姜：1片（みじん切り）\n",
      "- トマト：1個（ざく切り）\n",
      "- カレーパウダー：大さじ2\n",
      "- クミンパウダー：小さじ1\n",
      "- ココナッツミルク：200ml（お好みで）\n",
      "- サラダ油：大さじ2\n",
      "- 塩：適量\n",
      "- 黒胡椒：適量\n",
      "- 水：400ml\n",
      "- パクチー（飾り用）：適量（お好みで）\n",
      "\n",
      "### 作り方\n",
      "1. **下ごしらえ**: 鶏肉に塩と黒胡椒をふりかけて下味をつけておきます。\n",
      "2. **玉ねぎを炒める**: 大きめの鍋にサラダ油を熱し、みじん切りにした玉ねぎを加え、透明になるまで中火で炒めます。\n",
      "3. **香味野菜を加える**: にんにくと生姜を加え、香りが立つまでさらに炒めます。\n",
      "4. **鶏肉を加える**: 鶏肉を鍋に加え、表面が白くなるまで炒めます。\n",
      "5. **スパイスを加える**: カレーパウダーとクミンパウダーを加え、全体に絡めるように炒めます。\n",
      "6. **トマトと水を加える**: ざく切りにしたトマトと水を加え、煮立たせます。アクが出たら取り除きます。\n",
      "7. **煮込む**: 蓋をして中弱火で約20分煮込みます。鶏肉が柔らかくなったら、ココナッツミルクを加え、さらに5分煮ます。\n",
      "8. **味を調える**: 塩で味を調整し、必要に応じて黒胡椒を加えます。\n",
      "9. **盛り付け**: お皿に盛り付け、パクチーを飾って完成です。\n",
      "\n",
      "### 提供方法\n",
      "ご飯やナンと一緒にお楽しみください。お好みでヨーグルトやサラダを添えると、より美味しくいただけます。\n",
      "\n",
      "ぜひお試しください！"
     ]
    }
   ],
   "source": [
    "chain = prompt | model | output_parser\n",
    "\n",
    "for chunk in chain.stream({\"dish\": \"カレー\"}):\n",
    "    print(chunk, end=\"\", flush=True)\n"
   ]
  },
  {
   "cell_type": "code",
   "execution_count": 7,
   "metadata": {
    "execution": {
     "iopub.execute_input": "2024-06-28T02:33:32.480592Z",
     "iopub.status.busy": "2024-06-28T02:33:32.480406Z",
     "iopub.status.idle": "2024-06-28T02:33:38.976064Z",
     "shell.execute_reply": "2024-06-28T02:33:38.974376Z"
    }
   },
   "outputs": [
    {
     "name": "stdout",
     "output_type": "stream",
     "text": [
      "['カレーのレシピをご紹介します。シンプルで美味しい基本的なカレーの作り方です。\\n\\n### 材料（4人分）\\n- 鶏肉（もも肉または胸肉）: 400g\\n- 玉ねぎ: 2個\\n- にんじん: 1本\\n- じゃがいも: 2個\\n- カレールー: 1箱（約200g）\\n- サラダ油: 大さじ2\\n- 水: 800ml\\n- 塩: 適量\\n- 胡椒: 適量\\n- お好みでガーリックパウダーや生姜: 適量\\n\\n### 作り方\\n1. **材料の下ごしらえ**:\\n   - 鶏肉は一口大に切り、塩と胡椒を振っておきます。\\n   - 玉ねぎは薄切り、にんじんは輪切り、じゃがいもは一口大に切ります。\\n\\n2. **炒める**:\\n   - 大きめの鍋にサラダ油を熱し、玉ねぎを中火で炒めます。玉ねぎが透明になるまで炒めます。\\n   - 鶏肉を加え、表面が白くなるまで炒めます。\\n\\n3. **野菜を加える**:\\n   - にんじんとじゃがいもを鍋に加え、全体をよく混ぜます。\\n\\n4. **煮る**:\\n   - 水を加え、強火で煮立たせます。煮立ったら、アクを取り除き、中火にして蓋をし、約15分煮ます。\\n\\n5. **カレールーを加える**:\\n   - 火を止めてカレールーを加え、よく溶かします。再び弱火にして、10分ほど煮込みます。必要に応じて塩や胡椒で味を調整します。\\n\\n6. **仕上げ**:\\n   - お好みでガーリックパウダーや生姜を加えて風味を増します。全体がなじんだら、火を止めて完成です。\\n\\n### サーブ\\nご飯やナンと一緒に盛り付けて、お好みで福神漬けやらっきょうを添えてお楽しみください。\\n\\n### アレンジ\\n- 野菜を追加したい場合は、ピーマンやブロッコリーなどもおすすめです。\\n- 辛さを調整したい場合は、カレールーの種類を変えたり、唐辛子を加えたりしてください。\\n\\n美味しいカレーを楽しんでください！', 'うどんのレシピをご紹介します。シンプルで美味しい「かけうどん」の作り方です。\\n\\n### 材料（2人分）\\n- うどん（乾燥または生）: 2玉\\n- だし汁: 600ml\\n  - だしの素: 大さじ1（または昆布と鰹節を使って自家製だしを取る）\\n  - 水: 600ml\\n- 醤油: 大さじ2\\n- みりん: 大さじ1\\n- 塩: 少々\\n- トッピング（お好みで）:\\n  - ネギ（小口切り）\\n  - 天かす\\n  - かまぼこ\\n  - ほうれん草やわかめ\\n  - たまご（温泉卵や生卵）\\n\\n### 作り方\\n\\n1. **だしを取る**:\\n   - 鍋に水を入れ、だしの素を加えて中火にかけます。自家製だしを使う場合は、昆布を水に浸けておき、沸騰直前に鰹節を加え、火を止めて数分置いてからこします。\\n\\n2. **だし汁を味付け**:\\n   - だしが取れたら、醤油、みりん、塩を加えて味を調えます。軽く煮立たせて、味がなじむようにします。\\n\\n3. **うどんを茹でる**:\\n   - 別の鍋にたっぷりの水を沸かし、うどんをパッケージの指示に従って茹でます。生うどんの場合は約3〜5分、乾燥うどんの場合は約8〜10分が目安です。\\n\\n4. **うどんを盛り付ける**:\\n   - 茹で上がったうどんをざるにあげて水を切り、器に盛ります。\\n\\n5. **だし汁を注ぐ**:\\n   - うどんの上から温めただし汁を注ぎます。\\n\\n6. **トッピングを加える**:\\n   - お好みのトッピング（ネギ、天かす、かまぼこ、ほうれん草、温泉卵など）をのせて完成です。\\n\\n### おすすめのアレンジ\\n- **カレーうどん**: だし汁にカレー粉を加えて、カレーうどんにアレンジ。\\n- **冷やしうどん**: 冷たいだし汁を用意し、茹でたうどんを冷水でしめて、冷やしうどんに。\\n\\nぜひ、お好みのトッピングで楽しんでください！']\n"
     ]
    }
   ],
   "source": [
    "chain = prompt | model | output_parser\n",
    "\n",
    "outputs = chain.batch([{\"dish\": \"カレー\"}, {\"dish\": \"うどん\"}])\n",
    "print(outputs)\n"
   ]
  },
  {
   "cell_type": "markdown",
   "metadata": {},
   "source": [
    "### LCEL の「|」で様々な Runnable を連鎖させる\n"
   ]
  },
  {
   "cell_type": "code",
   "execution_count": 8,
   "metadata": {
    "execution": {
     "iopub.execute_input": "2024-06-28T02:33:38.984366Z",
     "iopub.status.busy": "2024-06-28T02:33:38.983620Z",
     "iopub.status.idle": "2024-06-28T02:33:39.072077Z",
     "shell.execute_reply": "2024-06-28T02:33:39.071585Z"
    }
   },
   "outputs": [],
   "source": [
    "from langchain_core.output_parsers import StrOutputParser\n",
    "from langchain_core.prompts import ChatPromptTemplate\n",
    "from langchain_openai import ChatOpenAI\n",
    "\n",
    "model = ChatOpenAI(model=\"gpt-4o-mini\", temperature=0)\n",
    "\n",
    "output_parser = StrOutputParser()\n"
   ]
  },
  {
   "cell_type": "code",
   "execution_count": 9,
   "metadata": {
    "execution": {
     "iopub.execute_input": "2024-06-28T02:33:39.073954Z",
     "iopub.status.busy": "2024-06-28T02:33:39.073805Z",
     "iopub.status.idle": "2024-06-28T02:33:39.076746Z",
     "shell.execute_reply": "2024-06-28T02:33:39.076291Z"
    }
   },
   "outputs": [],
   "source": [
    "cot_prompt = ChatPromptTemplate.from_messages(\n",
    "    [\n",
    "        (\"system\", \"ユーザーの質問にステップバイステップで回答してください。\"),\n",
    "        (\"human\", \"{question}\"),\n",
    "    ]\n",
    ")\n",
    "\n",
    "cot_chain = cot_prompt | model | output_parser\n"
   ]
  },
  {
   "cell_type": "code",
   "execution_count": 10,
   "metadata": {
    "execution": {
     "iopub.execute_input": "2024-06-28T02:33:39.078597Z",
     "iopub.status.busy": "2024-06-28T02:33:39.078287Z",
     "iopub.status.idle": "2024-06-28T02:33:39.080804Z",
     "shell.execute_reply": "2024-06-28T02:33:39.080464Z"
    }
   },
   "outputs": [],
   "source": [
    "summarize_prompt = ChatPromptTemplate.from_messages(\n",
    "    [\n",
    "        (\"system\", \"ステップバイステップで考えた回答から結論だけ抽出してください。\"),\n",
    "        (\"human\", \"{text}\"),\n",
    "    ]\n",
    ")\n",
    "\n",
    "summarize_chain = summarize_prompt | model | output_parser\n"
   ]
  },
  {
   "cell_type": "code",
   "execution_count": 11,
   "metadata": {
    "execution": {
     "iopub.execute_input": "2024-06-28T02:33:39.082487Z",
     "iopub.status.busy": "2024-06-28T02:33:39.082344Z",
     "iopub.status.idle": "2024-06-28T02:33:42.144944Z",
     "shell.execute_reply": "2024-06-28T02:33:42.144538Z"
    }
   },
   "outputs": [
    {
     "name": "stdout",
     "output_type": "stream",
     "text": [
      "16\n"
     ]
    }
   ],
   "source": [
    "cot_summarize_chain = cot_chain | summarize_chain\n",
    "output = cot_summarize_chain.invoke({\"question\": \"10 + 2 * 3\"})\n",
    "print(output)\n"
   ]
  },
  {
   "cell_type": "markdown",
   "metadata": {},
   "source": [
    "## 5.2. RunnableLambda―任意の関数を Runnable にする\n"
   ]
  },
  {
   "cell_type": "code",
   "execution_count": 12,
   "metadata": {
    "execution": {
     "iopub.execute_input": "2024-06-28T02:33:42.146898Z",
     "iopub.status.busy": "2024-06-28T02:33:42.146736Z",
     "iopub.status.idle": "2024-06-28T02:33:42.204154Z",
     "shell.execute_reply": "2024-06-28T02:33:42.203681Z"
    }
   },
   "outputs": [],
   "source": [
    "from langchain_core.output_parsers import StrOutputParser\n",
    "from langchain_core.prompts import ChatPromptTemplate\n",
    "from langchain_openai import ChatOpenAI\n",
    "\n",
    "prompt = ChatPromptTemplate.from_messages(\n",
    "    [\n",
    "        (\"system\", \"You are a helpful assistant.\"),\n",
    "        (\"human\", \"{input}\"),\n",
    "    ]\n",
    ")\n",
    "\n",
    "model = ChatOpenAI(model=\"gpt-4o-mini\", temperature=0)\n",
    "\n",
    "output_parser = StrOutputParser()\n"
   ]
  },
  {
   "cell_type": "code",
   "execution_count": 13,
   "metadata": {
    "execution": {
     "iopub.execute_input": "2024-06-28T02:33:42.206082Z",
     "iopub.status.busy": "2024-06-28T02:33:42.205909Z",
     "iopub.status.idle": "2024-06-28T02:33:43.030226Z",
     "shell.execute_reply": "2024-06-28T02:33:43.029756Z"
    }
   },
   "outputs": [
    {
     "name": "stdout",
     "output_type": "stream",
     "text": [
      "HELLO! HOW CAN I ASSIST YOU TODAY?\n"
     ]
    }
   ],
   "source": [
    "from langchain_core.runnables import RunnableLambda\n",
    "\n",
    "\n",
    "def upper(text: str) -> str:\n",
    "    return text.upper()\n",
    "\n",
    "\n",
    "chain = prompt | model | output_parser | RunnableLambda(upper)\n",
    "\n",
    "ai_message = chain.invoke({\"input\": \"Hello!\"})\n",
    "print(ai_message)\n"
   ]
  },
  {
   "cell_type": "markdown",
   "metadata": {},
   "source": [
    "### chain デコレーターを使った RunnableLambda の実装\n"
   ]
  },
  {
   "cell_type": "code",
   "execution_count": 14,
   "metadata": {
    "execution": {
     "iopub.execute_input": "2024-06-28T02:33:43.032211Z",
     "iopub.status.busy": "2024-06-28T02:33:43.032048Z",
     "iopub.status.idle": "2024-06-28T02:33:43.501555Z",
     "shell.execute_reply": "2024-06-28T02:33:43.499283Z"
    }
   },
   "outputs": [
    {
     "name": "stdout",
     "output_type": "stream",
     "text": [
      "HELLO! HOW CAN I ASSIST YOU TODAY?\n"
     ]
    }
   ],
   "source": [
    "from langchain_core.runnables import chain\n",
    "\n",
    "\n",
    "@chain\n",
    "def upper(text: str) -> str:\n",
    "    return text.upper()\n",
    "\n",
    "\n",
    "chain = prompt | model | output_parser | upper\n",
    "\n",
    "ai_message = chain.invoke({\"input\": \"Hello!\"})\n",
    "print(ai_message)\n"
   ]
  },
  {
   "cell_type": "markdown",
   "metadata": {},
   "source": [
    "### RunnableLambda への自動変換\n"
   ]
  },
  {
   "cell_type": "code",
   "execution_count": 15,
   "metadata": {
    "execution": {
     "iopub.execute_input": "2024-06-28T02:33:43.508518Z",
     "iopub.status.busy": "2024-06-28T02:33:43.508321Z",
     "iopub.status.idle": "2024-06-28T02:33:43.511080Z",
     "shell.execute_reply": "2024-06-28T02:33:43.510672Z"
    }
   },
   "outputs": [],
   "source": [
    "def upper(text: str) -> str:\n",
    "    return text.upper()\n",
    "\n",
    "\n",
    "chain = prompt | model | output_parser | upper\n"
   ]
  },
  {
   "cell_type": "code",
   "execution_count": 16,
   "metadata": {
    "execution": {
     "iopub.execute_input": "2024-06-28T02:33:43.512885Z",
     "iopub.status.busy": "2024-06-28T02:33:43.512594Z",
     "iopub.status.idle": "2024-06-28T02:33:43.961318Z",
     "shell.execute_reply": "2024-06-28T02:33:43.960803Z"
    }
   },
   "outputs": [
    {
     "name": "stdout",
     "output_type": "stream",
     "text": [
      "HELLO! HOW CAN I ASSIST YOU TODAY?\n"
     ]
    }
   ],
   "source": [
    "ai_message = chain.invoke({\"input\": \"Hello!\"})\n",
    "print(ai_message)\n"
   ]
  },
  {
   "cell_type": "markdown",
   "metadata": {},
   "source": [
    "### Runnable の入力の型と出力の型に注意\n"
   ]
  },
  {
   "cell_type": "code",
   "execution_count": 18,
   "metadata": {
    "execution": {
     "iopub.execute_input": "2024-06-28T02:33:43.963174Z",
     "iopub.status.busy": "2024-06-28T02:33:43.963026Z",
     "iopub.status.idle": "2024-06-28T02:33:43.965674Z",
     "shell.execute_reply": "2024-06-28T02:33:43.965305Z"
    }
   },
   "outputs": [],
   "source": [
    "def upper(text: str) -> str:\n",
    "    return text.upper()\n",
    "\n",
    "\n",
    "chain = prompt | model | upper\n",
    "\n",
    "# 以下のコードを実行するとエラーになります\n",
    "# output = chain.invoke({\"input\": \"Hello!\"})\n"
   ]
  },
  {
   "cell_type": "code",
   "execution_count": 19,
   "metadata": {
    "execution": {
     "iopub.execute_input": "2024-06-28T02:33:43.967542Z",
     "iopub.status.busy": "2024-06-28T02:33:43.967246Z",
     "iopub.status.idle": "2024-06-28T02:33:44.531734Z",
     "shell.execute_reply": "2024-06-28T02:33:44.531210Z"
    }
   },
   "outputs": [],
   "source": [
    "chain = prompt | model | StrOutputParser() | upper\n"
   ]
  },
  {
   "cell_type": "code",
   "execution_count": 20,
   "metadata": {},
   "outputs": [
    {
     "name": "stdout",
     "output_type": "stream",
     "text": [
      "HELLO! HOW CAN I ASSIST YOU TODAY?\n"
     ]
    }
   ],
   "source": [
    "output = chain.invoke({\"input\": \"Hello!\"})\n",
    "print(output)\n"
   ]
  },
  {
   "cell_type": "markdown",
   "metadata": {},
   "source": [
    "### （コラム）独自の関数を stream に対応させたい場合\n"
   ]
  },
  {
   "cell_type": "code",
   "execution_count": 21,
   "metadata": {
    "execution": {
     "iopub.execute_input": "2024-06-28T02:33:44.533838Z",
     "iopub.status.busy": "2024-06-28T02:33:44.533678Z",
     "iopub.status.idle": "2024-06-28T02:33:45.353621Z",
     "shell.execute_reply": "2024-06-28T02:33:45.353115Z"
    }
   },
   "outputs": [
    {
     "name": "stdout",
     "output_type": "stream",
     "text": [
      "HELLO! HOW CAN I ASSIST YOU TODAY?"
     ]
    }
   ],
   "source": [
    "from typing import Iterator\n",
    "\n",
    "\n",
    "def upper(input_stream: Iterator[str]) -> Iterator[str]:\n",
    "    for text in input_stream:\n",
    "        yield text.upper()\n",
    "\n",
    "\n",
    "chain = prompt | model | StrOutputParser() | upper\n",
    "\n",
    "for chunk in chain.stream({\"input\": \"Hello!\"}):\n",
    "    print(chunk, end=\"\", flush=True)\n"
   ]
  },
  {
   "cell_type": "markdown",
   "metadata": {},
   "source": [
    "## 5.3. RunnableParallel―複数の Runnable を並列で処理する\n"
   ]
  },
  {
   "cell_type": "code",
   "execution_count": 22,
   "metadata": {
    "execution": {
     "iopub.execute_input": "2024-06-28T02:33:45.355560Z",
     "iopub.status.busy": "2024-06-28T02:33:45.355402Z",
     "iopub.status.idle": "2024-06-28T02:33:45.407879Z",
     "shell.execute_reply": "2024-06-28T02:33:45.407407Z"
    }
   },
   "outputs": [],
   "source": [
    "from langchain_core.output_parsers import StrOutputParser\n",
    "from langchain_core.prompts import ChatPromptTemplate\n",
    "from langchain_openai import ChatOpenAI\n",
    "\n",
    "model = ChatOpenAI(model=\"gpt-4o-mini\", temperature=0)\n",
    "output_parser = StrOutputParser()\n"
   ]
  },
  {
   "cell_type": "code",
   "execution_count": 23,
   "metadata": {
    "execution": {
     "iopub.execute_input": "2024-06-28T02:33:45.409670Z",
     "iopub.status.busy": "2024-06-28T02:33:45.409524Z",
     "iopub.status.idle": "2024-06-28T02:33:45.412232Z",
     "shell.execute_reply": "2024-06-28T02:33:45.411889Z"
    }
   },
   "outputs": [],
   "source": [
    "optimistic_prompt = ChatPromptTemplate.from_messages(\n",
    "    [\n",
    "        (\"system\", \"あなたは楽観主義者です。ユーザーの入力に対して楽観的な意見をください。\"),\n",
    "        (\"human\", \"{topic}\"),\n",
    "    ]\n",
    ")\n",
    "optimistic_chain = optimistic_prompt | model | output_parser\n"
   ]
  },
  {
   "cell_type": "code",
   "execution_count": 24,
   "metadata": {
    "execution": {
     "iopub.execute_input": "2024-06-28T02:33:45.414087Z",
     "iopub.status.busy": "2024-06-28T02:33:45.413807Z",
     "iopub.status.idle": "2024-06-28T02:33:45.416778Z",
     "shell.execute_reply": "2024-06-28T02:33:45.416359Z"
    }
   },
   "outputs": [],
   "source": [
    "pessimistic_prompt = ChatPromptTemplate.from_messages(\n",
    "    [\n",
    "        (\"system\", \"あなたは悲観主義者です。ユーザーの入力に対して悲観的な意見をください。\"),\n",
    "        (\"human\", \"{topic}\"),\n",
    "    ]\n",
    ")\n",
    "pessimistic_chain = pessimistic_prompt | model | output_parser\n"
   ]
  },
  {
   "cell_type": "code",
   "execution_count": 25,
   "metadata": {
    "execution": {
     "iopub.execute_input": "2024-06-28T02:33:45.418636Z",
     "iopub.status.busy": "2024-06-28T02:33:45.418458Z",
     "iopub.status.idle": "2024-06-28T02:33:48.115947Z",
     "shell.execute_reply": "2024-06-28T02:33:48.115444Z"
    }
   },
   "outputs": [
    {
     "name": "stdout",
     "output_type": "stream",
     "text": [
      "{'optimistic_opinion': '生成AIの進化は本当に素晴らしいですね！技術が進むことで、私たちの生活がより便利で豊かになる可能性が広がっています。クリエイティブな作業や問題解決の手助けをしてくれるAIが登場することで、私たちのアイデアや想像力をさらに引き出してくれるでしょう。また、生成AIは教育や医療、エンターテインメントなど、さまざまな分野での革新を促進し、より良い未来を築く手助けをしてくれると信じています。これからの進化が楽しみですね！',\n",
      " 'pessimistic_opinion': '生成AIの進化は確かに目覚ましいものがありますが、その一方で多くの懸念も伴っています。技術が進化することで、私たちの仕事が奪われたり、情報の信頼性が低下したりするリスクが高まっています。さらに、AIが生成するコンテンツが人間の創造性を脅かし、文化や芸術の価値が薄れてしまう可能性もあります。結局のところ、進化する技術が私たちの生活を便利にする一方で、私たち自身の存在意義を問い直させるような状況を生むのではないでしょうか。'}\n"
     ]
    }
   ],
   "source": [
    "import pprint\n",
    "from langchain_core.runnables import RunnableParallel\n",
    "\n",
    "parallel_chain = RunnableParallel(\n",
    "    {\n",
    "        \"optimistic_opinion\": optimistic_chain,\n",
    "        \"pessimistic_opinion\": pessimistic_chain,\n",
    "    }\n",
    ")\n",
    "\n",
    "output = parallel_chain.invoke({\"topic\": \"生成AIの進化について\"})\n",
    "pprint.pprint(output)\n"
   ]
  },
  {
   "cell_type": "markdown",
   "metadata": {},
   "source": [
    "### RunnableParallel の出力を Runnable の入力に連結する\n"
   ]
  },
  {
   "cell_type": "code",
   "execution_count": 26,
   "metadata": {
    "execution": {
     "iopub.execute_input": "2024-06-28T02:33:48.117879Z",
     "iopub.status.busy": "2024-06-28T02:33:48.117728Z",
     "iopub.status.idle": "2024-06-28T02:33:54.979992Z",
     "shell.execute_reply": "2024-06-28T02:33:54.978363Z"
    }
   },
   "outputs": [],
   "source": [
    "synthesize_prompt = ChatPromptTemplate.from_messages(\n",
    "    [\n",
    "        (\"system\", \"あなたは客観的AIです。2つの意見をまとめてください。\"),\n",
    "        (\"human\", \"楽観的意見: {optimistic_opinion}\\n悲観的意見: {pessimistic_opinion}\"),\n",
    "    ]\n",
    ")\n"
   ]
  },
  {
   "cell_type": "code",
   "execution_count": 27,
   "metadata": {},
   "outputs": [
    {
     "name": "stdout",
     "output_type": "stream",
     "text": [
      "生成AIの進化については、楽観的な意見と悲観的な意見が存在します。楽観的な見方では、生成AIの技術が進化することで、私たちの生活が便利で豊かになる可能性が広がり、クリエイティブな作業や問題解決のパートナーとしての役割を果たすことが期待されています。この進化により、新しい発見や革新が続き、未来が明るくなることへの期待感が高まっています。\n",
      "\n",
      "一方で、悲観的な見方では、生成AIの進化には多くの懸念が伴います。技術の進展が仕事の喪失や情報の信頼性の低下を引き起こすリスクがあり、AIが生成するコンテンツが人間の創造性を脅かす可能性も指摘されています。このような便利さの裏には不安がつきまとい、未来が不透明になる懸念があるとされています。\n",
      "\n",
      "総じて、生成AIの進化は多くの可能性を秘めている一方で、リスクや懸念も無視できない状況であると言えます。\n"
     ]
    }
   ],
   "source": [
    "synthesize_chain = (\n",
    "    RunnableParallel(\n",
    "        {\n",
    "            \"optimistic_opinion\": optimistic_chain,\n",
    "            \"pessimistic_opinion\": pessimistic_chain,\n",
    "        }\n",
    "    )\n",
    "    | synthesize_prompt\n",
    "    | model\n",
    "    | output_parser\n",
    ")\n",
    "\n",
    "output = synthesize_chain.invoke({\"topic\": \"生成AIの進化について\"})\n",
    "print(output)\n"
   ]
  },
  {
   "cell_type": "markdown",
   "metadata": {},
   "source": [
    "### RunnableParallel への自動変換\n"
   ]
  },
  {
   "cell_type": "code",
   "execution_count": 28,
   "metadata": {
    "execution": {
     "iopub.execute_input": "2024-06-28T02:33:54.986651Z",
     "iopub.status.busy": "2024-06-28T02:33:54.986098Z",
     "iopub.status.idle": "2024-06-28T02:33:54.994428Z",
     "shell.execute_reply": "2024-06-28T02:33:54.992735Z"
    }
   },
   "outputs": [],
   "source": [
    "synthesize_chain = (\n",
    "    {\n",
    "        \"optimistic_opinion\": optimistic_chain,\n",
    "        \"pessimistic_opinion\": pessimistic_chain,\n",
    "    }\n",
    "    | synthesize_prompt\n",
    "    | model\n",
    "    | output_parser\n",
    ")\n"
   ]
  },
  {
   "cell_type": "code",
   "execution_count": 29,
   "metadata": {
    "execution": {
     "iopub.execute_input": "2024-06-28T02:33:55.000866Z",
     "iopub.status.busy": "2024-06-28T02:33:55.000312Z",
     "iopub.status.idle": "2024-06-28T02:34:01.170210Z",
     "shell.execute_reply": "2024-06-28T02:34:01.169705Z"
    }
   },
   "outputs": [
    {
     "name": "stdout",
     "output_type": "stream",
     "text": [
      "生成AIの進化については、楽観的な意見と悲観的な意見が存在します。楽観的な見方では、生成AIの技術が進化することで、私たちの生活が便利で豊かになり、クリエイティブな作業や問題解決の支援を通じて、AIが人間のアイデアを実現するパートナーとしての役割を果たすことが期待されています。また、教育や医療、エンターテインメントなどの分野での革新が進むことで、より多くの人々が新しい知識や体験にアクセスでき、社会全体が進化する可能性があるとされています。\n",
      "\n",
      "一方で、悲観的な見方では、生成AIの進化には多くの懸念が伴い、仕事の喪失や情報の信頼性の低下といったリスクが高まると指摘されています。AIが生成するコンテンツが人間の創造性を脅かし、思考や感情に悪影響を及ぼす可能性も懸念されています。このように、便利さの裏には不安がつきまとい、未来が不透明になるのではないかという意見もあります。\n",
      "\n",
      "総じて、生成AIの進化は多くの可能性を秘めている一方で、リスクや懸念も無視できないため、技術の進展に対して慎重な姿勢が求められると言えるでしょう。\n"
     ]
    }
   ],
   "source": [
    "output = synthesize_chain.invoke({\"topic\": \"生成AIの進化について\"})\n",
    "print(output)\n"
   ]
  },
  {
   "cell_type": "markdown",
   "metadata": {},
   "source": [
    "### RunnableLambda との組み合わせ―itemgetter を使う例\n"
   ]
  },
  {
   "cell_type": "code",
   "execution_count": 30,
   "metadata": {
    "execution": {
     "iopub.execute_input": "2024-06-28T02:34:01.172136Z",
     "iopub.status.busy": "2024-06-28T02:34:01.171982Z",
     "iopub.status.idle": "2024-06-28T02:34:01.174756Z",
     "shell.execute_reply": "2024-06-28T02:34:01.174370Z"
    }
   },
   "outputs": [
    {
     "name": "stdout",
     "output_type": "stream",
     "text": [
      "生成AIの進化について\n"
     ]
    }
   ],
   "source": [
    "from operator import itemgetter\n",
    "\n",
    "topic_getter = itemgetter(\"topic\")\n",
    "topic = topic_getter({\"topic\": \"生成AIの進化について\"})\n",
    "print(topic)\n"
   ]
  },
  {
   "cell_type": "code",
   "execution_count": 31,
   "metadata": {
    "execution": {
     "iopub.execute_input": "2024-06-28T02:34:01.176493Z",
     "iopub.status.busy": "2024-06-28T02:34:01.176278Z",
     "iopub.status.idle": "2024-06-28T02:34:09.682638Z",
     "shell.execute_reply": "2024-06-28T02:34:09.682146Z"
    }
   },
   "outputs": [
    {
     "name": "stdout",
     "output_type": "stream",
     "text": [
      "生成AIの進化に関する意見をまとめると、以下のようになります。\n",
      "\n",
      "**楽観的意見:** 生成AIの進化は、私たちの生活を便利で豊かにする可能性を広げています。AIはクリエイティブな作業や問題解決のサポートを行い、私たちのアイデアを実現するためのパートナーとして機能しています。また、教育、医療、エンターテインメントなどの分野での革新を促進し、より多くの人々が新しい知識や体験にアクセスできるようになることで、社会全体の進化が期待されます。\n",
      "\n",
      "**悲観的意見:** 一方で、生成AIの進化には多くの懸念も伴います。技術の進化により、仕事が奪われるリスクや情報の信頼性が低下する可能性が高まっています。AIが生成するコンテンツの氾濫により、真実と虚偽の区別が難しくなり、社会が混乱する恐れもあります。進化する技術が便利さをもたらす一方で、私たちの未来を脅かす要因にもなり得るという点が懸念されています。\n"
     ]
    }
   ],
   "source": [
    "from operator import itemgetter\n",
    "\n",
    "synthesize_prompt = ChatPromptTemplate.from_messages(\n",
    "    [\n",
    "        (\n",
    "            \"system\",\n",
    "            \"あなたは客観的AIです。{topic}について2つの意見をまとめてください。\",\n",
    "        ),\n",
    "        (\n",
    "            \"human\",\n",
    "            \"楽観的意見: {optimistic_opinion}\\n悲観的意見: {pessimistic_opinion}\",\n",
    "        ),\n",
    "    ]\n",
    ")\n",
    "\n",
    "synthesize_chain = (\n",
    "    {\n",
    "        \"optimistic_opinion\": optimistic_chain,\n",
    "        \"pessimistic_opinion\": pessimistic_chain,\n",
    "        \"topic\": itemgetter(\"topic\"),\n",
    "    }\n",
    "    | synthesize_prompt\n",
    "    | model\n",
    "    | output_parser\n",
    ")\n",
    "\n",
    "output = synthesize_chain.invoke({\"topic\": \"生成AIの進化について\"})\n",
    "print(output)\n"
   ]
  },
  {
   "cell_type": "markdown",
   "metadata": {},
   "source": [
    "## 5.4. RunnablePassthrough―入力をそのまま出力する\n"
   ]
  },
  {
   "cell_type": "code",
   "execution_count": 37,
   "metadata": {},
   "outputs": [],
   "source": [
    "from langchain_core.prompts import ChatPromptTemplate\n",
    "from langchain_openai import ChatOpenAI\n",
    "\n",
    "prompt = ChatPromptTemplate.from_template('''\\\n",
    "以下の文脈だけを踏まえて質問に回答してください。\n",
    "\n",
    "文脈: \"\"\"\n",
    "{context}\n",
    "\"\"\"\n",
    "\n",
    "質問: {question}\n",
    "''')\n",
    "\n",
    "model = ChatOpenAI(model_name=\"gpt-4o-mini\", temperature=0)\n"
   ]
  },
  {
   "cell_type": "code",
   "execution_count": 38,
   "metadata": {},
   "outputs": [],
   "source": [
    "from langchain_community.retrievers import TavilySearchAPIRetriever\n",
    "\n",
    "retriever = TavilySearchAPIRetriever(k=3)\n"
   ]
  },
  {
   "cell_type": "code",
   "execution_count": 39,
   "metadata": {},
   "outputs": [
    {
     "name": "stdout",
     "output_type": "stream",
     "text": [
      "東京の今日、2024年11月19日(火)の天気は「晴時々曇」で、最高気温は13℃、最低気温は8℃です。降水確率は0％で、北の風が吹く予報です。\n"
     ]
    }
   ],
   "source": [
    "from langchain_core.runnables import RunnablePassthrough\n",
    "\n",
    "chain = (\n",
    "    {\"context\": retriever, \"question\": RunnablePassthrough()}\n",
    "    | prompt\n",
    "    | model\n",
    "    | StrOutputParser()\n",
    ")\n",
    "\n",
    "output = chain.invoke(\"東京の今日の天気は？\")\n",
    "print(output)\n"
   ]
  },
  {
   "cell_type": "markdown",
   "metadata": {},
   "source": [
    "### assign―RunnableParallel に値を追加する\n"
   ]
  },
  {
   "cell_type": "code",
   "execution_count": 45,
   "metadata": {
    "execution": {
     "iopub.execute_input": "2024-06-28T02:34:14.820735Z",
     "iopub.status.busy": "2024-06-28T02:34:14.820536Z",
     "iopub.status.idle": "2024-06-28T02:34:20.477887Z",
     "shell.execute_reply": "2024-06-28T02:34:20.477378Z"
    }
   },
   "outputs": [
    {
     "name": "stdout",
     "output_type": "stream",
     "text": [
      "{'answer': '東京の今日の天気は、晴れ時々曇で、最高気温は13℃、最低気温は8℃です。降水確率は0％です。',\n",
      " 'context': [Document(metadata={'title': '今日の天気東京 - 今日の天気予報東京時間ごと', 'source': 'https://sharpweather.com/ja/tokyo/today/', 'score': 0.81204927, 'images': []}, page_content='今日の天気東京. 土曜日, 15 12月 2024 . 日中 13:00 +7°c . 晴れ'),\n",
      "             Document(metadata={'title': '東京都の実況天気(今日の最高・最低気温) - 日本気象協会 tenki.jp', 'source': 'https://tenki.jp/live/3/16/temp.html', 'score': 0.8016413, 'images': []}, page_content='東京都の実況天気(今日の最高・最低気温) - 日本気象協会 tenki.jp tenki.jpトップ｜ サイトマップ｜ ヘルプ tenki.jp 雨雲レーダー PM2.5分布予測 雷(予報) 雨雲レーダー(過去) 雷(実況) 雨雲レーダー PM2.5分布予測 東京都の実況天気19日03:00現在 東京都 各地の実況天気19日03:00現在 | 名前 | 天気 | 気温 | 最高/最低気温 | 湿度 | 降水量(3時間) | | 大島 |  | 曇り | 10.8℃ | (観測中)\\xa0/\\xa0(観測中) | 58% | 0.0mm | 雨雲レーダー 雨雲 PM2.5 気温 降水量 気温(高温順) 気温(低温順) 現在 24時間 現在 現在 東京都 南鳥島25.6℃ 東京都 父島23.9℃ 東京都 八丈島15.3℃ 東京都 三宅坪田13.9℃ 東京都 三宅島13.5℃ 東京都 新島13.3℃ 東京都 神津島12.6℃ 東京都 大島北ノ山10.4℃ 東京都 大島10.0℃ 19日は今季一番の冷え込み 東京や名古屋6℃前後 日中も師走並み 冬の便り続々か 11/18(月)18:05 秋田で初雪 明日19日朝にかけて北日本で雪強まる所も 積雪や路面の凍結に注意 11/18(月)17:36 中国地方 この先寒気流入も一時的 次の寒気は23日 寒暖差大 体調管理に注意を 11/18(月)16:58 tenki.jp公式SNS tenki.jp公式アプリ tenki.jp tenki.jp 登山天気 tenki.jpトップ 雨雲レーダー PM2.5分布予測 雷(予報) 雨雲(過去) 雷(実況) Copyright (C) 2024 日本気象協会 All Rights Reserved. Copyright (C) 2024 ALiNKインターネット All Rights Reserved.'),\n",
      "             Document(metadata={'title': '東京（東京）の天気 - Yahoo!天気・災害', 'source': 'https://weather.yahoo.co.jp/weather/jp/13/4410.html', 'score': 0.8010817, 'images': []}, page_content='パーソナル天気 現在位置： 天気・災害トップ > 関東・信越 > 東京都 > 東京（東京） 今日明日の天気 2024年11月19日 4時00分発表 11月19日(火) 晴時々曇 13℃[-7] 8℃[-3] 時間  0-6 6-12    12-18   18-24 降水  0％  0％  0％  0％ 風： 北の風後北東の風２３区西部では北の風やや強く 波： 1.5メートル後0.5メートル 11月20日(水) 曇のち雨 12℃[-1] 7℃[-1] 時間  0-6 6-12    12-18   18-24 降水  0％  10％ 30％ 60％ 風： 北西の風後東の風 波： 0.5メートル 東京地方の警報・注意報 注意報 強風、波浪 週間天気 2024年11月19日 2時00分発表 日付 11月21日 (木) 11月22日 (金) 11月23日 (土) 11月24日 (日) 11月25日 (月) 11月26日 (火) 天気 雨のち晴   晴時々曇   晴時々曇   晴時々曇   晴時々曇   曇一時雨 気温（℃）   14 降水 確率（％）   60  0   0   0   10  50 2024年11月19日 4時00分 発表 (C) Mapbox (C) OpenStreetMap (C) LY Corporation Yahoo!地図ガイドライン (C) Mapbox (C) OpenStreetMap (C) LY Corporation Yahoo!地図ガイドライン 11/18(月)18時\\u3000師走の寒さ\\u3000今季一番低く\\u3000北日本中心に積雪増加も Copyright (C) 2024 Weather Map Co., Ltd. All Rights Reserved. © LY Corporation')],\n",
      " 'question': '東京の今日の天気は？'}\n"
     ]
    }
   ],
   "source": [
    "import pprint\n",
    "\n",
    "chain = {\n",
    "    \"question\": RunnablePassthrough(),\n",
    "    \"context\": retriever,\n",
    "} | RunnablePassthrough.assign(answer=prompt | model | StrOutputParser())\n",
    "\n",
    "output = chain.invoke(\"東京の今日の天気は？\")\n",
    "pprint.pprint(output)\n"
   ]
  },
  {
   "cell_type": "code",
   "execution_count": 41,
   "metadata": {
    "execution": {
     "iopub.execute_input": "2024-06-28T02:34:20.479839Z",
     "iopub.status.busy": "2024-06-28T02:34:20.479664Z",
     "iopub.status.idle": "2024-06-28T02:34:27.723756Z",
     "shell.execute_reply": "2024-06-28T02:34:27.723236Z"
    }
   },
   "outputs": [],
   "source": [
    "from langchain_core.runnables import RunnableParallel\n",
    "\n",
    "chain = RunnableParallel(\n",
    "    {\n",
    "        \"question\": RunnablePassthrough(),\n",
    "        \"context\": retriever,\n",
    "    }\n",
    ").assign(answer=prompt | model | StrOutputParser())\n"
   ]
  },
  {
   "cell_type": "code",
   "execution_count": 43,
   "metadata": {},
   "outputs": [
    {
     "name": "stdout",
     "output_type": "stream",
     "text": [
      "{'answer': '東京の今日、2024年11月19日(火)の天気は「晴時々曇」で、最高気温は13℃、最低気温は8℃です。降水確率は0％で、北の風が吹く予報です。',\n",
      " 'context': [Document(metadata={'title': '東京（東京）の天気 - Yahoo!天気・災害', 'source': 'https://weather.yahoo.co.jp/weather/jp/13/4410.html', 'score': 0.8010817, 'images': []}, page_content='パーソナル天気 現在位置： 天気・災害トップ > 関東・信越 > 東京都 > 東京（東京） 今日明日の天気 2024年11月19日 4時00分発表 11月19日(火) 晴時々曇 13℃[-7] 8℃[-3] 時間  0-6 6-12    12-18   18-24 降水  0％  0％  0％  0％ 風： 北の風後北東の風２３区西部では北の風やや強く 波： 1.5メートル後0.5メートル 11月20日(水) 曇のち雨 12℃[-1] 7℃[-1] 時間  0-6 6-12    12-18   18-24 降水  0％  10％ 30％ 60％ 風： 北西の風後東の風 波： 0.5メートル 東京地方の警報・注意報 注意報 強風、波浪 週間天気 2024年11月19日 2時00分発表 日付 11月21日 (木) 11月22日 (金) 11月23日 (土) 11月24日 (日) 11月25日 (月) 11月26日 (火) 天気 雨のち晴   晴時々曇   晴時々曇   晴時々曇   晴時々曇   曇一時雨 気温（℃）   14 降水 確率（％）   60  0   0   0   10  50 2024年11月19日 4時00分 発表 (C) Mapbox (C) OpenStreetMap (C) LY Corporation Yahoo!地図ガイドライン (C) Mapbox (C) OpenStreetMap (C) LY Corporation Yahoo!地図ガイドライン 11/18(月)18時\\u3000師走の寒さ\\u3000今季一番低く\\u3000北日本中心に積雪増加も Copyright (C) 2024 Weather Map Co., Ltd. All Rights Reserved. © LY Corporation'),\n",
      "             Document(metadata={'title': '東京都中央区の天気予報 - ウェザーニュース', 'source': 'https://weathernews.jp/onebox/tenki/tokyo/13102/', 'score': 0.7507177, 'images': []}, page_content='{{item.cityname}}\\n天気予報を検索\\n天気\\n防災・減災\\n自然・季節・健康\\n便利なメニュー\\nほか全メニュー\\n令和6年能登半島地震\\u3000特設サイト\\n東京都中央区の天気予報\\n5分ごと\\n1時間ごと\\n今日明日\\n週間天気\\n日\\n天気\\n気温\\n降水\\n確率\\n今日\\n1月12日 (金)\\n最高14℃\\n最低3℃\\n午前10%\\n午後10%\\n明日\\n1月13日 (土)\\n最高11℃\\n最低3℃\\n午前10%\\n午後-%\\n冬晴れ\\u3000体感温度の調節を\\n今日は冬晴れで、洗濯物も良く乾きそうです。昼間は昨日よりも日差しの温もりを感じられます。朝晩はグッと冷えるため、特に受験生は体調管理を万全に。\\n5分ごと\\n1時間ごと\\n時\\n分\\n天気\\n0時\\n・\\n星はっきり\\n20\\n星はっきり\\n・\\n星はっきり\\n30\\n星はっきり\\n・\\n星はっきり\\n40\\n星はっきり\\n・\\n星はっきり\\n50\\n星はっきり\\n・\\n星はっきり\\n1時\\n00\\n星はっきり\\n・\\n星はっきり\\n10\\n星はっきり\\n日\\n時\\n天気\\n降水\\n気温\\n風\\n12日(金)\\n1\\n0\\n3℃\\n1m\\n2\\n0\\n3℃\\n1m\\n3\\n0\\n3℃\\n1m\\n4\\n0\\n4℃\\n1m\\n5\\n0\\n4℃\\n1m\\n6\\n0\\n4℃\\n1m\\n7\\n0\\n4℃\\n2m\\n8\\n0\\n4℃\\n2m\\n9\\n0\\n5℃\\n2m\\n10\\n0\\n7℃\\n2m\\n11\\n0\\n9℃\\n2m\\n12\\n0\\n10℃\\n2m\\n13\\n0\\n12℃\\n2m\\n14\\n0\\n13℃\\n2m\\n15\\n0\\n14℃\\n2m\\n16\\n0\\n14℃\\n2m\\n17\\n0\\n14℃\\n2m\\n18\\n0\\n14℃\\n1m\\n19\\n0\\n13℃\\n2m\\n20\\n0\\n11℃\\n2m\\n21\\n0\\n10℃\\n2m\\n22\\n0\\n10℃\\n2m\\n23\\n0\\n9℃\\n2m\\n13日(土)\\n0\\n0\\n8℃\\n2m\\n1\\n0\\n7℃\\n2m\\n2\\n0\\n6℃\\n2m\\n3\\n0\\n6℃\\n2m\\n4\\n0\\n5℃\\n2m\\n5\\n0\\n5℃\\n2m\\n6\\n0\\n5℃\\n2m\\n7\\n0\\n5℃\\n2m\\n8\\n0\\n6℃\\n2m\\n9\\n0\\n6℃\\n2m\\n10\\n0\\n7℃\\n2m\\n11\\n0\\n8℃\\n2m\\n12\\n0\\n9℃\\n2m\\n13\\n0\\n10℃\\n3m\\n14\\n0\\n10℃\\n3m\\n15\\n0\\n11℃\\n2m\\n16\\n1ミリ\\n11℃\\n1m\\n17\\n1ミリ\\n8℃\\n4m\\n18\\n0\\n6℃\\n4m\\n19\\n0\\n5℃\\n4m\\n20\\n0\\n4℃\\n5m\\n21\\n0\\n3℃\\n5m\\n22\\n0\\n4℃\\n5m\\n23\\n0\\n4℃\\n6m\\n14日(日)\\n0\\n0\\n4℃\\n7m\\n1\\n0\\n4℃\\n6m\\n2\\n0\\n4℃\\n5m\\n3\\n0\\n4℃\\n5m\\n4\\n0\\n4℃\\n4m\\n5\\n0\\n3℃\\n3m\\n6\\n0\\n4℃\\n2m\\n7\\n0\\n4℃\\n2m\\n8\\n0\\n4℃\\n2m\\n9\\n0\\n5℃\\n1m\\n10\\n0\\n6℃\\n1m\\n11\\n0\\n7℃\\n2m\\n12\\n0\\n9℃\\n3m\\n13\\n0\\n10℃\\n4m\\n14\\n0\\n11℃\\n5m\\n15\\n0\\n12℃\\n6m\\n16\\n0\\n12℃\\n7m\\n17\\n0\\n12℃\\n6m\\n18\\n0\\n12℃\\n5m\\n19\\n0\\n11℃\\n5m\\n20\\n0\\n10℃\\n5m\\n21\\n0\\n10℃\\n4m\\n22\\n0\\n10℃\\n5m\\n23\\n0\\n9℃\\n5m\\n15日(月)\\n0\\n0\\n9℃\\n5m\\n冬晴れ\\u3000体感温度の調節を\\n今日は冬晴れで、洗濯物も良く乾きそうです。昼間は昨日よりも日差しの温もりを感じられます。朝晩はグッと冷えるため、特に受験生は体調管理を万全に。\\n週間(10日間)\\n日\\n天気\\n最高\\n最低\\n降水\\n13(土)\\n11℃\\n3℃\\n50%\\n14(日)\\n12℃\\n2℃\\n20%\\n15(月)\\n12℃\\n4℃\\n20%\\n16(火)\\n10℃\\n1℃\\n20%\\n17(水)\\n12℃\\n2℃\\n20%\\n18(木)\\n14℃\\n3℃\\n30%\\n19(金)\\n12℃\\n5℃\\n40%\\n20(土)\\n10℃\\n5℃\\n40%\\n21(日)\\n10℃\\n4℃\\n60%\\n晴れる日が多い\\u3000寒暖差に注意\\n晴れる日が多く、日差しの温もりを感じられそうです。空気が乾燥しているため、火の取り扱いには要注意。日ごとや一日の寒暖差で体調を崩さないよう、お気をつけください。\\nお天気ニュース\\n1月11日(木)\\u3000各地の気温変化と最適な服装\\n2024.01.11 15:51\\n明日12日(金)の天気予報\\u3000北陸は雨で土砂災害に警戒\\u3000太平洋側は穏やかな空\\n2024.01.11 17:00\\n13日(土)の関東は天気急変\\u3000都心でも雨に雪が混じる可能性\\n2024.01.11 18:21\\nお天気ニュースをもっと読む →\\nお天気ニュース\\n1月11日(木)\\u3000各地の気温変化と最適な服装\\n2024.01.11 15:51\\n明日12日(金)の天気予報\\u3000北陸は雨で土砂災害に警戒\\u3000太平洋側は穏やかな空\\n2024.01.11 17:00\\n13日(土)の関東は天気急変\\u3000都心でも雨に雪が混じる可能性\\n2024.01.11 18:21\\nお天気ニュースをもっと読む →\\n東京都中央区付近の天気\\n雨雲レーダー\\n地図を拡大\\n今の天気\\nグラフ\\n00:00\\n空の写真\\n空の写真をもっと見る\\nライブ動画番組\\n【ライブ放送中】最新地震・気象情報\\u3000ウェザーニュースLiVE\\n東京都中央区付近の観測値\\n(℃)\\n(m/s)\\n(mm/h)\\n(分)\\n続きを見る\\n東京都の都市の天気予報\\n周辺の都道府県\\nお天気ニュース\\n樽酒の鏡開きに込められた意味とは\\u3000声かけの回数も決まっていた？\\n2024.01.11 05:00\\n冬に大活躍するフリースの“ふわふわ感”を復活させる洗濯方法\\n2024.01.11 05:00\\n桜開花予想2024\\u3000各地とも平年より早く、東京は3月17日予想\\n 2024.01.11 12:00\\n週間天気\\u3000北陸など日本海側は雪や雨\\u3000関東も土曜に天気崩れる可能性\\n2024.01.11 15:00\\n気象庁1か月予報\\u3000暖冬傾向続く\\u3000冬将軍は出番なし\\n2024.01.11 16:34\\nお天気ニュースをもっと読む →\\nいまおすすめのメニュー\\n雨雲レーダー\\n雨雲の動きと予想を確認\\nウェザーリポート\\n全国から届くお天気リポート\\n防災・減災メニュー\\n天気メニュー\\n自然・季節・レジャー情報\\n予報精度向上の取り組みについて\\n東京都中央区付近の空の写真\\nウェザーニュース'),\n",
      "             Document(metadata={'title': '東京の14日間(2週間)の1時間ごとの天気予報 - 東進', 'source': 'https://www.toshin.com/weather/detail?id=56682', 'score': 0.74161834, 'images': []}, page_content='Home   >  東京都   >  千代田区   >  東京   >  14日間(2週間)の1時間ごとの天気予報    東京の天気 リロードすると1時間ごとに更新されます。 今日 2024年 9月22日(日) 28℃/23℃  明日 2024年 9月23日(月) 30℃/22℃  明日 2024年 9月23日(月) 30℃/22℃  2024年 9月24日(火) 27℃/20℃  2024年 9月24日(火) 27℃/20℃  2024年 9月25日(水) 26℃/21℃  2024年 9月25日(水) 26℃/21℃  2024年 9月26日(木) 27℃/22℃  2024年 9月26日(木) 27℃/22℃  2024年 9月27日(金) 29℃/21℃  2024年 9月27日(金) 29℃/21℃  2024年 9月28日(土) 29℃/21℃  2024年 9月28日(土) 29℃/21℃  2024年 9月29日(日) 28℃/22℃  2024年 9月29日(日) 28℃/22℃  2024年 9月30日(月) 26℃/20℃  2024年 9月30日(月) 26℃/20℃  2024年 10月1日(火) 26℃/19℃  2024年 10月1日(火) 26℃/19℃  2024年 10月2日(水) 24℃/23℃  2024年 10月2日(水) 24℃/23℃  2024年 10月3日(木) 27℃/22℃  2024年 10月3日(木) 27℃/22℃  2024年 10月4日(金) 30℃/25℃  2024年 10月4日(金) 30℃/25℃  2024年 10月5日(土) 24℃/22℃  2024年 10月5日(土) 24℃/22℃  2024年 10月6日(日) 今日から２週間分まで先の予報が時間ごとに見られます。 1時間予報 今日から１ヶ月先、１ヶ月以上先の予報が見られます。 90日間予報 14日間の天気日付をクリックすると、1時間ごとの天気やその日の詳細が見られます。 1時間ごとの天気 時間 天気 気温(℃) 降水量(mm/h) 気温(℃) 気温(℃) 気温(℃) 気温(℃) 気温(℃) 気温(℃) 気温(℃) 気温(℃) 気温(℃) 気温(℃) 気温(℃) 気温(℃) 気温(℃)')],\n",
      " 'question': '東京の今日の天気は？'}\n"
     ]
    }
   ],
   "source": [
    "output = chain.invoke(\"東京の今日の天気は？\")\n",
    "pprint.pprint(output)\n"
   ]
  },
  {
   "cell_type": "markdown",
   "metadata": {},
   "source": [
    "#### ＜補足：pick ＞\n"
   ]
  },
  {
   "cell_type": "code",
   "execution_count": 46,
   "metadata": {
    "execution": {
     "iopub.execute_input": "2024-06-28T02:34:27.725885Z",
     "iopub.status.busy": "2024-06-28T02:34:27.725708Z",
     "iopub.status.idle": "2024-06-28T02:34:34.101909Z",
     "shell.execute_reply": "2024-06-28T02:34:34.101439Z"
    }
   },
   "outputs": [],
   "source": [
    "chain = (\n",
    "    RunnableParallel(\n",
    "        {\n",
    "            \"question\": RunnablePassthrough(),\n",
    "            \"context\": retriever,\n",
    "        }\n",
    "    )\n",
    "    .assign(answer=prompt | model | StrOutputParser())\n",
    "    .pick([\"context\", \"answer\"])\n",
    ")\n"
   ]
  },
  {
   "cell_type": "code",
   "execution_count": 47,
   "metadata": {},
   "outputs": [
    {
     "name": "stdout",
     "output_type": "stream",
     "text": [
      "{'context': [Document(metadata={'title': '東京（東京）の天気 - Yahoo!天気・災害', 'source': 'https://weather.yahoo.co.jp/weather/jp/13/4410.html', 'score': 0.8010817, 'images': []}, page_content='パーソナル天気 現在位置： 天気・災害トップ > 関東・信越 > 東京都 > 東京（東京） 今日明日の天気 2024年11月19日 4時00分発表 11月19日(火) 晴時々曇 13℃[-7] 8℃[-3] 時間  0-6 6-12    12-18   18-24 降水  0％  0％  0％  0％ 風： 北の風後北東の風２３区西部では北の風やや強く 波： 1.5メートル後0.5メートル 11月20日(水) 曇のち雨 12℃[-1] 7℃[-1] 時間  0-6 6-12    12-18   18-24 降水  0％  10％ 30％ 60％ 風： 北西の風後東の風 波： 0.5メートル 東京地方の警報・注意報 注意報 強風、波浪 週間天気 2024年11月19日 2時00分発表 日付 11月21日 (木) 11月22日 (金) 11月23日 (土) 11月24日 (日) 11月25日 (月) 11月26日 (火) 天気 雨のち晴   晴時々曇   晴時々曇   晴時々曇   晴時々曇   曇一時雨 気温（℃）   14 降水 確率（％）   60  0   0   0   10  50 2024年11月19日 4時00分 発表 (C) Mapbox (C) OpenStreetMap (C) LY Corporation Yahoo!地図ガイドライン (C) Mapbox (C) OpenStreetMap (C) LY Corporation Yahoo!地図ガイドライン 11/18(月)18時\\u3000師走の寒さ\\u3000今季一番低く\\u3000北日本中心に積雪増加も Copyright (C) 2024 Weather Map Co., Ltd. All Rights Reserved. © LY Corporation'), Document(metadata={'title': '東京都中央区の天気予報 - ウェザーニュース', 'source': 'https://weathernews.jp/onebox/tenki/tokyo/13102/', 'score': 0.7507177, 'images': []}, page_content='{{item.cityname}}\\n天気予報を検索\\n天気\\n防災・減災\\n自然・季節・健康\\n便利なメニュー\\nほか全メニュー\\n令和6年能登半島地震\\u3000特設サイト\\n東京都中央区の天気予報\\n5分ごと\\n1時間ごと\\n今日明日\\n週間天気\\n日\\n天気\\n気温\\n降水\\n確率\\n今日\\n1月12日 (金)\\n最高14℃\\n最低3℃\\n午前10%\\n午後10%\\n明日\\n1月13日 (土)\\n最高11℃\\n最低3℃\\n午前10%\\n午後-%\\n冬晴れ\\u3000体感温度の調節を\\n今日は冬晴れで、洗濯物も良く乾きそうです。昼間は昨日よりも日差しの温もりを感じられます。朝晩はグッと冷えるため、特に受験生は体調管理を万全に。\\n5分ごと\\n1時間ごと\\n時\\n分\\n天気\\n0時\\n・\\n星はっきり\\n20\\n星はっきり\\n・\\n星はっきり\\n30\\n星はっきり\\n・\\n星はっきり\\n40\\n星はっきり\\n・\\n星はっきり\\n50\\n星はっきり\\n・\\n星はっきり\\n1時\\n00\\n星はっきり\\n・\\n星はっきり\\n10\\n星はっきり\\n日\\n時\\n天気\\n降水\\n気温\\n風\\n12日(金)\\n1\\n0\\n3℃\\n1m\\n2\\n0\\n3℃\\n1m\\n3\\n0\\n3℃\\n1m\\n4\\n0\\n4℃\\n1m\\n5\\n0\\n4℃\\n1m\\n6\\n0\\n4℃\\n1m\\n7\\n0\\n4℃\\n2m\\n8\\n0\\n4℃\\n2m\\n9\\n0\\n5℃\\n2m\\n10\\n0\\n7℃\\n2m\\n11\\n0\\n9℃\\n2m\\n12\\n0\\n10℃\\n2m\\n13\\n0\\n12℃\\n2m\\n14\\n0\\n13℃\\n2m\\n15\\n0\\n14℃\\n2m\\n16\\n0\\n14℃\\n2m\\n17\\n0\\n14℃\\n2m\\n18\\n0\\n14℃\\n1m\\n19\\n0\\n13℃\\n2m\\n20\\n0\\n11℃\\n2m\\n21\\n0\\n10℃\\n2m\\n22\\n0\\n10℃\\n2m\\n23\\n0\\n9℃\\n2m\\n13日(土)\\n0\\n0\\n8℃\\n2m\\n1\\n0\\n7℃\\n2m\\n2\\n0\\n6℃\\n2m\\n3\\n0\\n6℃\\n2m\\n4\\n0\\n5℃\\n2m\\n5\\n0\\n5℃\\n2m\\n6\\n0\\n5℃\\n2m\\n7\\n0\\n5℃\\n2m\\n8\\n0\\n6℃\\n2m\\n9\\n0\\n6℃\\n2m\\n10\\n0\\n7℃\\n2m\\n11\\n0\\n8℃\\n2m\\n12\\n0\\n9℃\\n2m\\n13\\n0\\n10℃\\n3m\\n14\\n0\\n10℃\\n3m\\n15\\n0\\n11℃\\n2m\\n16\\n1ミリ\\n11℃\\n1m\\n17\\n1ミリ\\n8℃\\n4m\\n18\\n0\\n6℃\\n4m\\n19\\n0\\n5℃\\n4m\\n20\\n0\\n4℃\\n5m\\n21\\n0\\n3℃\\n5m\\n22\\n0\\n4℃\\n5m\\n23\\n0\\n4℃\\n6m\\n14日(日)\\n0\\n0\\n4℃\\n7m\\n1\\n0\\n4℃\\n6m\\n2\\n0\\n4℃\\n5m\\n3\\n0\\n4℃\\n5m\\n4\\n0\\n4℃\\n4m\\n5\\n0\\n3℃\\n3m\\n6\\n0\\n4℃\\n2m\\n7\\n0\\n4℃\\n2m\\n8\\n0\\n4℃\\n2m\\n9\\n0\\n5℃\\n1m\\n10\\n0\\n6℃\\n1m\\n11\\n0\\n7℃\\n2m\\n12\\n0\\n9℃\\n3m\\n13\\n0\\n10℃\\n4m\\n14\\n0\\n11℃\\n5m\\n15\\n0\\n12℃\\n6m\\n16\\n0\\n12℃\\n7m\\n17\\n0\\n12℃\\n6m\\n18\\n0\\n12℃\\n5m\\n19\\n0\\n11℃\\n5m\\n20\\n0\\n10℃\\n5m\\n21\\n0\\n10℃\\n4m\\n22\\n0\\n10℃\\n5m\\n23\\n0\\n9℃\\n5m\\n15日(月)\\n0\\n0\\n9℃\\n5m\\n冬晴れ\\u3000体感温度の調節を\\n今日は冬晴れで、洗濯物も良く乾きそうです。昼間は昨日よりも日差しの温もりを感じられます。朝晩はグッと冷えるため、特に受験生は体調管理を万全に。\\n週間(10日間)\\n日\\n天気\\n最高\\n最低\\n降水\\n13(土)\\n11℃\\n3℃\\n50%\\n14(日)\\n12℃\\n2℃\\n20%\\n15(月)\\n12℃\\n4℃\\n20%\\n16(火)\\n10℃\\n1℃\\n20%\\n17(水)\\n12℃\\n2℃\\n20%\\n18(木)\\n14℃\\n3℃\\n30%\\n19(金)\\n12℃\\n5℃\\n40%\\n20(土)\\n10℃\\n5℃\\n40%\\n21(日)\\n10℃\\n4℃\\n60%\\n晴れる日が多い\\u3000寒暖差に注意\\n晴れる日が多く、日差しの温もりを感じられそうです。空気が乾燥しているため、火の取り扱いには要注意。日ごとや一日の寒暖差で体調を崩さないよう、お気をつけください。\\nお天気ニュース\\n1月11日(木)\\u3000各地の気温変化と最適な服装\\n2024.01.11 15:51\\n明日12日(金)の天気予報\\u3000北陸は雨で土砂災害に警戒\\u3000太平洋側は穏やかな空\\n2024.01.11 17:00\\n13日(土)の関東は天気急変\\u3000都心でも雨に雪が混じる可能性\\n2024.01.11 18:21\\nお天気ニュースをもっと読む →\\nお天気ニュース\\n1月11日(木)\\u3000各地の気温変化と最適な服装\\n2024.01.11 15:51\\n明日12日(金)の天気予報\\u3000北陸は雨で土砂災害に警戒\\u3000太平洋側は穏やかな空\\n2024.01.11 17:00\\n13日(土)の関東は天気急変\\u3000都心でも雨に雪が混じる可能性\\n2024.01.11 18:21\\nお天気ニュースをもっと読む →\\n東京都中央区付近の天気\\n雨雲レーダー\\n地図を拡大\\n今の天気\\nグラフ\\n00:00\\n空の写真\\n空の写真をもっと見る\\nライブ動画番組\\n【ライブ放送中】最新地震・気象情報\\u3000ウェザーニュースLiVE\\n東京都中央区付近の観測値\\n(℃)\\n(m/s)\\n(mm/h)\\n(分)\\n続きを見る\\n東京都の都市の天気予報\\n周辺の都道府県\\nお天気ニュース\\n樽酒の鏡開きに込められた意味とは\\u3000声かけの回数も決まっていた？\\n2024.01.11 05:00\\n冬に大活躍するフリースの“ふわふわ感”を復活させる洗濯方法\\n2024.01.11 05:00\\n桜開花予想2024\\u3000各地とも平年より早く、東京は3月17日予想\\n 2024.01.11 12:00\\n週間天気\\u3000北陸など日本海側は雪や雨\\u3000関東も土曜に天気崩れる可能性\\n2024.01.11 15:00\\n気象庁1か月予報\\u3000暖冬傾向続く\\u3000冬将軍は出番なし\\n2024.01.11 16:34\\nお天気ニュースをもっと読む →\\nいまおすすめのメニュー\\n雨雲レーダー\\n雨雲の動きと予想を確認\\nウェザーリポート\\n全国から届くお天気リポート\\n防災・減災メニュー\\n天気メニュー\\n自然・季節・レジャー情報\\n予報精度向上の取り組みについて\\n東京都中央区付近の空の写真\\nウェザーニュース'), Document(metadata={'title': '東京の14日間(2週間)の1時間ごとの天気予報 - 東進', 'source': 'https://www.toshin.com/weather/detail?id=56682', 'score': 0.74161834, 'images': []}, page_content='Home   >  東京都   >  千代田区   >  東京   >  14日間(2週間)の1時間ごとの天気予報    東京の天気 リロードすると1時間ごとに更新されます。 今日 2024年 9月22日(日) 28℃/23℃  明日 2024年 9月23日(月) 30℃/22℃  明日 2024年 9月23日(月) 30℃/22℃  2024年 9月24日(火) 27℃/20℃  2024年 9月24日(火) 27℃/20℃  2024年 9月25日(水) 26℃/21℃  2024年 9月25日(水) 26℃/21℃  2024年 9月26日(木) 27℃/22℃  2024年 9月26日(木) 27℃/22℃  2024年 9月27日(金) 29℃/21℃  2024年 9月27日(金) 29℃/21℃  2024年 9月28日(土) 29℃/21℃  2024年 9月28日(土) 29℃/21℃  2024年 9月29日(日) 28℃/22℃  2024年 9月29日(日) 28℃/22℃  2024年 9月30日(月) 26℃/20℃  2024年 9月30日(月) 26℃/20℃  2024年 10月1日(火) 26℃/19℃  2024年 10月1日(火) 26℃/19℃  2024年 10月2日(水) 24℃/23℃  2024年 10月2日(水) 24℃/23℃  2024年 10月3日(木) 27℃/22℃  2024年 10月3日(木) 27℃/22℃  2024年 10月4日(金) 30℃/25℃  2024年 10月4日(金) 30℃/25℃  2024年 10月5日(土) 24℃/22℃  2024年 10月5日(土) 24℃/22℃  2024年 10月6日(日) 今日から２週間分まで先の予報が時間ごとに見られます。 1時間予報 今日から１ヶ月先、１ヶ月以上先の予報が見られます。 90日間予報 14日間の天気日付をクリックすると、1時間ごとの天気やその日の詳細が見られます。 1時間ごとの天気 時間 天気 気温(℃) 降水量(mm/h) 気温(℃) 気温(℃) 気温(℃) 気温(℃) 気温(℃) 気温(℃) 気温(℃) 気温(℃) 気温(℃) 気温(℃) 気温(℃) 気温(℃) 気温(℃)')], 'answer': '東京の今日、2024年11月19日(火)の天気は「晴時々曇」で、最高気温は13℃、最低気温は8℃です。降水確率は0％で、北の風が吹く予報です。'}\n"
     ]
    }
   ],
   "source": [
    "output = chain.invoke(\"東京の今日の天気は？\")\n",
    "print(output)\n"
   ]
  },
  {
   "cell_type": "markdown",
   "metadata": {},
   "source": [
    "### （コラム）astream_events\n"
   ]
  },
  {
   "cell_type": "code",
   "execution_count": 48,
   "metadata": {
    "execution": {
     "iopub.execute_input": "2024-06-28T02:34:34.103973Z",
     "iopub.status.busy": "2024-06-28T02:34:34.103802Z",
     "iopub.status.idle": "2024-06-28T02:34:34.107769Z",
     "shell.execute_reply": "2024-06-28T02:34:34.107274Z"
    }
   },
   "outputs": [
    {
     "name": "stdout",
     "output_type": "stream",
     "text": [
      "{'event': 'on_chain_start', 'data': {'input': '東京の今日の天気は？'}, 'name': 'RunnableSequence', 'tags': [], 'run_id': 'f80ee914-55a9-4ccf-bd47-85304719c962', 'metadata': {}, 'parent_ids': []}\n",
      "{'event': 'on_chain_start', 'data': {}, 'name': 'RunnableParallel<context,question>', 'tags': ['seq:step:1'], 'run_id': '7a4dd9ec-f36d-4294-99cd-2d8cf816ca10', 'metadata': {}, 'parent_ids': ['f80ee914-55a9-4ccf-bd47-85304719c962']}\n",
      "{'event': 'on_retriever_start', 'data': {'input': {'query': '東京の今日の天気は？'}}, 'name': 'TavilySearchAPIRetriever', 'tags': ['map:key:context'], 'run_id': '2698822a-6c9b-4339-af3a-8605670de09e', 'metadata': {'ls_retriever_name': 'tavilysearchapi'}, 'parent_ids': ['f80ee914-55a9-4ccf-bd47-85304719c962', '7a4dd9ec-f36d-4294-99cd-2d8cf816ca10']}\n",
      "{'event': 'on_chain_start', 'data': {}, 'name': 'RunnablePassthrough', 'tags': ['map:key:question'], 'run_id': '8d749345-5cea-4413-bdd7-df3aaacfa55c', 'metadata': {}, 'parent_ids': ['f80ee914-55a9-4ccf-bd47-85304719c962', '7a4dd9ec-f36d-4294-99cd-2d8cf816ca10']}\n",
      "{'event': 'on_chain_stream', 'run_id': '8d749345-5cea-4413-bdd7-df3aaacfa55c', 'name': 'RunnablePassthrough', 'tags': ['map:key:question'], 'metadata': {}, 'data': {'chunk': '東京の今日の天気は？'}, 'parent_ids': ['f80ee914-55a9-4ccf-bd47-85304719c962', '7a4dd9ec-f36d-4294-99cd-2d8cf816ca10']}\n",
      "{'event': 'on_chain_stream', 'run_id': '7a4dd9ec-f36d-4294-99cd-2d8cf816ca10', 'name': 'RunnableParallel<context,question>', 'tags': ['seq:step:1'], 'metadata': {}, 'data': {'chunk': {'question': '東京の今日の天気は？'}}, 'parent_ids': ['f80ee914-55a9-4ccf-bd47-85304719c962']}\n",
      "{'event': 'on_chain_end', 'data': {'output': '東京の今日の天気は？', 'input': '東京の今日の天気は？'}, 'run_id': '8d749345-5cea-4413-bdd7-df3aaacfa55c', 'name': 'RunnablePassthrough', 'tags': ['map:key:question'], 'metadata': {}, 'parent_ids': ['f80ee914-55a9-4ccf-bd47-85304719c962', '7a4dd9ec-f36d-4294-99cd-2d8cf816ca10']}\n",
      "{'event': 'on_retriever_end', 'data': {'output': [Document(metadata={'title': '東京都の天気（今日・明日の天気） | @nifty天気予報', 'source': 'https://weather.nifty.com/prefecture/13', 'score': 0.85967577, 'images': []}, page_content='東京都の天気（今日・明日の天気） | @nifty天気予報 @niftyトップ 今日・明日の天気 サイトマップ MY天気 地震情報台風情報警報・注意報花粉情報洗濯指数傘指数衛星画像天気図 スポーツレジャー観光地公共施設 全国の天気 東京都 台風20号、21号発生中 東京都の天気 今日の天気10月27日(日) 明日の天気10月28日(月) 東京  24/17 50% 大島  23/19 50% 八丈島  25/21 40% 父島  29/26 30% 港区 目黒区 大田区 世田谷区 墨田区 江東区 荒川区 足立区 葛飾区 日野市 多摩市 稲城市 多摩北部 三鷹市 昭島市 小平市 東村山市 東大和市 清瀬市 青梅市 大島 八丈島 東京  21/17 70% 大島  21/21 70% 八丈島  26/23 70% 父島  29/26 40% 港区 目黒区 大田区 世田谷区 墨田区 江東区 荒川区 足立区 葛飾区 日野市 多摩市 稲城市 多摩北部 三鷹市 昭島市 東村山市 東大和市 清瀬市 青梅市 大島 八丈島 栃木県 群馬県 東京都 長崎県 熊本県 大分県 宮崎県 沖縄県 お天気豆知識 ### 音速 秋が深まり気温も下がってくると、夏、元気に鳴いていた虫たちの声も次第に聞こえなくなります。特に夜などはひっそりとした静けさを感じることでしょう。皆さんは、気温の変化が音の伝わる速さにも影響する、ということを知っていますか。空気中では、気温が高いほど音は速く伝わります。また、気圧も音速に影響を与えますが、無視できるほど小さなものです。一方、地上のようには電波の伝わらない海中においては、音は空気中よりも速く伝わり、重要な通信手段となっています。水中では、水温が高いほど音速は速くなり、水圧が高くても速く伝わるようになります。つまり、海面付近の日射を受けて暖かいところと、大きな水圧のかかっている深海が、海の中では音速の速い領域となっているのです。音はそれが伝わっていく物質が密なほど速くなる、といった性質があります。そのため、一般には軽い空気よりも重たい水の中のほうが音を速く伝えるのです。空気中での音速は、通常、秒速３４０メートルですが、水中での音速は、秒速１５００メートル。空気中の４倍以上というすさまじい速さで伝わっていくのです。 ### ウエザーマーケティング 私達が毎日のように利用しているスーパーやコンビニの商品の中には、気温や天気、季節によってその売れゆきが大きく変わってくるものがあります。例えば、水着やスキー用品などの季節商品や、セーターやコートなどの衣類、野菜や飲み物などがそうです。当然、お店では、消費者が買いたいと思う時期に最適な商品を提供したいと考えています。その際、気象情報を活用しながら、販売計画を立てたり、商品の仕入れや在庫の管理などを工夫することを、「ウェザーマーケティング」と言います。天気や降水確率、体感温度などを商品の販売活動に活用することにより、むだを防ぎ、売り上げを上げるチャンスを知ることができるのです。さらに、ウェザーマーケティングは、仕入れや在庫管理などの販売計画だけでなく、店鋪の人員配置、売り場作り、プロモーション計画などにも役立てることができます。このように、気象情報はテレビで見ている天気予報だけでなく、流通の業界にもさまざまな形で活用されているのです。 ### ゴルフボールのしくみ スポーツの秋です。ゴルフを楽しむ方も多いでしょう。一見ただの小さな円球に思えるゴルフボールですが、その中には最先端のテクノロジーがつまっています。表面にあるへこみはディンプルといって、単なる飾りではありません。ディンプルには空気抵抗を減らして、揚力を増やす効果があり、ボールが遠くまで飛ぶための翼の役割をします。また、ゴルフボールは大きく分けて、糸巻きボールとソリッドボールがありますが、現在はソリッドボールが市場のほとんどを占めています。ソリッドボールは反発力の強い合成ゴムでできていて、インパクト時のエネルギーを飛距離につなげる仕組みになっています。少しでも飛距離がのびるよう、小さなボールにいろいろな工夫があるのですね。 花粉情報 洗濯指数 傘指数 スポーツ レジャー 公共施設 その他 MY天気 衛星画像 天気図 お問い合わせ ©Copyright Weathernews Inc. 個人情報保護ポリシー ウェブサイト利用ガイドライン 推奨環境 運営会社 ©NIFTY Corporation'), Document(metadata={'title': '東京（東京）の天気 - Yahoo!天気・災害', 'source': 'https://weather.yahoo.co.jp/weather/jp/13/4410.html', 'score': 0.8010817, 'images': []}, page_content='パーソナル天気 現在位置： 天気・災害トップ > 関東・信越 > 東京都 > 東京（東京） 今日明日の天気 2024年11月19日 4時00分発表 11月19日(火) 晴時々曇 13℃[-7] 8℃[-3] 時間  0-6 6-12    12-18   18-24 降水  0％  0％  0％  0％ 風： 北の風後北東の風２３区西部では北の風やや強く 波： 1.5メートル後0.5メートル 11月20日(水) 曇のち雨 12℃[-1] 7℃[-1] 時間  0-6 6-12    12-18   18-24 降水  0％  10％ 30％ 60％ 風： 北西の風後東の風 波： 0.5メートル 東京地方の警報・注意報 注意報 強風、波浪 週間天気 2024年11月19日 2時00分発表 日付 11月21日 (木) 11月22日 (金) 11月23日 (土) 11月24日 (日) 11月25日 (月) 11月26日 (火) 天気 雨のち晴   晴時々曇   晴時々曇   晴時々曇   晴時々曇   曇一時雨 気温（℃）   14 降水 確率（％）   60  0   0   0   10  50 2024年11月19日 4時00分 発表 (C) Mapbox (C) OpenStreetMap (C) LY Corporation Yahoo!地図ガイドライン (C) Mapbox (C) OpenStreetMap (C) LY Corporation Yahoo!地図ガイドライン 11/18(月)18時\\u3000師走の寒さ\\u3000今季一番低く\\u3000北日本中心に積雪増加も Copyright (C) 2024 Weather Map Co., Ltd. All Rights Reserved. © LY Corporation'), Document(metadata={'title': '東京都の天気 - 日本気象協会 tenki.jp', 'source': 'https://tenki.jp/lite/forecast/3/16/?fr=57108C0701M03', 'score': 0.7060491, 'images': []}, page_content='東京都の天気 - 日本気象協会 tenki.jp tenki.jp 検索 メニュー 閉じる 検\\u3000索 閉じる 注目 天気予報 観測 防災 天気図 指数 レジャー 季節特集 アプリ ニュース 雨雲レーダー 2週間天気 雷レーダー PM2.5分布予測 スキー積雪情報 初日の出 2週間天気 雨雲レーダー PM2.5分布予測 tenki.jp×JAXA世界の雨雲の動き 雷レーダー(予報) 雨雲レーダー(過去) 雷レーダー(実況) 花粉飛散情報(1～5月頃) 桜開花情報(2～5月頃) GWの天気(4～5月頃) 梅雨入り・梅雨明け(5～7月頃) 熱中症情報(4～9月頃) 紅葉見頃情報(10～11月頃) ヒートショック予報(10～3月頃) スキー積雪情報(11～5月頃) 初日の出(12～1月頃) tenki.jp tenki.jp登山天気 気象予報士のポイント解説 東京都の天気 03(金) 05(日) 10(金) 12(日) 03日12:00発表01月03日(金) 千代田区  7/540% 新宿区  7/440% 世田谷区  8/440% 三鷹市  7/340% 八王子市  7/030% 青梅市  6/030% 大島町  13/710% 八丈町  16/1220% 小笠原村  18/1670% 2週間天気 千代田区 新宿区 世田谷区 八王子市 三鷹市 青梅市 大島町 八丈町 小笠原村 雨雲レーダー PM2.5 スキー積雪情報 気象予報士のポイント解説(日直予報士) 2週間天気 01/03(金)11:57 青森県に大雪警報 青森県酸ケ湯では4メートル超え 24時間で50センチ以上も急増 01/03(金)09:57 3日～5日の道路気象予測 Uターンラッシュに影響 関東や東海も雨や雪で影響あり 01/03(金)06:40 3日 日本海側は雪や雨 積雪さらに増加 太平洋側でも雨や雪の降る所も 01/03(金)05:30 雨雲レーダーで雨を回避！ tenki.jp公式 天気予報アプリ tenki.jp公式SNS tenki.jp公式アプリ tenki.jp tenki.jp 登山天気 雨雲レーダー PM2.5分布予測 2週間天気 気象予報士のポイント解説 スキー積雪情報 初日の出 tenki.jpの全情報はこちら (C)\\xa02025\\xa0日本気象協会 (C)\\xa02025\\xa0ALiNKインターネット')], 'input': {'query': '東京の今日の天気は？'}}, 'run_id': '2698822a-6c9b-4339-af3a-8605670de09e', 'name': 'TavilySearchAPIRetriever', 'tags': ['map:key:context'], 'metadata': {'ls_retriever_name': 'tavilysearchapi'}, 'parent_ids': ['f80ee914-55a9-4ccf-bd47-85304719c962', '7a4dd9ec-f36d-4294-99cd-2d8cf816ca10']}\n",
      "{'event': 'on_chain_stream', 'run_id': '7a4dd9ec-f36d-4294-99cd-2d8cf816ca10', 'name': 'RunnableParallel<context,question>', 'tags': ['seq:step:1'], 'metadata': {}, 'data': {'chunk': {'context': [Document(metadata={'title': '東京都の天気（今日・明日の天気） | @nifty天気予報', 'source': 'https://weather.nifty.com/prefecture/13', 'score': 0.85967577, 'images': []}, page_content='東京都の天気（今日・明日の天気） | @nifty天気予報 @niftyトップ 今日・明日の天気 サイトマップ MY天気 地震情報台風情報警報・注意報花粉情報洗濯指数傘指数衛星画像天気図 スポーツレジャー観光地公共施設 全国の天気 東京都 台風20号、21号発生中 東京都の天気 今日の天気10月27日(日) 明日の天気10月28日(月) 東京  24/17 50% 大島  23/19 50% 八丈島  25/21 40% 父島  29/26 30% 港区 目黒区 大田区 世田谷区 墨田区 江東区 荒川区 足立区 葛飾区 日野市 多摩市 稲城市 多摩北部 三鷹市 昭島市 小平市 東村山市 東大和市 清瀬市 青梅市 大島 八丈島 東京  21/17 70% 大島  21/21 70% 八丈島  26/23 70% 父島  29/26 40% 港区 目黒区 大田区 世田谷区 墨田区 江東区 荒川区 足立区 葛飾区 日野市 多摩市 稲城市 多摩北部 三鷹市 昭島市 東村山市 東大和市 清瀬市 青梅市 大島 八丈島 栃木県 群馬県 東京都 長崎県 熊本県 大分県 宮崎県 沖縄県 お天気豆知識 ### 音速 秋が深まり気温も下がってくると、夏、元気に鳴いていた虫たちの声も次第に聞こえなくなります。特に夜などはひっそりとした静けさを感じることでしょう。皆さんは、気温の変化が音の伝わる速さにも影響する、ということを知っていますか。空気中では、気温が高いほど音は速く伝わります。また、気圧も音速に影響を与えますが、無視できるほど小さなものです。一方、地上のようには電波の伝わらない海中においては、音は空気中よりも速く伝わり、重要な通信手段となっています。水中では、水温が高いほど音速は速くなり、水圧が高くても速く伝わるようになります。つまり、海面付近の日射を受けて暖かいところと、大きな水圧のかかっている深海が、海の中では音速の速い領域となっているのです。音はそれが伝わっていく物質が密なほど速くなる、といった性質があります。そのため、一般には軽い空気よりも重たい水の中のほうが音を速く伝えるのです。空気中での音速は、通常、秒速３４０メートルですが、水中での音速は、秒速１５００メートル。空気中の４倍以上というすさまじい速さで伝わっていくのです。 ### ウエザーマーケティング 私達が毎日のように利用しているスーパーやコンビニの商品の中には、気温や天気、季節によってその売れゆきが大きく変わってくるものがあります。例えば、水着やスキー用品などの季節商品や、セーターやコートなどの衣類、野菜や飲み物などがそうです。当然、お店では、消費者が買いたいと思う時期に最適な商品を提供したいと考えています。その際、気象情報を活用しながら、販売計画を立てたり、商品の仕入れや在庫の管理などを工夫することを、「ウェザーマーケティング」と言います。天気や降水確率、体感温度などを商品の販売活動に活用することにより、むだを防ぎ、売り上げを上げるチャンスを知ることができるのです。さらに、ウェザーマーケティングは、仕入れや在庫管理などの販売計画だけでなく、店鋪の人員配置、売り場作り、プロモーション計画などにも役立てることができます。このように、気象情報はテレビで見ている天気予報だけでなく、流通の業界にもさまざまな形で活用されているのです。 ### ゴルフボールのしくみ スポーツの秋です。ゴルフを楽しむ方も多いでしょう。一見ただの小さな円球に思えるゴルフボールですが、その中には最先端のテクノロジーがつまっています。表面にあるへこみはディンプルといって、単なる飾りではありません。ディンプルには空気抵抗を減らして、揚力を増やす効果があり、ボールが遠くまで飛ぶための翼の役割をします。また、ゴルフボールは大きく分けて、糸巻きボールとソリッドボールがありますが、現在はソリッドボールが市場のほとんどを占めています。ソリッドボールは反発力の強い合成ゴムでできていて、インパクト時のエネルギーを飛距離につなげる仕組みになっています。少しでも飛距離がのびるよう、小さなボールにいろいろな工夫があるのですね。 花粉情報 洗濯指数 傘指数 スポーツ レジャー 公共施設 その他 MY天気 衛星画像 天気図 お問い合わせ ©Copyright Weathernews Inc. 個人情報保護ポリシー ウェブサイト利用ガイドライン 推奨環境 運営会社 ©NIFTY Corporation'), Document(metadata={'title': '東京（東京）の天気 - Yahoo!天気・災害', 'source': 'https://weather.yahoo.co.jp/weather/jp/13/4410.html', 'score': 0.8010817, 'images': []}, page_content='パーソナル天気 現在位置： 天気・災害トップ > 関東・信越 > 東京都 > 東京（東京） 今日明日の天気 2024年11月19日 4時00分発表 11月19日(火) 晴時々曇 13℃[-7] 8℃[-3] 時間  0-6 6-12    12-18   18-24 降水  0％  0％  0％  0％ 風： 北の風後北東の風２３区西部では北の風やや強く 波： 1.5メートル後0.5メートル 11月20日(水) 曇のち雨 12℃[-1] 7℃[-1] 時間  0-6 6-12    12-18   18-24 降水  0％  10％ 30％ 60％ 風： 北西の風後東の風 波： 0.5メートル 東京地方の警報・注意報 注意報 強風、波浪 週間天気 2024年11月19日 2時00分発表 日付 11月21日 (木) 11月22日 (金) 11月23日 (土) 11月24日 (日) 11月25日 (月) 11月26日 (火) 天気 雨のち晴   晴時々曇   晴時々曇   晴時々曇   晴時々曇   曇一時雨 気温（℃）   14 降水 確率（％）   60  0   0   0   10  50 2024年11月19日 4時00分 発表 (C) Mapbox (C) OpenStreetMap (C) LY Corporation Yahoo!地図ガイドライン (C) Mapbox (C) OpenStreetMap (C) LY Corporation Yahoo!地図ガイドライン 11/18(月)18時\\u3000師走の寒さ\\u3000今季一番低く\\u3000北日本中心に積雪増加も Copyright (C) 2024 Weather Map Co., Ltd. All Rights Reserved. © LY Corporation'), Document(metadata={'title': '東京都の天気 - 日本気象協会 tenki.jp', 'source': 'https://tenki.jp/lite/forecast/3/16/?fr=57108C0701M03', 'score': 0.7060491, 'images': []}, page_content='東京都の天気 - 日本気象協会 tenki.jp tenki.jp 検索 メニュー 閉じる 検\\u3000索 閉じる 注目 天気予報 観測 防災 天気図 指数 レジャー 季節特集 アプリ ニュース 雨雲レーダー 2週間天気 雷レーダー PM2.5分布予測 スキー積雪情報 初日の出 2週間天気 雨雲レーダー PM2.5分布予測 tenki.jp×JAXA世界の雨雲の動き 雷レーダー(予報) 雨雲レーダー(過去) 雷レーダー(実況) 花粉飛散情報(1～5月頃) 桜開花情報(2～5月頃) GWの天気(4～5月頃) 梅雨入り・梅雨明け(5～7月頃) 熱中症情報(4～9月頃) 紅葉見頃情報(10～11月頃) ヒートショック予報(10～3月頃) スキー積雪情報(11～5月頃) 初日の出(12～1月頃) tenki.jp tenki.jp登山天気 気象予報士のポイント解説 東京都の天気 03(金) 05(日) 10(金) 12(日) 03日12:00発表01月03日(金) 千代田区  7/540% 新宿区  7/440% 世田谷区  8/440% 三鷹市  7/340% 八王子市  7/030% 青梅市  6/030% 大島町  13/710% 八丈町  16/1220% 小笠原村  18/1670% 2週間天気 千代田区 新宿区 世田谷区 八王子市 三鷹市 青梅市 大島町 八丈町 小笠原村 雨雲レーダー PM2.5 スキー積雪情報 気象予報士のポイント解説(日直予報士) 2週間天気 01/03(金)11:57 青森県に大雪警報 青森県酸ケ湯では4メートル超え 24時間で50センチ以上も急増 01/03(金)09:57 3日～5日の道路気象予測 Uターンラッシュに影響 関東や東海も雨や雪で影響あり 01/03(金)06:40 3日 日本海側は雪や雨 積雪さらに増加 太平洋側でも雨や雪の降る所も 01/03(金)05:30 雨雲レーダーで雨を回避！ tenki.jp公式 天気予報アプリ tenki.jp公式SNS tenki.jp公式アプリ tenki.jp tenki.jp 登山天気 雨雲レーダー PM2.5分布予測 2週間天気 気象予報士のポイント解説 スキー積雪情報 初日の出 tenki.jpの全情報はこちら (C)\\xa02025\\xa0日本気象協会 (C)\\xa02025\\xa0ALiNKインターネット')]}}, 'parent_ids': ['f80ee914-55a9-4ccf-bd47-85304719c962']}\n",
      "{'event': 'on_chain_end', 'data': {'output': {'question': '東京の今日の天気は？', 'context': [Document(metadata={'title': '東京都の天気（今日・明日の天気） | @nifty天気予報', 'source': 'https://weather.nifty.com/prefecture/13', 'score': 0.85967577, 'images': []}, page_content='東京都の天気（今日・明日の天気） | @nifty天気予報 @niftyトップ 今日・明日の天気 サイトマップ MY天気 地震情報台風情報警報・注意報花粉情報洗濯指数傘指数衛星画像天気図 スポーツレジャー観光地公共施設 全国の天気 東京都 台風20号、21号発生中 東京都の天気 今日の天気10月27日(日) 明日の天気10月28日(月) 東京  24/17 50% 大島  23/19 50% 八丈島  25/21 40% 父島  29/26 30% 港区 目黒区 大田区 世田谷区 墨田区 江東区 荒川区 足立区 葛飾区 日野市 多摩市 稲城市 多摩北部 三鷹市 昭島市 小平市 東村山市 東大和市 清瀬市 青梅市 大島 八丈島 東京  21/17 70% 大島  21/21 70% 八丈島  26/23 70% 父島  29/26 40% 港区 目黒区 大田区 世田谷区 墨田区 江東区 荒川区 足立区 葛飾区 日野市 多摩市 稲城市 多摩北部 三鷹市 昭島市 東村山市 東大和市 清瀬市 青梅市 大島 八丈島 栃木県 群馬県 東京都 長崎県 熊本県 大分県 宮崎県 沖縄県 お天気豆知識 ### 音速 秋が深まり気温も下がってくると、夏、元気に鳴いていた虫たちの声も次第に聞こえなくなります。特に夜などはひっそりとした静けさを感じることでしょう。皆さんは、気温の変化が音の伝わる速さにも影響する、ということを知っていますか。空気中では、気温が高いほど音は速く伝わります。また、気圧も音速に影響を与えますが、無視できるほど小さなものです。一方、地上のようには電波の伝わらない海中においては、音は空気中よりも速く伝わり、重要な通信手段となっています。水中では、水温が高いほど音速は速くなり、水圧が高くても速く伝わるようになります。つまり、海面付近の日射を受けて暖かいところと、大きな水圧のかかっている深海が、海の中では音速の速い領域となっているのです。音はそれが伝わっていく物質が密なほど速くなる、といった性質があります。そのため、一般には軽い空気よりも重たい水の中のほうが音を速く伝えるのです。空気中での音速は、通常、秒速３４０メートルですが、水中での音速は、秒速１５００メートル。空気中の４倍以上というすさまじい速さで伝わっていくのです。 ### ウエザーマーケティング 私達が毎日のように利用しているスーパーやコンビニの商品の中には、気温や天気、季節によってその売れゆきが大きく変わってくるものがあります。例えば、水着やスキー用品などの季節商品や、セーターやコートなどの衣類、野菜や飲み物などがそうです。当然、お店では、消費者が買いたいと思う時期に最適な商品を提供したいと考えています。その際、気象情報を活用しながら、販売計画を立てたり、商品の仕入れや在庫の管理などを工夫することを、「ウェザーマーケティング」と言います。天気や降水確率、体感温度などを商品の販売活動に活用することにより、むだを防ぎ、売り上げを上げるチャンスを知ることができるのです。さらに、ウェザーマーケティングは、仕入れや在庫管理などの販売計画だけでなく、店鋪の人員配置、売り場作り、プロモーション計画などにも役立てることができます。このように、気象情報はテレビで見ている天気予報だけでなく、流通の業界にもさまざまな形で活用されているのです。 ### ゴルフボールのしくみ スポーツの秋です。ゴルフを楽しむ方も多いでしょう。一見ただの小さな円球に思えるゴルフボールですが、その中には最先端のテクノロジーがつまっています。表面にあるへこみはディンプルといって、単なる飾りではありません。ディンプルには空気抵抗を減らして、揚力を増やす効果があり、ボールが遠くまで飛ぶための翼の役割をします。また、ゴルフボールは大きく分けて、糸巻きボールとソリッドボールがありますが、現在はソリッドボールが市場のほとんどを占めています。ソリッドボールは反発力の強い合成ゴムでできていて、インパクト時のエネルギーを飛距離につなげる仕組みになっています。少しでも飛距離がのびるよう、小さなボールにいろいろな工夫があるのですね。 花粉情報 洗濯指数 傘指数 スポーツ レジャー 公共施設 その他 MY天気 衛星画像 天気図 お問い合わせ ©Copyright Weathernews Inc. 個人情報保護ポリシー ウェブサイト利用ガイドライン 推奨環境 運営会社 ©NIFTY Corporation'), Document(metadata={'title': '東京（東京）の天気 - Yahoo!天気・災害', 'source': 'https://weather.yahoo.co.jp/weather/jp/13/4410.html', 'score': 0.8010817, 'images': []}, page_content='パーソナル天気 現在位置： 天気・災害トップ > 関東・信越 > 東京都 > 東京（東京） 今日明日の天気 2024年11月19日 4時00分発表 11月19日(火) 晴時々曇 13℃[-7] 8℃[-3] 時間  0-6 6-12    12-18   18-24 降水  0％  0％  0％  0％ 風： 北の風後北東の風２３区西部では北の風やや強く 波： 1.5メートル後0.5メートル 11月20日(水) 曇のち雨 12℃[-1] 7℃[-1] 時間  0-6 6-12    12-18   18-24 降水  0％  10％ 30％ 60％ 風： 北西の風後東の風 波： 0.5メートル 東京地方の警報・注意報 注意報 強風、波浪 週間天気 2024年11月19日 2時00分発表 日付 11月21日 (木) 11月22日 (金) 11月23日 (土) 11月24日 (日) 11月25日 (月) 11月26日 (火) 天気 雨のち晴   晴時々曇   晴時々曇   晴時々曇   晴時々曇   曇一時雨 気温（℃）   14 降水 確率（％）   60  0   0   0   10  50 2024年11月19日 4時00分 発表 (C) Mapbox (C) OpenStreetMap (C) LY Corporation Yahoo!地図ガイドライン (C) Mapbox (C) OpenStreetMap (C) LY Corporation Yahoo!地図ガイドライン 11/18(月)18時\\u3000師走の寒さ\\u3000今季一番低く\\u3000北日本中心に積雪増加も Copyright (C) 2024 Weather Map Co., Ltd. All Rights Reserved. © LY Corporation'), Document(metadata={'title': '東京都の天気 - 日本気象協会 tenki.jp', 'source': 'https://tenki.jp/lite/forecast/3/16/?fr=57108C0701M03', 'score': 0.7060491, 'images': []}, page_content='東京都の天気 - 日本気象協会 tenki.jp tenki.jp 検索 メニュー 閉じる 検\\u3000索 閉じる 注目 天気予報 観測 防災 天気図 指数 レジャー 季節特集 アプリ ニュース 雨雲レーダー 2週間天気 雷レーダー PM2.5分布予測 スキー積雪情報 初日の出 2週間天気 雨雲レーダー PM2.5分布予測 tenki.jp×JAXA世界の雨雲の動き 雷レーダー(予報) 雨雲レーダー(過去) 雷レーダー(実況) 花粉飛散情報(1～5月頃) 桜開花情報(2～5月頃) GWの天気(4～5月頃) 梅雨入り・梅雨明け(5～7月頃) 熱中症情報(4～9月頃) 紅葉見頃情報(10～11月頃) ヒートショック予報(10～3月頃) スキー積雪情報(11～5月頃) 初日の出(12～1月頃) tenki.jp tenki.jp登山天気 気象予報士のポイント解説 東京都の天気 03(金) 05(日) 10(金) 12(日) 03日12:00発表01月03日(金) 千代田区  7/540% 新宿区  7/440% 世田谷区  8/440% 三鷹市  7/340% 八王子市  7/030% 青梅市  6/030% 大島町  13/710% 八丈町  16/1220% 小笠原村  18/1670% 2週間天気 千代田区 新宿区 世田谷区 八王子市 三鷹市 青梅市 大島町 八丈町 小笠原村 雨雲レーダー PM2.5 スキー積雪情報 気象予報士のポイント解説(日直予報士) 2週間天気 01/03(金)11:57 青森県に大雪警報 青森県酸ケ湯では4メートル超え 24時間で50センチ以上も急増 01/03(金)09:57 3日～5日の道路気象予測 Uターンラッシュに影響 関東や東海も雨や雪で影響あり 01/03(金)06:40 3日 日本海側は雪や雨 積雪さらに増加 太平洋側でも雨や雪の降る所も 01/03(金)05:30 雨雲レーダーで雨を回避！ tenki.jp公式 天気予報アプリ tenki.jp公式SNS tenki.jp公式アプリ tenki.jp tenki.jp 登山天気 雨雲レーダー PM2.5分布予測 2週間天気 気象予報士のポイント解説 スキー積雪情報 初日の出 tenki.jpの全情報はこちら (C)\\xa02025\\xa0日本気象協会 (C)\\xa02025\\xa0ALiNKインターネット')]}, 'input': '東京の今日の天気は？'}, 'run_id': '7a4dd9ec-f36d-4294-99cd-2d8cf816ca10', 'name': 'RunnableParallel<context,question>', 'tags': ['seq:step:1'], 'metadata': {}, 'parent_ids': ['f80ee914-55a9-4ccf-bd47-85304719c962']}\n",
      "{'event': 'on_prompt_start', 'data': {'input': {'question': '東京の今日の天気は？', 'context': [Document(metadata={'title': '東京都の天気（今日・明日の天気） | @nifty天気予報', 'source': 'https://weather.nifty.com/prefecture/13', 'score': 0.85967577, 'images': []}, page_content='東京都の天気（今日・明日の天気） | @nifty天気予報 @niftyトップ 今日・明日の天気 サイトマップ MY天気 地震情報台風情報警報・注意報花粉情報洗濯指数傘指数衛星画像天気図 スポーツレジャー観光地公共施設 全国の天気 東京都 台風20号、21号発生中 東京都の天気 今日の天気10月27日(日) 明日の天気10月28日(月) 東京  24/17 50% 大島  23/19 50% 八丈島  25/21 40% 父島  29/26 30% 港区 目黒区 大田区 世田谷区 墨田区 江東区 荒川区 足立区 葛飾区 日野市 多摩市 稲城市 多摩北部 三鷹市 昭島市 小平市 東村山市 東大和市 清瀬市 青梅市 大島 八丈島 東京  21/17 70% 大島  21/21 70% 八丈島  26/23 70% 父島  29/26 40% 港区 目黒区 大田区 世田谷区 墨田区 江東区 荒川区 足立区 葛飾区 日野市 多摩市 稲城市 多摩北部 三鷹市 昭島市 東村山市 東大和市 清瀬市 青梅市 大島 八丈島 栃木県 群馬県 東京都 長崎県 熊本県 大分県 宮崎県 沖縄県 お天気豆知識 ### 音速 秋が深まり気温も下がってくると、夏、元気に鳴いていた虫たちの声も次第に聞こえなくなります。特に夜などはひっそりとした静けさを感じることでしょう。皆さんは、気温の変化が音の伝わる速さにも影響する、ということを知っていますか。空気中では、気温が高いほど音は速く伝わります。また、気圧も音速に影響を与えますが、無視できるほど小さなものです。一方、地上のようには電波の伝わらない海中においては、音は空気中よりも速く伝わり、重要な通信手段となっています。水中では、水温が高いほど音速は速くなり、水圧が高くても速く伝わるようになります。つまり、海面付近の日射を受けて暖かいところと、大きな水圧のかかっている深海が、海の中では音速の速い領域となっているのです。音はそれが伝わっていく物質が密なほど速くなる、といった性質があります。そのため、一般には軽い空気よりも重たい水の中のほうが音を速く伝えるのです。空気中での音速は、通常、秒速３４０メートルですが、水中での音速は、秒速１５００メートル。空気中の４倍以上というすさまじい速さで伝わっていくのです。 ### ウエザーマーケティング 私達が毎日のように利用しているスーパーやコンビニの商品の中には、気温や天気、季節によってその売れゆきが大きく変わってくるものがあります。例えば、水着やスキー用品などの季節商品や、セーターやコートなどの衣類、野菜や飲み物などがそうです。当然、お店では、消費者が買いたいと思う時期に最適な商品を提供したいと考えています。その際、気象情報を活用しながら、販売計画を立てたり、商品の仕入れや在庫の管理などを工夫することを、「ウェザーマーケティング」と言います。天気や降水確率、体感温度などを商品の販売活動に活用することにより、むだを防ぎ、売り上げを上げるチャンスを知ることができるのです。さらに、ウェザーマーケティングは、仕入れや在庫管理などの販売計画だけでなく、店鋪の人員配置、売り場作り、プロモーション計画などにも役立てることができます。このように、気象情報はテレビで見ている天気予報だけでなく、流通の業界にもさまざまな形で活用されているのです。 ### ゴルフボールのしくみ スポーツの秋です。ゴルフを楽しむ方も多いでしょう。一見ただの小さな円球に思えるゴルフボールですが、その中には最先端のテクノロジーがつまっています。表面にあるへこみはディンプルといって、単なる飾りではありません。ディンプルには空気抵抗を減らして、揚力を増やす効果があり、ボールが遠くまで飛ぶための翼の役割をします。また、ゴルフボールは大きく分けて、糸巻きボールとソリッドボールがありますが、現在はソリッドボールが市場のほとんどを占めています。ソリッドボールは反発力の強い合成ゴムでできていて、インパクト時のエネルギーを飛距離につなげる仕組みになっています。少しでも飛距離がのびるよう、小さなボールにいろいろな工夫があるのですね。 花粉情報 洗濯指数 傘指数 スポーツ レジャー 公共施設 その他 MY天気 衛星画像 天気図 お問い合わせ ©Copyright Weathernews Inc. 個人情報保護ポリシー ウェブサイト利用ガイドライン 推奨環境 運営会社 ©NIFTY Corporation'), Document(metadata={'title': '東京（東京）の天気 - Yahoo!天気・災害', 'source': 'https://weather.yahoo.co.jp/weather/jp/13/4410.html', 'score': 0.8010817, 'images': []}, page_content='パーソナル天気 現在位置： 天気・災害トップ > 関東・信越 > 東京都 > 東京（東京） 今日明日の天気 2024年11月19日 4時00分発表 11月19日(火) 晴時々曇 13℃[-7] 8℃[-3] 時間  0-6 6-12    12-18   18-24 降水  0％  0％  0％  0％ 風： 北の風後北東の風２３区西部では北の風やや強く 波： 1.5メートル後0.5メートル 11月20日(水) 曇のち雨 12℃[-1] 7℃[-1] 時間  0-6 6-12    12-18   18-24 降水  0％  10％ 30％ 60％ 風： 北西の風後東の風 波： 0.5メートル 東京地方の警報・注意報 注意報 強風、波浪 週間天気 2024年11月19日 2時00分発表 日付 11月21日 (木) 11月22日 (金) 11月23日 (土) 11月24日 (日) 11月25日 (月) 11月26日 (火) 天気 雨のち晴   晴時々曇   晴時々曇   晴時々曇   晴時々曇   曇一時雨 気温（℃）   14 降水 確率（％）   60  0   0   0   10  50 2024年11月19日 4時00分 発表 (C) Mapbox (C) OpenStreetMap (C) LY Corporation Yahoo!地図ガイドライン (C) Mapbox (C) OpenStreetMap (C) LY Corporation Yahoo!地図ガイドライン 11/18(月)18時\\u3000師走の寒さ\\u3000今季一番低く\\u3000北日本中心に積雪増加も Copyright (C) 2024 Weather Map Co., Ltd. All Rights Reserved. © LY Corporation'), Document(metadata={'title': '東京都の天気 - 日本気象協会 tenki.jp', 'source': 'https://tenki.jp/lite/forecast/3/16/?fr=57108C0701M03', 'score': 0.7060491, 'images': []}, page_content='東京都の天気 - 日本気象協会 tenki.jp tenki.jp 検索 メニュー 閉じる 検\\u3000索 閉じる 注目 天気予報 観測 防災 天気図 指数 レジャー 季節特集 アプリ ニュース 雨雲レーダー 2週間天気 雷レーダー PM2.5分布予測 スキー積雪情報 初日の出 2週間天気 雨雲レーダー PM2.5分布予測 tenki.jp×JAXA世界の雨雲の動き 雷レーダー(予報) 雨雲レーダー(過去) 雷レーダー(実況) 花粉飛散情報(1～5月頃) 桜開花情報(2～5月頃) GWの天気(4～5月頃) 梅雨入り・梅雨明け(5～7月頃) 熱中症情報(4～9月頃) 紅葉見頃情報(10～11月頃) ヒートショック予報(10～3月頃) スキー積雪情報(11～5月頃) 初日の出(12～1月頃) tenki.jp tenki.jp登山天気 気象予報士のポイント解説 東京都の天気 03(金) 05(日) 10(金) 12(日) 03日12:00発表01月03日(金) 千代田区  7/540% 新宿区  7/440% 世田谷区  8/440% 三鷹市  7/340% 八王子市  7/030% 青梅市  6/030% 大島町  13/710% 八丈町  16/1220% 小笠原村  18/1670% 2週間天気 千代田区 新宿区 世田谷区 八王子市 三鷹市 青梅市 大島町 八丈町 小笠原村 雨雲レーダー PM2.5 スキー積雪情報 気象予報士のポイント解説(日直予報士) 2週間天気 01/03(金)11:57 青森県に大雪警報 青森県酸ケ湯では4メートル超え 24時間で50センチ以上も急増 01/03(金)09:57 3日～5日の道路気象予測 Uターンラッシュに影響 関東や東海も雨や雪で影響あり 01/03(金)06:40 3日 日本海側は雪や雨 積雪さらに増加 太平洋側でも雨や雪の降る所も 01/03(金)05:30 雨雲レーダーで雨を回避！ tenki.jp公式 天気予報アプリ tenki.jp公式SNS tenki.jp公式アプリ tenki.jp tenki.jp 登山天気 雨雲レーダー PM2.5分布予測 2週間天気 気象予報士のポイント解説 スキー積雪情報 初日の出 tenki.jpの全情報はこちら (C)\\xa02025\\xa0日本気象協会 (C)\\xa02025\\xa0ALiNKインターネット')]}}, 'name': 'ChatPromptTemplate', 'tags': ['seq:step:2'], 'run_id': '7c9c75ba-ecbe-4332-98da-327a10c7c746', 'metadata': {}, 'parent_ids': ['f80ee914-55a9-4ccf-bd47-85304719c962']}\n",
      "{'event': 'on_prompt_end', 'data': {'output': ChatPromptValue(messages=[HumanMessage(content='以下の文脈だけを踏まえて質問に回答してください。\\n\\n文脈: \"\"\"\\n[Document(metadata={\\'title\\': \\'東京都の天気（今日・明日の天気） | @nifty天気予報\\', \\'source\\': \\'https://weather.nifty.com/prefecture/13\\', \\'score\\': 0.85967577, \\'images\\': []}, page_content=\\'東京都の天気（今日・明日の天気） | @nifty天気予報 @niftyトップ 今日・明日の天気 サイトマップ MY天気 地震情報台風情報警報・注意報花粉情報洗濯指数傘指数衛星画像天気図 スポーツレジャー観光地公共施設 全国の天気 東京都 台風20号、21号発生中 東京都の天気 今日の天気10月27日(日) 明日の天気10月28日(月) 東京  24/17 50% 大島  23/19 50% 八丈島  25/21 40% 父島  29/26 30% 港区 目黒区 大田区 世田谷区 墨田区 江東区 荒川区 足立区 葛飾区 日野市 多摩市 稲城市 多摩北部 三鷹市 昭島市 小平市 東村山市 東大和市 清瀬市 青梅市 大島 八丈島 東京  21/17 70% 大島  21/21 70% 八丈島  26/23 70% 父島  29/26 40% 港区 目黒区 大田区 世田谷区 墨田区 江東区 荒川区 足立区 葛飾区 日野市 多摩市 稲城市 多摩北部 三鷹市 昭島市 東村山市 東大和市 清瀬市 青梅市 大島 八丈島 栃木県 群馬県 東京都 長崎県 熊本県 大分県 宮崎県 沖縄県 お天気豆知識 ### 音速 秋が深まり気温も下がってくると、夏、元気に鳴いていた虫たちの声も次第に聞こえなくなります。特に夜などはひっそりとした静けさを感じることでしょう。皆さんは、気温の変化が音の伝わる速さにも影響する、ということを知っていますか。空気中では、気温が高いほど音は速く伝わります。また、気圧も音速に影響を与えますが、無視できるほど小さなものです。一方、地上のようには電波の伝わらない海中においては、音は空気中よりも速く伝わり、重要な通信手段となっています。水中では、水温が高いほど音速は速くなり、水圧が高くても速く伝わるようになります。つまり、海面付近の日射を受けて暖かいところと、大きな水圧のかかっている深海が、海の中では音速の速い領域となっているのです。音はそれが伝わっていく物質が密なほど速くなる、といった性質があります。そのため、一般には軽い空気よりも重たい水の中のほうが音を速く伝えるのです。空気中での音速は、通常、秒速３４０メートルですが、水中での音速は、秒速１５００メートル。空気中の４倍以上というすさまじい速さで伝わっていくのです。 ### ウエザーマーケティング 私達が毎日のように利用しているスーパーやコンビニの商品の中には、気温や天気、季節によってその売れゆきが大きく変わってくるものがあります。例えば、水着やスキー用品などの季節商品や、セーターやコートなどの衣類、野菜や飲み物などがそうです。当然、お店では、消費者が買いたいと思う時期に最適な商品を提供したいと考えています。その際、気象情報を活用しながら、販売計画を立てたり、商品の仕入れや在庫の管理などを工夫することを、「ウェザーマーケティング」と言います。天気や降水確率、体感温度などを商品の販売活動に活用することにより、むだを防ぎ、売り上げを上げるチャンスを知ることができるのです。さらに、ウェザーマーケティングは、仕入れや在庫管理などの販売計画だけでなく、店鋪の人員配置、売り場作り、プロモーション計画などにも役立てることができます。このように、気象情報はテレビで見ている天気予報だけでなく、流通の業界にもさまざまな形で活用されているのです。 ### ゴルフボールのしくみ スポーツの秋です。ゴルフを楽しむ方も多いでしょう。一見ただの小さな円球に思えるゴルフボールですが、その中には最先端のテクノロジーがつまっています。表面にあるへこみはディンプルといって、単なる飾りではありません。ディンプルには空気抵抗を減らして、揚力を増やす効果があり、ボールが遠くまで飛ぶための翼の役割をします。また、ゴルフボールは大きく分けて、糸巻きボールとソリッドボールがありますが、現在はソリッドボールが市場のほとんどを占めています。ソリッドボールは反発力の強い合成ゴムでできていて、インパクト時のエネルギーを飛距離につなげる仕組みになっています。少しでも飛距離がのびるよう、小さなボールにいろいろな工夫があるのですね。 花粉情報 洗濯指数 傘指数 スポーツ レジャー 公共施設 その他 MY天気 衛星画像 天気図 お問い合わせ ©Copyright Weathernews Inc. 個人情報保護ポリシー ウェブサイト利用ガイドライン 推奨環境 運営会社 ©NIFTY Corporation\\'), Document(metadata={\\'title\\': \\'東京（東京）の天気 - Yahoo!天気・災害\\', \\'source\\': \\'https://weather.yahoo.co.jp/weather/jp/13/4410.html\\', \\'score\\': 0.8010817, \\'images\\': []}, page_content=\\'パーソナル天気 現在位置： 天気・災害トップ > 関東・信越 > 東京都 > 東京（東京） 今日明日の天気 2024年11月19日 4時00分発表 11月19日(火) 晴時々曇 13℃[-7] 8℃[-3] 時間  0-6 6-12    12-18   18-24 降水  0％  0％  0％  0％ 風： 北の風後北東の風２３区西部では北の風やや強く 波： 1.5メートル後0.5メートル 11月20日(水) 曇のち雨 12℃[-1] 7℃[-1] 時間  0-6 6-12    12-18   18-24 降水  0％  10％ 30％ 60％ 風： 北西の風後東の風 波： 0.5メートル 東京地方の警報・注意報 注意報 強風、波浪 週間天気 2024年11月19日 2時00分発表 日付 11月21日 (木) 11月22日 (金) 11月23日 (土) 11月24日 (日) 11月25日 (月) 11月26日 (火) 天気 雨のち晴   晴時々曇   晴時々曇   晴時々曇   晴時々曇   曇一時雨 気温（℃）   14 降水 確率（％）   60  0   0   0   10  50 2024年11月19日 4時00分 発表 (C) Mapbox (C) OpenStreetMap (C) LY Corporation Yahoo!地図ガイドライン (C) Mapbox (C) OpenStreetMap (C) LY Corporation Yahoo!地図ガイドライン 11/18(月)18時\\\\u3000師走の寒さ\\\\u3000今季一番低く\\\\u3000北日本中心に積雪増加も Copyright (C) 2024 Weather Map Co., Ltd. All Rights Reserved. © LY Corporation\\'), Document(metadata={\\'title\\': \\'東京都の天気 - 日本気象協会 tenki.jp\\', \\'source\\': \\'https://tenki.jp/lite/forecast/3/16/?fr=57108C0701M03\\', \\'score\\': 0.7060491, \\'images\\': []}, page_content=\\'東京都の天気 - 日本気象協会 tenki.jp tenki.jp 検索 メニュー 閉じる 検\\\\u3000索 閉じる 注目 天気予報 観測 防災 天気図 指数 レジャー 季節特集 アプリ ニュース 雨雲レーダー 2週間天気 雷レーダー PM2.5分布予測 スキー積雪情報 初日の出 2週間天気 雨雲レーダー PM2.5分布予測 tenki.jp×JAXA世界の雨雲の動き 雷レーダー(予報) 雨雲レーダー(過去) 雷レーダー(実況) 花粉飛散情報(1～5月頃) 桜開花情報(2～5月頃) GWの天気(4～5月頃) 梅雨入り・梅雨明け(5～7月頃) 熱中症情報(4～9月頃) 紅葉見頃情報(10～11月頃) ヒートショック予報(10～3月頃) スキー積雪情報(11～5月頃) 初日の出(12～1月頃) tenki.jp tenki.jp登山天気 気象予報士のポイント解説 東京都の天気 03(金) 05(日) 10(金) 12(日) 03日12:00発表01月03日(金) 千代田区  7/540% 新宿区  7/440% 世田谷区  8/440% 三鷹市  7/340% 八王子市  7/030% 青梅市  6/030% 大島町  13/710% 八丈町  16/1220% 小笠原村  18/1670% 2週間天気 千代田区 新宿区 世田谷区 八王子市 三鷹市 青梅市 大島町 八丈町 小笠原村 雨雲レーダー PM2.5 スキー積雪情報 気象予報士のポイント解説(日直予報士) 2週間天気 01/03(金)11:57 青森県に大雪警報 青森県酸ケ湯では4メートル超え 24時間で50センチ以上も急増 01/03(金)09:57 3日～5日の道路気象予測 Uターンラッシュに影響 関東や東海も雨や雪で影響あり 01/03(金)06:40 3日 日本海側は雪や雨 積雪さらに増加 太平洋側でも雨や雪の降る所も 01/03(金)05:30 雨雲レーダーで雨を回避！ tenki.jp公式 天気予報アプリ tenki.jp公式SNS tenki.jp公式アプリ tenki.jp tenki.jp 登山天気 雨雲レーダー PM2.5分布予測 2週間天気 気象予報士のポイント解説 スキー積雪情報 初日の出 tenki.jpの全情報はこちら (C)\\\\xa02025\\\\xa0日本気象協会 (C)\\\\xa02025\\\\xa0ALiNKインターネット\\')]\\n\"\"\"\\n\\n質問: 東京の今日の天気は？\\n', additional_kwargs={}, response_metadata={})]), 'input': {'question': '東京の今日の天気は？', 'context': [Document(metadata={'title': '東京都の天気（今日・明日の天気） | @nifty天気予報', 'source': 'https://weather.nifty.com/prefecture/13', 'score': 0.85967577, 'images': []}, page_content='東京都の天気（今日・明日の天気） | @nifty天気予報 @niftyトップ 今日・明日の天気 サイトマップ MY天気 地震情報台風情報警報・注意報花粉情報洗濯指数傘指数衛星画像天気図 スポーツレジャー観光地公共施設 全国の天気 東京都 台風20号、21号発生中 東京都の天気 今日の天気10月27日(日) 明日の天気10月28日(月) 東京  24/17 50% 大島  23/19 50% 八丈島  25/21 40% 父島  29/26 30% 港区 目黒区 大田区 世田谷区 墨田区 江東区 荒川区 足立区 葛飾区 日野市 多摩市 稲城市 多摩北部 三鷹市 昭島市 小平市 東村山市 東大和市 清瀬市 青梅市 大島 八丈島 東京  21/17 70% 大島  21/21 70% 八丈島  26/23 70% 父島  29/26 40% 港区 目黒区 大田区 世田谷区 墨田区 江東区 荒川区 足立区 葛飾区 日野市 多摩市 稲城市 多摩北部 三鷹市 昭島市 東村山市 東大和市 清瀬市 青梅市 大島 八丈島 栃木県 群馬県 東京都 長崎県 熊本県 大分県 宮崎県 沖縄県 お天気豆知識 ### 音速 秋が深まり気温も下がってくると、夏、元気に鳴いていた虫たちの声も次第に聞こえなくなります。特に夜などはひっそりとした静けさを感じることでしょう。皆さんは、気温の変化が音の伝わる速さにも影響する、ということを知っていますか。空気中では、気温が高いほど音は速く伝わります。また、気圧も音速に影響を与えますが、無視できるほど小さなものです。一方、地上のようには電波の伝わらない海中においては、音は空気中よりも速く伝わり、重要な通信手段となっています。水中では、水温が高いほど音速は速くなり、水圧が高くても速く伝わるようになります。つまり、海面付近の日射を受けて暖かいところと、大きな水圧のかかっている深海が、海の中では音速の速い領域となっているのです。音はそれが伝わっていく物質が密なほど速くなる、といった性質があります。そのため、一般には軽い空気よりも重たい水の中のほうが音を速く伝えるのです。空気中での音速は、通常、秒速３４０メートルですが、水中での音速は、秒速１５００メートル。空気中の４倍以上というすさまじい速さで伝わっていくのです。 ### ウエザーマーケティング 私達が毎日のように利用しているスーパーやコンビニの商品の中には、気温や天気、季節によってその売れゆきが大きく変わってくるものがあります。例えば、水着やスキー用品などの季節商品や、セーターやコートなどの衣類、野菜や飲み物などがそうです。当然、お店では、消費者が買いたいと思う時期に最適な商品を提供したいと考えています。その際、気象情報を活用しながら、販売計画を立てたり、商品の仕入れや在庫の管理などを工夫することを、「ウェザーマーケティング」と言います。天気や降水確率、体感温度などを商品の販売活動に活用することにより、むだを防ぎ、売り上げを上げるチャンスを知ることができるのです。さらに、ウェザーマーケティングは、仕入れや在庫管理などの販売計画だけでなく、店鋪の人員配置、売り場作り、プロモーション計画などにも役立てることができます。このように、気象情報はテレビで見ている天気予報だけでなく、流通の業界にもさまざまな形で活用されているのです。 ### ゴルフボールのしくみ スポーツの秋です。ゴルフを楽しむ方も多いでしょう。一見ただの小さな円球に思えるゴルフボールですが、その中には最先端のテクノロジーがつまっています。表面にあるへこみはディンプルといって、単なる飾りではありません。ディンプルには空気抵抗を減らして、揚力を増やす効果があり、ボールが遠くまで飛ぶための翼の役割をします。また、ゴルフボールは大きく分けて、糸巻きボールとソリッドボールがありますが、現在はソリッドボールが市場のほとんどを占めています。ソリッドボールは反発力の強い合成ゴムでできていて、インパクト時のエネルギーを飛距離につなげる仕組みになっています。少しでも飛距離がのびるよう、小さなボールにいろいろな工夫があるのですね。 花粉情報 洗濯指数 傘指数 スポーツ レジャー 公共施設 その他 MY天気 衛星画像 天気図 お問い合わせ ©Copyright Weathernews Inc. 個人情報保護ポリシー ウェブサイト利用ガイドライン 推奨環境 運営会社 ©NIFTY Corporation'), Document(metadata={'title': '東京（東京）の天気 - Yahoo!天気・災害', 'source': 'https://weather.yahoo.co.jp/weather/jp/13/4410.html', 'score': 0.8010817, 'images': []}, page_content='パーソナル天気 現在位置： 天気・災害トップ > 関東・信越 > 東京都 > 東京（東京） 今日明日の天気 2024年11月19日 4時00分発表 11月19日(火) 晴時々曇 13℃[-7] 8℃[-3] 時間  0-6 6-12    12-18   18-24 降水  0％  0％  0％  0％ 風： 北の風後北東の風２３区西部では北の風やや強く 波： 1.5メートル後0.5メートル 11月20日(水) 曇のち雨 12℃[-1] 7℃[-1] 時間  0-6 6-12    12-18   18-24 降水  0％  10％ 30％ 60％ 風： 北西の風後東の風 波： 0.5メートル 東京地方の警報・注意報 注意報 強風、波浪 週間天気 2024年11月19日 2時00分発表 日付 11月21日 (木) 11月22日 (金) 11月23日 (土) 11月24日 (日) 11月25日 (月) 11月26日 (火) 天気 雨のち晴   晴時々曇   晴時々曇   晴時々曇   晴時々曇   曇一時雨 気温（℃）   14 降水 確率（％）   60  0   0   0   10  50 2024年11月19日 4時00分 発表 (C) Mapbox (C) OpenStreetMap (C) LY Corporation Yahoo!地図ガイドライン (C) Mapbox (C) OpenStreetMap (C) LY Corporation Yahoo!地図ガイドライン 11/18(月)18時\\u3000師走の寒さ\\u3000今季一番低く\\u3000北日本中心に積雪増加も Copyright (C) 2024 Weather Map Co., Ltd. All Rights Reserved. © LY Corporation'), Document(metadata={'title': '東京都の天気 - 日本気象協会 tenki.jp', 'source': 'https://tenki.jp/lite/forecast/3/16/?fr=57108C0701M03', 'score': 0.7060491, 'images': []}, page_content='東京都の天気 - 日本気象協会 tenki.jp tenki.jp 検索 メニュー 閉じる 検\\u3000索 閉じる 注目 天気予報 観測 防災 天気図 指数 レジャー 季節特集 アプリ ニュース 雨雲レーダー 2週間天気 雷レーダー PM2.5分布予測 スキー積雪情報 初日の出 2週間天気 雨雲レーダー PM2.5分布予測 tenki.jp×JAXA世界の雨雲の動き 雷レーダー(予報) 雨雲レーダー(過去) 雷レーダー(実況) 花粉飛散情報(1～5月頃) 桜開花情報(2～5月頃) GWの天気(4～5月頃) 梅雨入り・梅雨明け(5～7月頃) 熱中症情報(4～9月頃) 紅葉見頃情報(10～11月頃) ヒートショック予報(10～3月頃) スキー積雪情報(11～5月頃) 初日の出(12～1月頃) tenki.jp tenki.jp登山天気 気象予報士のポイント解説 東京都の天気 03(金) 05(日) 10(金) 12(日) 03日12:00発表01月03日(金) 千代田区  7/540% 新宿区  7/440% 世田谷区  8/440% 三鷹市  7/340% 八王子市  7/030% 青梅市  6/030% 大島町  13/710% 八丈町  16/1220% 小笠原村  18/1670% 2週間天気 千代田区 新宿区 世田谷区 八王子市 三鷹市 青梅市 大島町 八丈町 小笠原村 雨雲レーダー PM2.5 スキー積雪情報 気象予報士のポイント解説(日直予報士) 2週間天気 01/03(金)11:57 青森県に大雪警報 青森県酸ケ湯では4メートル超え 24時間で50センチ以上も急増 01/03(金)09:57 3日～5日の道路気象予測 Uターンラッシュに影響 関東や東海も雨や雪で影響あり 01/03(金)06:40 3日 日本海側は雪や雨 積雪さらに増加 太平洋側でも雨や雪の降る所も 01/03(金)05:30 雨雲レーダーで雨を回避！ tenki.jp公式 天気予報アプリ tenki.jp公式SNS tenki.jp公式アプリ tenki.jp tenki.jp 登山天気 雨雲レーダー PM2.5分布予測 2週間天気 気象予報士のポイント解説 スキー積雪情報 初日の出 tenki.jpの全情報はこちら (C)\\xa02025\\xa0日本気象協会 (C)\\xa02025\\xa0ALiNKインターネット')]}}, 'run_id': '7c9c75ba-ecbe-4332-98da-327a10c7c746', 'name': 'ChatPromptTemplate', 'tags': ['seq:step:2'], 'metadata': {}, 'parent_ids': ['f80ee914-55a9-4ccf-bd47-85304719c962']}\n",
      "{'event': 'on_chat_model_start', 'data': {'input': {'messages': [[HumanMessage(content='以下の文脈だけを踏まえて質問に回答してください。\\n\\n文脈: \"\"\"\\n[Document(metadata={\\'title\\': \\'東京都の天気（今日・明日の天気） | @nifty天気予報\\', \\'source\\': \\'https://weather.nifty.com/prefecture/13\\', \\'score\\': 0.85967577, \\'images\\': []}, page_content=\\'東京都の天気（今日・明日の天気） | @nifty天気予報 @niftyトップ 今日・明日の天気 サイトマップ MY天気 地震情報台風情報警報・注意報花粉情報洗濯指数傘指数衛星画像天気図 スポーツレジャー観光地公共施設 全国の天気 東京都 台風20号、21号発生中 東京都の天気 今日の天気10月27日(日) 明日の天気10月28日(月) 東京  24/17 50% 大島  23/19 50% 八丈島  25/21 40% 父島  29/26 30% 港区 目黒区 大田区 世田谷区 墨田区 江東区 荒川区 足立区 葛飾区 日野市 多摩市 稲城市 多摩北部 三鷹市 昭島市 小平市 東村山市 東大和市 清瀬市 青梅市 大島 八丈島 東京  21/17 70% 大島  21/21 70% 八丈島  26/23 70% 父島  29/26 40% 港区 目黒区 大田区 世田谷区 墨田区 江東区 荒川区 足立区 葛飾区 日野市 多摩市 稲城市 多摩北部 三鷹市 昭島市 東村山市 東大和市 清瀬市 青梅市 大島 八丈島 栃木県 群馬県 東京都 長崎県 熊本県 大分県 宮崎県 沖縄県 お天気豆知識 ### 音速 秋が深まり気温も下がってくると、夏、元気に鳴いていた虫たちの声も次第に聞こえなくなります。特に夜などはひっそりとした静けさを感じることでしょう。皆さんは、気温の変化が音の伝わる速さにも影響する、ということを知っていますか。空気中では、気温が高いほど音は速く伝わります。また、気圧も音速に影響を与えますが、無視できるほど小さなものです。一方、地上のようには電波の伝わらない海中においては、音は空気中よりも速く伝わり、重要な通信手段となっています。水中では、水温が高いほど音速は速くなり、水圧が高くても速く伝わるようになります。つまり、海面付近の日射を受けて暖かいところと、大きな水圧のかかっている深海が、海の中では音速の速い領域となっているのです。音はそれが伝わっていく物質が密なほど速くなる、といった性質があります。そのため、一般には軽い空気よりも重たい水の中のほうが音を速く伝えるのです。空気中での音速は、通常、秒速３４０メートルですが、水中での音速は、秒速１５００メートル。空気中の４倍以上というすさまじい速さで伝わっていくのです。 ### ウエザーマーケティング 私達が毎日のように利用しているスーパーやコンビニの商品の中には、気温や天気、季節によってその売れゆきが大きく変わってくるものがあります。例えば、水着やスキー用品などの季節商品や、セーターやコートなどの衣類、野菜や飲み物などがそうです。当然、お店では、消費者が買いたいと思う時期に最適な商品を提供したいと考えています。その際、気象情報を活用しながら、販売計画を立てたり、商品の仕入れや在庫の管理などを工夫することを、「ウェザーマーケティング」と言います。天気や降水確率、体感温度などを商品の販売活動に活用することにより、むだを防ぎ、売り上げを上げるチャンスを知ることができるのです。さらに、ウェザーマーケティングは、仕入れや在庫管理などの販売計画だけでなく、店鋪の人員配置、売り場作り、プロモーション計画などにも役立てることができます。このように、気象情報はテレビで見ている天気予報だけでなく、流通の業界にもさまざまな形で活用されているのです。 ### ゴルフボールのしくみ スポーツの秋です。ゴルフを楽しむ方も多いでしょう。一見ただの小さな円球に思えるゴルフボールですが、その中には最先端のテクノロジーがつまっています。表面にあるへこみはディンプルといって、単なる飾りではありません。ディンプルには空気抵抗を減らして、揚力を増やす効果があり、ボールが遠くまで飛ぶための翼の役割をします。また、ゴルフボールは大きく分けて、糸巻きボールとソリッドボールがありますが、現在はソリッドボールが市場のほとんどを占めています。ソリッドボールは反発力の強い合成ゴムでできていて、インパクト時のエネルギーを飛距離につなげる仕組みになっています。少しでも飛距離がのびるよう、小さなボールにいろいろな工夫があるのですね。 花粉情報 洗濯指数 傘指数 スポーツ レジャー 公共施設 その他 MY天気 衛星画像 天気図 お問い合わせ ©Copyright Weathernews Inc. 個人情報保護ポリシー ウェブサイト利用ガイドライン 推奨環境 運営会社 ©NIFTY Corporation\\'), Document(metadata={\\'title\\': \\'東京（東京）の天気 - Yahoo!天気・災害\\', \\'source\\': \\'https://weather.yahoo.co.jp/weather/jp/13/4410.html\\', \\'score\\': 0.8010817, \\'images\\': []}, page_content=\\'パーソナル天気 現在位置： 天気・災害トップ > 関東・信越 > 東京都 > 東京（東京） 今日明日の天気 2024年11月19日 4時00分発表 11月19日(火) 晴時々曇 13℃[-7] 8℃[-3] 時間  0-6 6-12    12-18   18-24 降水  0％  0％  0％  0％ 風： 北の風後北東の風２３区西部では北の風やや強く 波： 1.5メートル後0.5メートル 11月20日(水) 曇のち雨 12℃[-1] 7℃[-1] 時間  0-6 6-12    12-18   18-24 降水  0％  10％ 30％ 60％ 風： 北西の風後東の風 波： 0.5メートル 東京地方の警報・注意報 注意報 強風、波浪 週間天気 2024年11月19日 2時00分発表 日付 11月21日 (木) 11月22日 (金) 11月23日 (土) 11月24日 (日) 11月25日 (月) 11月26日 (火) 天気 雨のち晴   晴時々曇   晴時々曇   晴時々曇   晴時々曇   曇一時雨 気温（℃）   14 降水 確率（％）   60  0   0   0   10  50 2024年11月19日 4時00分 発表 (C) Mapbox (C) OpenStreetMap (C) LY Corporation Yahoo!地図ガイドライン (C) Mapbox (C) OpenStreetMap (C) LY Corporation Yahoo!地図ガイドライン 11/18(月)18時\\\\u3000師走の寒さ\\\\u3000今季一番低く\\\\u3000北日本中心に積雪増加も Copyright (C) 2024 Weather Map Co., Ltd. All Rights Reserved. © LY Corporation\\'), Document(metadata={\\'title\\': \\'東京都の天気 - 日本気象協会 tenki.jp\\', \\'source\\': \\'https://tenki.jp/lite/forecast/3/16/?fr=57108C0701M03\\', \\'score\\': 0.7060491, \\'images\\': []}, page_content=\\'東京都の天気 - 日本気象協会 tenki.jp tenki.jp 検索 メニュー 閉じる 検\\\\u3000索 閉じる 注目 天気予報 観測 防災 天気図 指数 レジャー 季節特集 アプリ ニュース 雨雲レーダー 2週間天気 雷レーダー PM2.5分布予測 スキー積雪情報 初日の出 2週間天気 雨雲レーダー PM2.5分布予測 tenki.jp×JAXA世界の雨雲の動き 雷レーダー(予報) 雨雲レーダー(過去) 雷レーダー(実況) 花粉飛散情報(1～5月頃) 桜開花情報(2～5月頃) GWの天気(4～5月頃) 梅雨入り・梅雨明け(5～7月頃) 熱中症情報(4～9月頃) 紅葉見頃情報(10～11月頃) ヒートショック予報(10～3月頃) スキー積雪情報(11～5月頃) 初日の出(12～1月頃) tenki.jp tenki.jp登山天気 気象予報士のポイント解説 東京都の天気 03(金) 05(日) 10(金) 12(日) 03日12:00発表01月03日(金) 千代田区  7/540% 新宿区  7/440% 世田谷区  8/440% 三鷹市  7/340% 八王子市  7/030% 青梅市  6/030% 大島町  13/710% 八丈町  16/1220% 小笠原村  18/1670% 2週間天気 千代田区 新宿区 世田谷区 八王子市 三鷹市 青梅市 大島町 八丈町 小笠原村 雨雲レーダー PM2.5 スキー積雪情報 気象予報士のポイント解説(日直予報士) 2週間天気 01/03(金)11:57 青森県に大雪警報 青森県酸ケ湯では4メートル超え 24時間で50センチ以上も急増 01/03(金)09:57 3日～5日の道路気象予測 Uターンラッシュに影響 関東や東海も雨や雪で影響あり 01/03(金)06:40 3日 日本海側は雪や雨 積雪さらに増加 太平洋側でも雨や雪の降る所も 01/03(金)05:30 雨雲レーダーで雨を回避！ tenki.jp公式 天気予報アプリ tenki.jp公式SNS tenki.jp公式アプリ tenki.jp tenki.jp 登山天気 雨雲レーダー PM2.5分布予測 2週間天気 気象予報士のポイント解説 スキー積雪情報 初日の出 tenki.jpの全情報はこちら (C)\\\\xa02025\\\\xa0日本気象協会 (C)\\\\xa02025\\\\xa0ALiNKインターネット\\')]\\n\"\"\"\\n\\n質問: 東京の今日の天気は？\\n', additional_kwargs={}, response_metadata={})]]}}, 'name': 'ChatOpenAI', 'tags': ['seq:step:3'], 'run_id': 'ec417e03-2ce0-460e-bd5c-e38fc26608a6', 'metadata': {'ls_provider': 'openai', 'ls_model_name': 'gpt-4o-mini', 'ls_model_type': 'chat', 'ls_temperature': 0.0}, 'parent_ids': ['f80ee914-55a9-4ccf-bd47-85304719c962']}\n",
      "{'event': 'on_chat_model_stream', 'data': {'chunk': AIMessageChunk(content='', additional_kwargs={}, response_metadata={}, id='run-ec417e03-2ce0-460e-bd5c-e38fc26608a6')}, 'run_id': 'ec417e03-2ce0-460e-bd5c-e38fc26608a6', 'name': 'ChatOpenAI', 'tags': ['seq:step:3'], 'metadata': {'ls_provider': 'openai', 'ls_model_name': 'gpt-4o-mini', 'ls_model_type': 'chat', 'ls_temperature': 0.0}, 'parent_ids': ['f80ee914-55a9-4ccf-bd47-85304719c962']}\n",
      "{'event': 'on_parser_start', 'data': {}, 'name': 'StrOutputParser', 'tags': ['seq:step:4'], 'run_id': '2b312867-40a3-4182-906b-eae803ad316b', 'metadata': {}, 'parent_ids': ['f80ee914-55a9-4ccf-bd47-85304719c962']}\n",
      "{'event': 'on_parser_stream', 'run_id': '2b312867-40a3-4182-906b-eae803ad316b', 'name': 'StrOutputParser', 'tags': ['seq:step:4'], 'metadata': {}, 'data': {'chunk': ''}, 'parent_ids': ['f80ee914-55a9-4ccf-bd47-85304719c962']}\n",
      "{'event': 'on_chain_stream', 'run_id': 'f80ee914-55a9-4ccf-bd47-85304719c962', 'name': 'RunnableSequence', 'tags': [], 'metadata': {}, 'data': {'chunk': ''}, 'parent_ids': []}\n",
      "{'event': 'on_chat_model_stream', 'data': {'chunk': AIMessageChunk(content='東京', additional_kwargs={}, response_metadata={}, id='run-ec417e03-2ce0-460e-bd5c-e38fc26608a6')}, 'run_id': 'ec417e03-2ce0-460e-bd5c-e38fc26608a6', 'name': 'ChatOpenAI', 'tags': ['seq:step:3'], 'metadata': {'ls_provider': 'openai', 'ls_model_name': 'gpt-4o-mini', 'ls_model_type': 'chat', 'ls_temperature': 0.0}, 'parent_ids': ['f80ee914-55a9-4ccf-bd47-85304719c962']}\n",
      "{'event': 'on_parser_stream', 'run_id': '2b312867-40a3-4182-906b-eae803ad316b', 'name': 'StrOutputParser', 'tags': ['seq:step:4'], 'metadata': {}, 'data': {'chunk': '東京'}, 'parent_ids': ['f80ee914-55a9-4ccf-bd47-85304719c962']}\n",
      "{'event': 'on_chain_stream', 'run_id': 'f80ee914-55a9-4ccf-bd47-85304719c962', 'name': 'RunnableSequence', 'tags': [], 'metadata': {}, 'data': {'chunk': '東京'}, 'parent_ids': []}\n",
      "{'event': 'on_chat_model_stream', 'data': {'chunk': AIMessageChunk(content='の', additional_kwargs={}, response_metadata={}, id='run-ec417e03-2ce0-460e-bd5c-e38fc26608a6')}, 'run_id': 'ec417e03-2ce0-460e-bd5c-e38fc26608a6', 'name': 'ChatOpenAI', 'tags': ['seq:step:3'], 'metadata': {'ls_provider': 'openai', 'ls_model_name': 'gpt-4o-mini', 'ls_model_type': 'chat', 'ls_temperature': 0.0}, 'parent_ids': ['f80ee914-55a9-4ccf-bd47-85304719c962']}\n",
      "{'event': 'on_parser_stream', 'run_id': '2b312867-40a3-4182-906b-eae803ad316b', 'name': 'StrOutputParser', 'tags': ['seq:step:4'], 'metadata': {}, 'data': {'chunk': 'の'}, 'parent_ids': ['f80ee914-55a9-4ccf-bd47-85304719c962']}\n",
      "{'event': 'on_chain_stream', 'run_id': 'f80ee914-55a9-4ccf-bd47-85304719c962', 'name': 'RunnableSequence', 'tags': [], 'metadata': {}, 'data': {'chunk': 'の'}, 'parent_ids': []}\n",
      "{'event': 'on_chat_model_stream', 'data': {'chunk': AIMessageChunk(content='今日', additional_kwargs={}, response_metadata={}, id='run-ec417e03-2ce0-460e-bd5c-e38fc26608a6')}, 'run_id': 'ec417e03-2ce0-460e-bd5c-e38fc26608a6', 'name': 'ChatOpenAI', 'tags': ['seq:step:3'], 'metadata': {'ls_provider': 'openai', 'ls_model_name': 'gpt-4o-mini', 'ls_model_type': 'chat', 'ls_temperature': 0.0}, 'parent_ids': ['f80ee914-55a9-4ccf-bd47-85304719c962']}\n",
      "{'event': 'on_parser_stream', 'run_id': '2b312867-40a3-4182-906b-eae803ad316b', 'name': 'StrOutputParser', 'tags': ['seq:step:4'], 'metadata': {}, 'data': {'chunk': '今日'}, 'parent_ids': ['f80ee914-55a9-4ccf-bd47-85304719c962']}\n",
      "{'event': 'on_chain_stream', 'run_id': 'f80ee914-55a9-4ccf-bd47-85304719c962', 'name': 'RunnableSequence', 'tags': [], 'metadata': {}, 'data': {'chunk': '今日'}, 'parent_ids': []}\n",
      "{'event': 'on_chat_model_stream', 'data': {'chunk': AIMessageChunk(content='の', additional_kwargs={}, response_metadata={}, id='run-ec417e03-2ce0-460e-bd5c-e38fc26608a6')}, 'run_id': 'ec417e03-2ce0-460e-bd5c-e38fc26608a6', 'name': 'ChatOpenAI', 'tags': ['seq:step:3'], 'metadata': {'ls_provider': 'openai', 'ls_model_name': 'gpt-4o-mini', 'ls_model_type': 'chat', 'ls_temperature': 0.0}, 'parent_ids': ['f80ee914-55a9-4ccf-bd47-85304719c962']}\n",
      "{'event': 'on_parser_stream', 'run_id': '2b312867-40a3-4182-906b-eae803ad316b', 'name': 'StrOutputParser', 'tags': ['seq:step:4'], 'metadata': {}, 'data': {'chunk': 'の'}, 'parent_ids': ['f80ee914-55a9-4ccf-bd47-85304719c962']}\n",
      "{'event': 'on_chain_stream', 'run_id': 'f80ee914-55a9-4ccf-bd47-85304719c962', 'name': 'RunnableSequence', 'tags': [], 'metadata': {}, 'data': {'chunk': 'の'}, 'parent_ids': []}\n",
      "{'event': 'on_chat_model_stream', 'data': {'chunk': AIMessageChunk(content='天', additional_kwargs={}, response_metadata={}, id='run-ec417e03-2ce0-460e-bd5c-e38fc26608a6')}, 'run_id': 'ec417e03-2ce0-460e-bd5c-e38fc26608a6', 'name': 'ChatOpenAI', 'tags': ['seq:step:3'], 'metadata': {'ls_provider': 'openai', 'ls_model_name': 'gpt-4o-mini', 'ls_model_type': 'chat', 'ls_temperature': 0.0}, 'parent_ids': ['f80ee914-55a9-4ccf-bd47-85304719c962']}\n",
      "{'event': 'on_parser_stream', 'run_id': '2b312867-40a3-4182-906b-eae803ad316b', 'name': 'StrOutputParser', 'tags': ['seq:step:4'], 'metadata': {}, 'data': {'chunk': '天'}, 'parent_ids': ['f80ee914-55a9-4ccf-bd47-85304719c962']}\n",
      "{'event': 'on_chain_stream', 'run_id': 'f80ee914-55a9-4ccf-bd47-85304719c962', 'name': 'RunnableSequence', 'tags': [], 'metadata': {}, 'data': {'chunk': '天'}, 'parent_ids': []}\n",
      "{'event': 'on_chat_model_stream', 'data': {'chunk': AIMessageChunk(content='気', additional_kwargs={}, response_metadata={}, id='run-ec417e03-2ce0-460e-bd5c-e38fc26608a6')}, 'run_id': 'ec417e03-2ce0-460e-bd5c-e38fc26608a6', 'name': 'ChatOpenAI', 'tags': ['seq:step:3'], 'metadata': {'ls_provider': 'openai', 'ls_model_name': 'gpt-4o-mini', 'ls_model_type': 'chat', 'ls_temperature': 0.0}, 'parent_ids': ['f80ee914-55a9-4ccf-bd47-85304719c962']}\n",
      "{'event': 'on_parser_stream', 'run_id': '2b312867-40a3-4182-906b-eae803ad316b', 'name': 'StrOutputParser', 'tags': ['seq:step:4'], 'metadata': {}, 'data': {'chunk': '気'}, 'parent_ids': ['f80ee914-55a9-4ccf-bd47-85304719c962']}\n",
      "{'event': 'on_chain_stream', 'run_id': 'f80ee914-55a9-4ccf-bd47-85304719c962', 'name': 'RunnableSequence', 'tags': [], 'metadata': {}, 'data': {'chunk': '気'}, 'parent_ids': []}\n",
      "{'event': 'on_chat_model_stream', 'data': {'chunk': AIMessageChunk(content='（', additional_kwargs={}, response_metadata={}, id='run-ec417e03-2ce0-460e-bd5c-e38fc26608a6')}, 'run_id': 'ec417e03-2ce0-460e-bd5c-e38fc26608a6', 'name': 'ChatOpenAI', 'tags': ['seq:step:3'], 'metadata': {'ls_provider': 'openai', 'ls_model_name': 'gpt-4o-mini', 'ls_model_type': 'chat', 'ls_temperature': 0.0}, 'parent_ids': ['f80ee914-55a9-4ccf-bd47-85304719c962']}\n",
      "{'event': 'on_parser_stream', 'run_id': '2b312867-40a3-4182-906b-eae803ad316b', 'name': 'StrOutputParser', 'tags': ['seq:step:4'], 'metadata': {}, 'data': {'chunk': '（'}, 'parent_ids': ['f80ee914-55a9-4ccf-bd47-85304719c962']}\n",
      "{'event': 'on_chain_stream', 'run_id': 'f80ee914-55a9-4ccf-bd47-85304719c962', 'name': 'RunnableSequence', 'tags': [], 'metadata': {}, 'data': {'chunk': '（'}, 'parent_ids': []}\n",
      "{'event': 'on_chat_model_stream', 'data': {'chunk': AIMessageChunk(content='10', additional_kwargs={}, response_metadata={}, id='run-ec417e03-2ce0-460e-bd5c-e38fc26608a6')}, 'run_id': 'ec417e03-2ce0-460e-bd5c-e38fc26608a6', 'name': 'ChatOpenAI', 'tags': ['seq:step:3'], 'metadata': {'ls_provider': 'openai', 'ls_model_name': 'gpt-4o-mini', 'ls_model_type': 'chat', 'ls_temperature': 0.0}, 'parent_ids': ['f80ee914-55a9-4ccf-bd47-85304719c962']}\n",
      "{'event': 'on_parser_stream', 'run_id': '2b312867-40a3-4182-906b-eae803ad316b', 'name': 'StrOutputParser', 'tags': ['seq:step:4'], 'metadata': {}, 'data': {'chunk': '10'}, 'parent_ids': ['f80ee914-55a9-4ccf-bd47-85304719c962']}\n",
      "{'event': 'on_chain_stream', 'run_id': 'f80ee914-55a9-4ccf-bd47-85304719c962', 'name': 'RunnableSequence', 'tags': [], 'metadata': {}, 'data': {'chunk': '10'}, 'parent_ids': []}\n",
      "{'event': 'on_chat_model_stream', 'data': {'chunk': AIMessageChunk(content='月', additional_kwargs={}, response_metadata={}, id='run-ec417e03-2ce0-460e-bd5c-e38fc26608a6')}, 'run_id': 'ec417e03-2ce0-460e-bd5c-e38fc26608a6', 'name': 'ChatOpenAI', 'tags': ['seq:step:3'], 'metadata': {'ls_provider': 'openai', 'ls_model_name': 'gpt-4o-mini', 'ls_model_type': 'chat', 'ls_temperature': 0.0}, 'parent_ids': ['f80ee914-55a9-4ccf-bd47-85304719c962']}\n",
      "{'event': 'on_parser_stream', 'run_id': '2b312867-40a3-4182-906b-eae803ad316b', 'name': 'StrOutputParser', 'tags': ['seq:step:4'], 'metadata': {}, 'data': {'chunk': '月'}, 'parent_ids': ['f80ee914-55a9-4ccf-bd47-85304719c962']}\n",
      "{'event': 'on_chain_stream', 'run_id': 'f80ee914-55a9-4ccf-bd47-85304719c962', 'name': 'RunnableSequence', 'tags': [], 'metadata': {}, 'data': {'chunk': '月'}, 'parent_ids': []}\n",
      "{'event': 'on_chat_model_stream', 'data': {'chunk': AIMessageChunk(content='27', additional_kwargs={}, response_metadata={}, id='run-ec417e03-2ce0-460e-bd5c-e38fc26608a6')}, 'run_id': 'ec417e03-2ce0-460e-bd5c-e38fc26608a6', 'name': 'ChatOpenAI', 'tags': ['seq:step:3'], 'metadata': {'ls_provider': 'openai', 'ls_model_name': 'gpt-4o-mini', 'ls_model_type': 'chat', 'ls_temperature': 0.0}, 'parent_ids': ['f80ee914-55a9-4ccf-bd47-85304719c962']}\n",
      "{'event': 'on_parser_stream', 'run_id': '2b312867-40a3-4182-906b-eae803ad316b', 'name': 'StrOutputParser', 'tags': ['seq:step:4'], 'metadata': {}, 'data': {'chunk': '27'}, 'parent_ids': ['f80ee914-55a9-4ccf-bd47-85304719c962']}\n",
      "{'event': 'on_chain_stream', 'run_id': 'f80ee914-55a9-4ccf-bd47-85304719c962', 'name': 'RunnableSequence', 'tags': [], 'metadata': {}, 'data': {'chunk': '27'}, 'parent_ids': []}\n",
      "{'event': 'on_chat_model_stream', 'data': {'chunk': AIMessageChunk(content='日', additional_kwargs={}, response_metadata={}, id='run-ec417e03-2ce0-460e-bd5c-e38fc26608a6')}, 'run_id': 'ec417e03-2ce0-460e-bd5c-e38fc26608a6', 'name': 'ChatOpenAI', 'tags': ['seq:step:3'], 'metadata': {'ls_provider': 'openai', 'ls_model_name': 'gpt-4o-mini', 'ls_model_type': 'chat', 'ls_temperature': 0.0}, 'parent_ids': ['f80ee914-55a9-4ccf-bd47-85304719c962']}\n",
      "{'event': 'on_parser_stream', 'run_id': '2b312867-40a3-4182-906b-eae803ad316b', 'name': 'StrOutputParser', 'tags': ['seq:step:4'], 'metadata': {}, 'data': {'chunk': '日'}, 'parent_ids': ['f80ee914-55a9-4ccf-bd47-85304719c962']}\n",
      "{'event': 'on_chain_stream', 'run_id': 'f80ee914-55a9-4ccf-bd47-85304719c962', 'name': 'RunnableSequence', 'tags': [], 'metadata': {}, 'data': {'chunk': '日'}, 'parent_ids': []}\n",
      "{'event': 'on_chat_model_stream', 'data': {'chunk': AIMessageChunk(content='）は', additional_kwargs={}, response_metadata={}, id='run-ec417e03-2ce0-460e-bd5c-e38fc26608a6')}, 'run_id': 'ec417e03-2ce0-460e-bd5c-e38fc26608a6', 'name': 'ChatOpenAI', 'tags': ['seq:step:3'], 'metadata': {'ls_provider': 'openai', 'ls_model_name': 'gpt-4o-mini', 'ls_model_type': 'chat', 'ls_temperature': 0.0}, 'parent_ids': ['f80ee914-55a9-4ccf-bd47-85304719c962']}\n",
      "{'event': 'on_parser_stream', 'run_id': '2b312867-40a3-4182-906b-eae803ad316b', 'name': 'StrOutputParser', 'tags': ['seq:step:4'], 'metadata': {}, 'data': {'chunk': '）は'}, 'parent_ids': ['f80ee914-55a9-4ccf-bd47-85304719c962']}\n",
      "{'event': 'on_chain_stream', 'run_id': 'f80ee914-55a9-4ccf-bd47-85304719c962', 'name': 'RunnableSequence', 'tags': [], 'metadata': {}, 'data': {'chunk': '）は'}, 'parent_ids': []}\n",
      "{'event': 'on_chat_model_stream', 'data': {'chunk': AIMessageChunk(content='、', additional_kwargs={}, response_metadata={}, id='run-ec417e03-2ce0-460e-bd5c-e38fc26608a6')}, 'run_id': 'ec417e03-2ce0-460e-bd5c-e38fc26608a6', 'name': 'ChatOpenAI', 'tags': ['seq:step:3'], 'metadata': {'ls_provider': 'openai', 'ls_model_name': 'gpt-4o-mini', 'ls_model_type': 'chat', 'ls_temperature': 0.0}, 'parent_ids': ['f80ee914-55a9-4ccf-bd47-85304719c962']}\n",
      "{'event': 'on_parser_stream', 'run_id': '2b312867-40a3-4182-906b-eae803ad316b', 'name': 'StrOutputParser', 'tags': ['seq:step:4'], 'metadata': {}, 'data': {'chunk': '、'}, 'parent_ids': ['f80ee914-55a9-4ccf-bd47-85304719c962']}\n",
      "{'event': 'on_chain_stream', 'run_id': 'f80ee914-55a9-4ccf-bd47-85304719c962', 'name': 'RunnableSequence', 'tags': [], 'metadata': {}, 'data': {'chunk': '、'}, 'parent_ids': []}\n",
      "{'event': 'on_chat_model_stream', 'data': {'chunk': AIMessageChunk(content='最高', additional_kwargs={}, response_metadata={}, id='run-ec417e03-2ce0-460e-bd5c-e38fc26608a6')}, 'run_id': 'ec417e03-2ce0-460e-bd5c-e38fc26608a6', 'name': 'ChatOpenAI', 'tags': ['seq:step:3'], 'metadata': {'ls_provider': 'openai', 'ls_model_name': 'gpt-4o-mini', 'ls_model_type': 'chat', 'ls_temperature': 0.0}, 'parent_ids': ['f80ee914-55a9-4ccf-bd47-85304719c962']}\n",
      "{'event': 'on_parser_stream', 'run_id': '2b312867-40a3-4182-906b-eae803ad316b', 'name': 'StrOutputParser', 'tags': ['seq:step:4'], 'metadata': {}, 'data': {'chunk': '最高'}, 'parent_ids': ['f80ee914-55a9-4ccf-bd47-85304719c962']}\n",
      "{'event': 'on_chain_stream', 'run_id': 'f80ee914-55a9-4ccf-bd47-85304719c962', 'name': 'RunnableSequence', 'tags': [], 'metadata': {}, 'data': {'chunk': '最高'}, 'parent_ids': []}\n",
      "{'event': 'on_chat_model_stream', 'data': {'chunk': AIMessageChunk(content='気', additional_kwargs={}, response_metadata={}, id='run-ec417e03-2ce0-460e-bd5c-e38fc26608a6')}, 'run_id': 'ec417e03-2ce0-460e-bd5c-e38fc26608a6', 'name': 'ChatOpenAI', 'tags': ['seq:step:3'], 'metadata': {'ls_provider': 'openai', 'ls_model_name': 'gpt-4o-mini', 'ls_model_type': 'chat', 'ls_temperature': 0.0}, 'parent_ids': ['f80ee914-55a9-4ccf-bd47-85304719c962']}\n",
      "{'event': 'on_parser_stream', 'run_id': '2b312867-40a3-4182-906b-eae803ad316b', 'name': 'StrOutputParser', 'tags': ['seq:step:4'], 'metadata': {}, 'data': {'chunk': '気'}, 'parent_ids': ['f80ee914-55a9-4ccf-bd47-85304719c962']}\n",
      "{'event': 'on_chain_stream', 'run_id': 'f80ee914-55a9-4ccf-bd47-85304719c962', 'name': 'RunnableSequence', 'tags': [], 'metadata': {}, 'data': {'chunk': '気'}, 'parent_ids': []}\n",
      "{'event': 'on_chat_model_stream', 'data': {'chunk': AIMessageChunk(content='温', additional_kwargs={}, response_metadata={}, id='run-ec417e03-2ce0-460e-bd5c-e38fc26608a6')}, 'run_id': 'ec417e03-2ce0-460e-bd5c-e38fc26608a6', 'name': 'ChatOpenAI', 'tags': ['seq:step:3'], 'metadata': {'ls_provider': 'openai', 'ls_model_name': 'gpt-4o-mini', 'ls_model_type': 'chat', 'ls_temperature': 0.0}, 'parent_ids': ['f80ee914-55a9-4ccf-bd47-85304719c962']}\n",
      "{'event': 'on_parser_stream', 'run_id': '2b312867-40a3-4182-906b-eae803ad316b', 'name': 'StrOutputParser', 'tags': ['seq:step:4'], 'metadata': {}, 'data': {'chunk': '温'}, 'parent_ids': ['f80ee914-55a9-4ccf-bd47-85304719c962']}\n",
      "{'event': 'on_chain_stream', 'run_id': 'f80ee914-55a9-4ccf-bd47-85304719c962', 'name': 'RunnableSequence', 'tags': [], 'metadata': {}, 'data': {'chunk': '温'}, 'parent_ids': []}\n",
      "{'event': 'on_chat_model_stream', 'data': {'chunk': AIMessageChunk(content='24', additional_kwargs={}, response_metadata={}, id='run-ec417e03-2ce0-460e-bd5c-e38fc26608a6')}, 'run_id': 'ec417e03-2ce0-460e-bd5c-e38fc26608a6', 'name': 'ChatOpenAI', 'tags': ['seq:step:3'], 'metadata': {'ls_provider': 'openai', 'ls_model_name': 'gpt-4o-mini', 'ls_model_type': 'chat', 'ls_temperature': 0.0}, 'parent_ids': ['f80ee914-55a9-4ccf-bd47-85304719c962']}\n",
      "{'event': 'on_parser_stream', 'run_id': '2b312867-40a3-4182-906b-eae803ad316b', 'name': 'StrOutputParser', 'tags': ['seq:step:4'], 'metadata': {}, 'data': {'chunk': '24'}, 'parent_ids': ['f80ee914-55a9-4ccf-bd47-85304719c962']}\n",
      "{'event': 'on_chain_stream', 'run_id': 'f80ee914-55a9-4ccf-bd47-85304719c962', 'name': 'RunnableSequence', 'tags': [], 'metadata': {}, 'data': {'chunk': '24'}, 'parent_ids': []}\n",
      "{'event': 'on_chat_model_stream', 'data': {'chunk': AIMessageChunk(content='℃', additional_kwargs={}, response_metadata={}, id='run-ec417e03-2ce0-460e-bd5c-e38fc26608a6')}, 'run_id': 'ec417e03-2ce0-460e-bd5c-e38fc26608a6', 'name': 'ChatOpenAI', 'tags': ['seq:step:3'], 'metadata': {'ls_provider': 'openai', 'ls_model_name': 'gpt-4o-mini', 'ls_model_type': 'chat', 'ls_temperature': 0.0}, 'parent_ids': ['f80ee914-55a9-4ccf-bd47-85304719c962']}\n",
      "{'event': 'on_parser_stream', 'run_id': '2b312867-40a3-4182-906b-eae803ad316b', 'name': 'StrOutputParser', 'tags': ['seq:step:4'], 'metadata': {}, 'data': {'chunk': '℃'}, 'parent_ids': ['f80ee914-55a9-4ccf-bd47-85304719c962']}\n",
      "{'event': 'on_chain_stream', 'run_id': 'f80ee914-55a9-4ccf-bd47-85304719c962', 'name': 'RunnableSequence', 'tags': [], 'metadata': {}, 'data': {'chunk': '℃'}, 'parent_ids': []}\n",
      "{'event': 'on_chat_model_stream', 'data': {'chunk': AIMessageChunk(content='、', additional_kwargs={}, response_metadata={}, id='run-ec417e03-2ce0-460e-bd5c-e38fc26608a6')}, 'run_id': 'ec417e03-2ce0-460e-bd5c-e38fc26608a6', 'name': 'ChatOpenAI', 'tags': ['seq:step:3'], 'metadata': {'ls_provider': 'openai', 'ls_model_name': 'gpt-4o-mini', 'ls_model_type': 'chat', 'ls_temperature': 0.0}, 'parent_ids': ['f80ee914-55a9-4ccf-bd47-85304719c962']}\n",
      "{'event': 'on_parser_stream', 'run_id': '2b312867-40a3-4182-906b-eae803ad316b', 'name': 'StrOutputParser', 'tags': ['seq:step:4'], 'metadata': {}, 'data': {'chunk': '、'}, 'parent_ids': ['f80ee914-55a9-4ccf-bd47-85304719c962']}\n",
      "{'event': 'on_chain_stream', 'run_id': 'f80ee914-55a9-4ccf-bd47-85304719c962', 'name': 'RunnableSequence', 'tags': [], 'metadata': {}, 'data': {'chunk': '、'}, 'parent_ids': []}\n",
      "{'event': 'on_chat_model_stream', 'data': {'chunk': AIMessageChunk(content='最低', additional_kwargs={}, response_metadata={}, id='run-ec417e03-2ce0-460e-bd5c-e38fc26608a6')}, 'run_id': 'ec417e03-2ce0-460e-bd5c-e38fc26608a6', 'name': 'ChatOpenAI', 'tags': ['seq:step:3'], 'metadata': {'ls_provider': 'openai', 'ls_model_name': 'gpt-4o-mini', 'ls_model_type': 'chat', 'ls_temperature': 0.0}, 'parent_ids': ['f80ee914-55a9-4ccf-bd47-85304719c962']}\n",
      "{'event': 'on_parser_stream', 'run_id': '2b312867-40a3-4182-906b-eae803ad316b', 'name': 'StrOutputParser', 'tags': ['seq:step:4'], 'metadata': {}, 'data': {'chunk': '最低'}, 'parent_ids': ['f80ee914-55a9-4ccf-bd47-85304719c962']}\n",
      "{'event': 'on_chain_stream', 'run_id': 'f80ee914-55a9-4ccf-bd47-85304719c962', 'name': 'RunnableSequence', 'tags': [], 'metadata': {}, 'data': {'chunk': '最低'}, 'parent_ids': []}\n",
      "{'event': 'on_chat_model_stream', 'data': {'chunk': AIMessageChunk(content='気', additional_kwargs={}, response_metadata={}, id='run-ec417e03-2ce0-460e-bd5c-e38fc26608a6')}, 'run_id': 'ec417e03-2ce0-460e-bd5c-e38fc26608a6', 'name': 'ChatOpenAI', 'tags': ['seq:step:3'], 'metadata': {'ls_provider': 'openai', 'ls_model_name': 'gpt-4o-mini', 'ls_model_type': 'chat', 'ls_temperature': 0.0}, 'parent_ids': ['f80ee914-55a9-4ccf-bd47-85304719c962']}\n",
      "{'event': 'on_parser_stream', 'run_id': '2b312867-40a3-4182-906b-eae803ad316b', 'name': 'StrOutputParser', 'tags': ['seq:step:4'], 'metadata': {}, 'data': {'chunk': '気'}, 'parent_ids': ['f80ee914-55a9-4ccf-bd47-85304719c962']}\n",
      "{'event': 'on_chain_stream', 'run_id': 'f80ee914-55a9-4ccf-bd47-85304719c962', 'name': 'RunnableSequence', 'tags': [], 'metadata': {}, 'data': {'chunk': '気'}, 'parent_ids': []}\n",
      "{'event': 'on_chat_model_stream', 'data': {'chunk': AIMessageChunk(content='温', additional_kwargs={}, response_metadata={}, id='run-ec417e03-2ce0-460e-bd5c-e38fc26608a6')}, 'run_id': 'ec417e03-2ce0-460e-bd5c-e38fc26608a6', 'name': 'ChatOpenAI', 'tags': ['seq:step:3'], 'metadata': {'ls_provider': 'openai', 'ls_model_name': 'gpt-4o-mini', 'ls_model_type': 'chat', 'ls_temperature': 0.0}, 'parent_ids': ['f80ee914-55a9-4ccf-bd47-85304719c962']}\n",
      "{'event': 'on_parser_stream', 'run_id': '2b312867-40a3-4182-906b-eae803ad316b', 'name': 'StrOutputParser', 'tags': ['seq:step:4'], 'metadata': {}, 'data': {'chunk': '温'}, 'parent_ids': ['f80ee914-55a9-4ccf-bd47-85304719c962']}\n",
      "{'event': 'on_chain_stream', 'run_id': 'f80ee914-55a9-4ccf-bd47-85304719c962', 'name': 'RunnableSequence', 'tags': [], 'metadata': {}, 'data': {'chunk': '温'}, 'parent_ids': []}\n",
      "{'event': 'on_chat_model_stream', 'data': {'chunk': AIMessageChunk(content='17', additional_kwargs={}, response_metadata={}, id='run-ec417e03-2ce0-460e-bd5c-e38fc26608a6')}, 'run_id': 'ec417e03-2ce0-460e-bd5c-e38fc26608a6', 'name': 'ChatOpenAI', 'tags': ['seq:step:3'], 'metadata': {'ls_provider': 'openai', 'ls_model_name': 'gpt-4o-mini', 'ls_model_type': 'chat', 'ls_temperature': 0.0}, 'parent_ids': ['f80ee914-55a9-4ccf-bd47-85304719c962']}\n",
      "{'event': 'on_parser_stream', 'run_id': '2b312867-40a3-4182-906b-eae803ad316b', 'name': 'StrOutputParser', 'tags': ['seq:step:4'], 'metadata': {}, 'data': {'chunk': '17'}, 'parent_ids': ['f80ee914-55a9-4ccf-bd47-85304719c962']}\n",
      "{'event': 'on_chain_stream', 'run_id': 'f80ee914-55a9-4ccf-bd47-85304719c962', 'name': 'RunnableSequence', 'tags': [], 'metadata': {}, 'data': {'chunk': '17'}, 'parent_ids': []}\n",
      "{'event': 'on_chat_model_stream', 'data': {'chunk': AIMessageChunk(content='℃', additional_kwargs={}, response_metadata={}, id='run-ec417e03-2ce0-460e-bd5c-e38fc26608a6')}, 'run_id': 'ec417e03-2ce0-460e-bd5c-e38fc26608a6', 'name': 'ChatOpenAI', 'tags': ['seq:step:3'], 'metadata': {'ls_provider': 'openai', 'ls_model_name': 'gpt-4o-mini', 'ls_model_type': 'chat', 'ls_temperature': 0.0}, 'parent_ids': ['f80ee914-55a9-4ccf-bd47-85304719c962']}\n",
      "{'event': 'on_parser_stream', 'run_id': '2b312867-40a3-4182-906b-eae803ad316b', 'name': 'StrOutputParser', 'tags': ['seq:step:4'], 'metadata': {}, 'data': {'chunk': '℃'}, 'parent_ids': ['f80ee914-55a9-4ccf-bd47-85304719c962']}\n",
      "{'event': 'on_chain_stream', 'run_id': 'f80ee914-55a9-4ccf-bd47-85304719c962', 'name': 'RunnableSequence', 'tags': [], 'metadata': {}, 'data': {'chunk': '℃'}, 'parent_ids': []}\n",
      "{'event': 'on_chat_model_stream', 'data': {'chunk': AIMessageChunk(content='、', additional_kwargs={}, response_metadata={}, id='run-ec417e03-2ce0-460e-bd5c-e38fc26608a6')}, 'run_id': 'ec417e03-2ce0-460e-bd5c-e38fc26608a6', 'name': 'ChatOpenAI', 'tags': ['seq:step:3'], 'metadata': {'ls_provider': 'openai', 'ls_model_name': 'gpt-4o-mini', 'ls_model_type': 'chat', 'ls_temperature': 0.0}, 'parent_ids': ['f80ee914-55a9-4ccf-bd47-85304719c962']}\n",
      "{'event': 'on_parser_stream', 'run_id': '2b312867-40a3-4182-906b-eae803ad316b', 'name': 'StrOutputParser', 'tags': ['seq:step:4'], 'metadata': {}, 'data': {'chunk': '、'}, 'parent_ids': ['f80ee914-55a9-4ccf-bd47-85304719c962']}\n",
      "{'event': 'on_chain_stream', 'run_id': 'f80ee914-55a9-4ccf-bd47-85304719c962', 'name': 'RunnableSequence', 'tags': [], 'metadata': {}, 'data': {'chunk': '、'}, 'parent_ids': []}\n",
      "{'event': 'on_chat_model_stream', 'data': {'chunk': AIMessageChunk(content='降', additional_kwargs={}, response_metadata={}, id='run-ec417e03-2ce0-460e-bd5c-e38fc26608a6')}, 'run_id': 'ec417e03-2ce0-460e-bd5c-e38fc26608a6', 'name': 'ChatOpenAI', 'tags': ['seq:step:3'], 'metadata': {'ls_provider': 'openai', 'ls_model_name': 'gpt-4o-mini', 'ls_model_type': 'chat', 'ls_temperature': 0.0}, 'parent_ids': ['f80ee914-55a9-4ccf-bd47-85304719c962']}\n",
      "{'event': 'on_parser_stream', 'run_id': '2b312867-40a3-4182-906b-eae803ad316b', 'name': 'StrOutputParser', 'tags': ['seq:step:4'], 'metadata': {}, 'data': {'chunk': '降'}, 'parent_ids': ['f80ee914-55a9-4ccf-bd47-85304719c962']}\n",
      "{'event': 'on_chain_stream', 'run_id': 'f80ee914-55a9-4ccf-bd47-85304719c962', 'name': 'RunnableSequence', 'tags': [], 'metadata': {}, 'data': {'chunk': '降'}, 'parent_ids': []}\n",
      "{'event': 'on_chat_model_stream', 'data': {'chunk': AIMessageChunk(content='水', additional_kwargs={}, response_metadata={}, id='run-ec417e03-2ce0-460e-bd5c-e38fc26608a6')}, 'run_id': 'ec417e03-2ce0-460e-bd5c-e38fc26608a6', 'name': 'ChatOpenAI', 'tags': ['seq:step:3'], 'metadata': {'ls_provider': 'openai', 'ls_model_name': 'gpt-4o-mini', 'ls_model_type': 'chat', 'ls_temperature': 0.0}, 'parent_ids': ['f80ee914-55a9-4ccf-bd47-85304719c962']}\n",
      "{'event': 'on_parser_stream', 'run_id': '2b312867-40a3-4182-906b-eae803ad316b', 'name': 'StrOutputParser', 'tags': ['seq:step:4'], 'metadata': {}, 'data': {'chunk': '水'}, 'parent_ids': ['f80ee914-55a9-4ccf-bd47-85304719c962']}\n",
      "{'event': 'on_chain_stream', 'run_id': 'f80ee914-55a9-4ccf-bd47-85304719c962', 'name': 'RunnableSequence', 'tags': [], 'metadata': {}, 'data': {'chunk': '水'}, 'parent_ids': []}\n",
      "{'event': 'on_chat_model_stream', 'data': {'chunk': AIMessageChunk(content='確', additional_kwargs={}, response_metadata={}, id='run-ec417e03-2ce0-460e-bd5c-e38fc26608a6')}, 'run_id': 'ec417e03-2ce0-460e-bd5c-e38fc26608a6', 'name': 'ChatOpenAI', 'tags': ['seq:step:3'], 'metadata': {'ls_provider': 'openai', 'ls_model_name': 'gpt-4o-mini', 'ls_model_type': 'chat', 'ls_temperature': 0.0}, 'parent_ids': ['f80ee914-55a9-4ccf-bd47-85304719c962']}\n",
      "{'event': 'on_parser_stream', 'run_id': '2b312867-40a3-4182-906b-eae803ad316b', 'name': 'StrOutputParser', 'tags': ['seq:step:4'], 'metadata': {}, 'data': {'chunk': '確'}, 'parent_ids': ['f80ee914-55a9-4ccf-bd47-85304719c962']}\n",
      "{'event': 'on_chain_stream', 'run_id': 'f80ee914-55a9-4ccf-bd47-85304719c962', 'name': 'RunnableSequence', 'tags': [], 'metadata': {}, 'data': {'chunk': '確'}, 'parent_ids': []}\n",
      "{'event': 'on_chat_model_stream', 'data': {'chunk': AIMessageChunk(content='率', additional_kwargs={}, response_metadata={}, id='run-ec417e03-2ce0-460e-bd5c-e38fc26608a6')}, 'run_id': 'ec417e03-2ce0-460e-bd5c-e38fc26608a6', 'name': 'ChatOpenAI', 'tags': ['seq:step:3'], 'metadata': {'ls_provider': 'openai', 'ls_model_name': 'gpt-4o-mini', 'ls_model_type': 'chat', 'ls_temperature': 0.0}, 'parent_ids': ['f80ee914-55a9-4ccf-bd47-85304719c962']}\n",
      "{'event': 'on_parser_stream', 'run_id': '2b312867-40a3-4182-906b-eae803ad316b', 'name': 'StrOutputParser', 'tags': ['seq:step:4'], 'metadata': {}, 'data': {'chunk': '率'}, 'parent_ids': ['f80ee914-55a9-4ccf-bd47-85304719c962']}\n",
      "{'event': 'on_chain_stream', 'run_id': 'f80ee914-55a9-4ccf-bd47-85304719c962', 'name': 'RunnableSequence', 'tags': [], 'metadata': {}, 'data': {'chunk': '率'}, 'parent_ids': []}\n",
      "{'event': 'on_chat_model_stream', 'data': {'chunk': AIMessageChunk(content='50', additional_kwargs={}, response_metadata={}, id='run-ec417e03-2ce0-460e-bd5c-e38fc26608a6')}, 'run_id': 'ec417e03-2ce0-460e-bd5c-e38fc26608a6', 'name': 'ChatOpenAI', 'tags': ['seq:step:3'], 'metadata': {'ls_provider': 'openai', 'ls_model_name': 'gpt-4o-mini', 'ls_model_type': 'chat', 'ls_temperature': 0.0}, 'parent_ids': ['f80ee914-55a9-4ccf-bd47-85304719c962']}\n",
      "{'event': 'on_parser_stream', 'run_id': '2b312867-40a3-4182-906b-eae803ad316b', 'name': 'StrOutputParser', 'tags': ['seq:step:4'], 'metadata': {}, 'data': {'chunk': '50'}, 'parent_ids': ['f80ee914-55a9-4ccf-bd47-85304719c962']}\n",
      "{'event': 'on_chain_stream', 'run_id': 'f80ee914-55a9-4ccf-bd47-85304719c962', 'name': 'RunnableSequence', 'tags': [], 'metadata': {}, 'data': {'chunk': '50'}, 'parent_ids': []}\n",
      "{'event': 'on_chat_model_stream', 'data': {'chunk': AIMessageChunk(content='%', additional_kwargs={}, response_metadata={}, id='run-ec417e03-2ce0-460e-bd5c-e38fc26608a6')}, 'run_id': 'ec417e03-2ce0-460e-bd5c-e38fc26608a6', 'name': 'ChatOpenAI', 'tags': ['seq:step:3'], 'metadata': {'ls_provider': 'openai', 'ls_model_name': 'gpt-4o-mini', 'ls_model_type': 'chat', 'ls_temperature': 0.0}, 'parent_ids': ['f80ee914-55a9-4ccf-bd47-85304719c962']}\n",
      "{'event': 'on_parser_stream', 'run_id': '2b312867-40a3-4182-906b-eae803ad316b', 'name': 'StrOutputParser', 'tags': ['seq:step:4'], 'metadata': {}, 'data': {'chunk': '%'}, 'parent_ids': ['f80ee914-55a9-4ccf-bd47-85304719c962']}\n",
      "{'event': 'on_chain_stream', 'run_id': 'f80ee914-55a9-4ccf-bd47-85304719c962', 'name': 'RunnableSequence', 'tags': [], 'metadata': {}, 'data': {'chunk': '%'}, 'parent_ids': []}\n",
      "{'event': 'on_chat_model_stream', 'data': {'chunk': AIMessageChunk(content='です', additional_kwargs={}, response_metadata={}, id='run-ec417e03-2ce0-460e-bd5c-e38fc26608a6')}, 'run_id': 'ec417e03-2ce0-460e-bd5c-e38fc26608a6', 'name': 'ChatOpenAI', 'tags': ['seq:step:3'], 'metadata': {'ls_provider': 'openai', 'ls_model_name': 'gpt-4o-mini', 'ls_model_type': 'chat', 'ls_temperature': 0.0}, 'parent_ids': ['f80ee914-55a9-4ccf-bd47-85304719c962']}\n",
      "{'event': 'on_parser_stream', 'run_id': '2b312867-40a3-4182-906b-eae803ad316b', 'name': 'StrOutputParser', 'tags': ['seq:step:4'], 'metadata': {}, 'data': {'chunk': 'です'}, 'parent_ids': ['f80ee914-55a9-4ccf-bd47-85304719c962']}\n",
      "{'event': 'on_chain_stream', 'run_id': 'f80ee914-55a9-4ccf-bd47-85304719c962', 'name': 'RunnableSequence', 'tags': [], 'metadata': {}, 'data': {'chunk': 'です'}, 'parent_ids': []}\n",
      "{'event': 'on_chat_model_stream', 'data': {'chunk': AIMessageChunk(content='。', additional_kwargs={}, response_metadata={}, id='run-ec417e03-2ce0-460e-bd5c-e38fc26608a6')}, 'run_id': 'ec417e03-2ce0-460e-bd5c-e38fc26608a6', 'name': 'ChatOpenAI', 'tags': ['seq:step:3'], 'metadata': {'ls_provider': 'openai', 'ls_model_name': 'gpt-4o-mini', 'ls_model_type': 'chat', 'ls_temperature': 0.0}, 'parent_ids': ['f80ee914-55a9-4ccf-bd47-85304719c962']}\n",
      "{'event': 'on_parser_stream', 'run_id': '2b312867-40a3-4182-906b-eae803ad316b', 'name': 'StrOutputParser', 'tags': ['seq:step:4'], 'metadata': {}, 'data': {'chunk': '。'}, 'parent_ids': ['f80ee914-55a9-4ccf-bd47-85304719c962']}\n",
      "{'event': 'on_chain_stream', 'run_id': 'f80ee914-55a9-4ccf-bd47-85304719c962', 'name': 'RunnableSequence', 'tags': [], 'metadata': {}, 'data': {'chunk': '。'}, 'parent_ids': []}\n",
      "{'event': 'on_chat_model_stream', 'data': {'chunk': AIMessageChunk(content='', additional_kwargs={}, response_metadata={'finish_reason': 'stop', 'model_name': 'gpt-4o-mini-2024-07-18', 'system_fingerprint': 'fp_d02d531b47'}, id='run-ec417e03-2ce0-460e-bd5c-e38fc26608a6')}, 'run_id': 'ec417e03-2ce0-460e-bd5c-e38fc26608a6', 'name': 'ChatOpenAI', 'tags': ['seq:step:3'], 'metadata': {'ls_provider': 'openai', 'ls_model_name': 'gpt-4o-mini', 'ls_model_type': 'chat', 'ls_temperature': 0.0}, 'parent_ids': ['f80ee914-55a9-4ccf-bd47-85304719c962']}\n",
      "{'event': 'on_parser_stream', 'run_id': '2b312867-40a3-4182-906b-eae803ad316b', 'name': 'StrOutputParser', 'tags': ['seq:step:4'], 'metadata': {}, 'data': {'chunk': ''}, 'parent_ids': ['f80ee914-55a9-4ccf-bd47-85304719c962']}\n",
      "{'event': 'on_chain_stream', 'run_id': 'f80ee914-55a9-4ccf-bd47-85304719c962', 'name': 'RunnableSequence', 'tags': [], 'metadata': {}, 'data': {'chunk': ''}, 'parent_ids': []}\n",
      "{'event': 'on_chat_model_end', 'data': {'output': AIMessageChunk(content='東京の今日の天気（10月27日）は、最高気温24℃、最低気温17℃、降水確率50%です。', additional_kwargs={}, response_metadata={'finish_reason': 'stop', 'model_name': 'gpt-4o-mini-2024-07-18', 'system_fingerprint': 'fp_d02d531b47'}, id='run-ec417e03-2ce0-460e-bd5c-e38fc26608a6'), 'input': {'messages': [[HumanMessage(content='以下の文脈だけを踏まえて質問に回答してください。\\n\\n文脈: \"\"\"\\n[Document(metadata={\\'title\\': \\'東京都の天気（今日・明日の天気） | @nifty天気予報\\', \\'source\\': \\'https://weather.nifty.com/prefecture/13\\', \\'score\\': 0.85967577, \\'images\\': []}, page_content=\\'東京都の天気（今日・明日の天気） | @nifty天気予報 @niftyトップ 今日・明日の天気 サイトマップ MY天気 地震情報台風情報警報・注意報花粉情報洗濯指数傘指数衛星画像天気図 スポーツレジャー観光地公共施設 全国の天気 東京都 台風20号、21号発生中 東京都の天気 今日の天気10月27日(日) 明日の天気10月28日(月) 東京  24/17 50% 大島  23/19 50% 八丈島  25/21 40% 父島  29/26 30% 港区 目黒区 大田区 世田谷区 墨田区 江東区 荒川区 足立区 葛飾区 日野市 多摩市 稲城市 多摩北部 三鷹市 昭島市 小平市 東村山市 東大和市 清瀬市 青梅市 大島 八丈島 東京  21/17 70% 大島  21/21 70% 八丈島  26/23 70% 父島  29/26 40% 港区 目黒区 大田区 世田谷区 墨田区 江東区 荒川区 足立区 葛飾区 日野市 多摩市 稲城市 多摩北部 三鷹市 昭島市 東村山市 東大和市 清瀬市 青梅市 大島 八丈島 栃木県 群馬県 東京都 長崎県 熊本県 大分県 宮崎県 沖縄県 お天気豆知識 ### 音速 秋が深まり気温も下がってくると、夏、元気に鳴いていた虫たちの声も次第に聞こえなくなります。特に夜などはひっそりとした静けさを感じることでしょう。皆さんは、気温の変化が音の伝わる速さにも影響する、ということを知っていますか。空気中では、気温が高いほど音は速く伝わります。また、気圧も音速に影響を与えますが、無視できるほど小さなものです。一方、地上のようには電波の伝わらない海中においては、音は空気中よりも速く伝わり、重要な通信手段となっています。水中では、水温が高いほど音速は速くなり、水圧が高くても速く伝わるようになります。つまり、海面付近の日射を受けて暖かいところと、大きな水圧のかかっている深海が、海の中では音速の速い領域となっているのです。音はそれが伝わっていく物質が密なほど速くなる、といった性質があります。そのため、一般には軽い空気よりも重たい水の中のほうが音を速く伝えるのです。空気中での音速は、通常、秒速３４０メートルですが、水中での音速は、秒速１５００メートル。空気中の４倍以上というすさまじい速さで伝わっていくのです。 ### ウエザーマーケティング 私達が毎日のように利用しているスーパーやコンビニの商品の中には、気温や天気、季節によってその売れゆきが大きく変わってくるものがあります。例えば、水着やスキー用品などの季節商品や、セーターやコートなどの衣類、野菜や飲み物などがそうです。当然、お店では、消費者が買いたいと思う時期に最適な商品を提供したいと考えています。その際、気象情報を活用しながら、販売計画を立てたり、商品の仕入れや在庫の管理などを工夫することを、「ウェザーマーケティング」と言います。天気や降水確率、体感温度などを商品の販売活動に活用することにより、むだを防ぎ、売り上げを上げるチャンスを知ることができるのです。さらに、ウェザーマーケティングは、仕入れや在庫管理などの販売計画だけでなく、店鋪の人員配置、売り場作り、プロモーション計画などにも役立てることができます。このように、気象情報はテレビで見ている天気予報だけでなく、流通の業界にもさまざまな形で活用されているのです。 ### ゴルフボールのしくみ スポーツの秋です。ゴルフを楽しむ方も多いでしょう。一見ただの小さな円球に思えるゴルフボールですが、その中には最先端のテクノロジーがつまっています。表面にあるへこみはディンプルといって、単なる飾りではありません。ディンプルには空気抵抗を減らして、揚力を増やす効果があり、ボールが遠くまで飛ぶための翼の役割をします。また、ゴルフボールは大きく分けて、糸巻きボールとソリッドボールがありますが、現在はソリッドボールが市場のほとんどを占めています。ソリッドボールは反発力の強い合成ゴムでできていて、インパクト時のエネルギーを飛距離につなげる仕組みになっています。少しでも飛距離がのびるよう、小さなボールにいろいろな工夫があるのですね。 花粉情報 洗濯指数 傘指数 スポーツ レジャー 公共施設 その他 MY天気 衛星画像 天気図 お問い合わせ ©Copyright Weathernews Inc. 個人情報保護ポリシー ウェブサイト利用ガイドライン 推奨環境 運営会社 ©NIFTY Corporation\\'), Document(metadata={\\'title\\': \\'東京（東京）の天気 - Yahoo!天気・災害\\', \\'source\\': \\'https://weather.yahoo.co.jp/weather/jp/13/4410.html\\', \\'score\\': 0.8010817, \\'images\\': []}, page_content=\\'パーソナル天気 現在位置： 天気・災害トップ > 関東・信越 > 東京都 > 東京（東京） 今日明日の天気 2024年11月19日 4時00分発表 11月19日(火) 晴時々曇 13℃[-7] 8℃[-3] 時間  0-6 6-12    12-18   18-24 降水  0％  0％  0％  0％ 風： 北の風後北東の風２３区西部では北の風やや強く 波： 1.5メートル後0.5メートル 11月20日(水) 曇のち雨 12℃[-1] 7℃[-1] 時間  0-6 6-12    12-18   18-24 降水  0％  10％ 30％ 60％ 風： 北西の風後東の風 波： 0.5メートル 東京地方の警報・注意報 注意報 強風、波浪 週間天気 2024年11月19日 2時00分発表 日付 11月21日 (木) 11月22日 (金) 11月23日 (土) 11月24日 (日) 11月25日 (月) 11月26日 (火) 天気 雨のち晴   晴時々曇   晴時々曇   晴時々曇   晴時々曇   曇一時雨 気温（℃）   14 降水 確率（％）   60  0   0   0   10  50 2024年11月19日 4時00分 発表 (C) Mapbox (C) OpenStreetMap (C) LY Corporation Yahoo!地図ガイドライン (C) Mapbox (C) OpenStreetMap (C) LY Corporation Yahoo!地図ガイドライン 11/18(月)18時\\\\u3000師走の寒さ\\\\u3000今季一番低く\\\\u3000北日本中心に積雪増加も Copyright (C) 2024 Weather Map Co., Ltd. All Rights Reserved. © LY Corporation\\'), Document(metadata={\\'title\\': \\'東京都の天気 - 日本気象協会 tenki.jp\\', \\'source\\': \\'https://tenki.jp/lite/forecast/3/16/?fr=57108C0701M03\\', \\'score\\': 0.7060491, \\'images\\': []}, page_content=\\'東京都の天気 - 日本気象協会 tenki.jp tenki.jp 検索 メニュー 閉じる 検\\\\u3000索 閉じる 注目 天気予報 観測 防災 天気図 指数 レジャー 季節特集 アプリ ニュース 雨雲レーダー 2週間天気 雷レーダー PM2.5分布予測 スキー積雪情報 初日の出 2週間天気 雨雲レーダー PM2.5分布予測 tenki.jp×JAXA世界の雨雲の動き 雷レーダー(予報) 雨雲レーダー(過去) 雷レーダー(実況) 花粉飛散情報(1～5月頃) 桜開花情報(2～5月頃) GWの天気(4～5月頃) 梅雨入り・梅雨明け(5～7月頃) 熱中症情報(4～9月頃) 紅葉見頃情報(10～11月頃) ヒートショック予報(10～3月頃) スキー積雪情報(11～5月頃) 初日の出(12～1月頃) tenki.jp tenki.jp登山天気 気象予報士のポイント解説 東京都の天気 03(金) 05(日) 10(金) 12(日) 03日12:00発表01月03日(金) 千代田区  7/540% 新宿区  7/440% 世田谷区  8/440% 三鷹市  7/340% 八王子市  7/030% 青梅市  6/030% 大島町  13/710% 八丈町  16/1220% 小笠原村  18/1670% 2週間天気 千代田区 新宿区 世田谷区 八王子市 三鷹市 青梅市 大島町 八丈町 小笠原村 雨雲レーダー PM2.5 スキー積雪情報 気象予報士のポイント解説(日直予報士) 2週間天気 01/03(金)11:57 青森県に大雪警報 青森県酸ケ湯では4メートル超え 24時間で50センチ以上も急増 01/03(金)09:57 3日～5日の道路気象予測 Uターンラッシュに影響 関東や東海も雨や雪で影響あり 01/03(金)06:40 3日 日本海側は雪や雨 積雪さらに増加 太平洋側でも雨や雪の降る所も 01/03(金)05:30 雨雲レーダーで雨を回避！ tenki.jp公式 天気予報アプリ tenki.jp公式SNS tenki.jp公式アプリ tenki.jp tenki.jp 登山天気 雨雲レーダー PM2.5分布予測 2週間天気 気象予報士のポイント解説 スキー積雪情報 初日の出 tenki.jpの全情報はこちら (C)\\\\xa02025\\\\xa0日本気象協会 (C)\\\\xa02025\\\\xa0ALiNKインターネット\\')]\\n\"\"\"\\n\\n質問: 東京の今日の天気は？\\n', additional_kwargs={}, response_metadata={})]]}}, 'run_id': 'ec417e03-2ce0-460e-bd5c-e38fc26608a6', 'name': 'ChatOpenAI', 'tags': ['seq:step:3'], 'metadata': {'ls_provider': 'openai', 'ls_model_name': 'gpt-4o-mini', 'ls_model_type': 'chat', 'ls_temperature': 0.0}, 'parent_ids': ['f80ee914-55a9-4ccf-bd47-85304719c962']}\n",
      "{'event': 'on_parser_end', 'data': {'output': '東京の今日の天気（10月27日）は、最高気温24℃、最低気温17℃、降水確率50%です。', 'input': AIMessageChunk(content='東京の今日の天気（10月27日）は、最高気温24℃、最低気温17℃、降水確率50%です。', additional_kwargs={}, response_metadata={'finish_reason': 'stop', 'model_name': 'gpt-4o-mini-2024-07-18', 'system_fingerprint': 'fp_d02d531b47'}, id='run-ec417e03-2ce0-460e-bd5c-e38fc26608a6')}, 'run_id': '2b312867-40a3-4182-906b-eae803ad316b', 'name': 'StrOutputParser', 'tags': ['seq:step:4'], 'metadata': {}, 'parent_ids': ['f80ee914-55a9-4ccf-bd47-85304719c962']}\n",
      "{'event': 'on_chain_end', 'data': {'output': '東京の今日の天気（10月27日）は、最高気温24℃、最低気温17℃、降水確率50%です。'}, 'run_id': 'f80ee914-55a9-4ccf-bd47-85304719c962', 'name': 'RunnableSequence', 'tags': [], 'metadata': {}, 'parent_ids': []}\n"
     ]
    }
   ],
   "source": [
    "chain = (\n",
    "    {\"context\": retriever, \"question\": RunnablePassthrough()}\n",
    "    | prompt\n",
    "    | model\n",
    "    | StrOutputParser()\n",
    ")\n",
    "\n",
    "async for event in chain.astream_events(\"東京の今日の天気は？\", version=\"v2\"):\n",
    "    print(event, flush=True)\n"
   ]
  },
  {
   "cell_type": "code",
   "execution_count": 49,
   "metadata": {},
   "outputs": [
    {
     "name": "stdout",
     "output_type": "stream",
     "text": [
      "=== 検索結果 ===\n",
      "page_content='パーソナル天気 現在位置： 天気・災害トップ > 関東・信越 > 東京都 > 東京（東京） 今日明日の天気 2024年11月19日 4時00分発表 11月19日(火) 晴時々曇 13℃[-7] 8℃[-3] 時間  0-6 6-12    12-18   18-24 降水  0％  0％  0％  0％ 風： 北の風後北東の風２３区西部では北の風やや強く 波： 1.5メートル後0.5メートル 11月20日(水) 曇のち雨 12℃[-1] 7℃[-1] 時間  0-6 6-12    12-18   18-24 降水  0％  10％ 30％ 60％ 風： 北西の風後東の風 波： 0.5メートル 東京地方の警報・注意報 注意報 強風、波浪 週間天気 2024年11月19日 2時00分発表 日付 11月21日 (木) 11月22日 (金) 11月23日 (土) 11月24日 (日) 11月25日 (月) 11月26日 (火) 天気 雨のち晴   晴時々曇   晴時々曇   晴時々曇   晴時々曇   曇一時雨 気温（℃）   14 降水 確率（％）   60  0   0   0   10  50 2024年11月19日 4時00分 発表 (C) Mapbox (C) OpenStreetMap (C) LY Corporation Yahoo!地図ガイドライン (C) Mapbox (C) OpenStreetMap (C) LY Corporation Yahoo!地図ガイドライン 11/18(月)18時　師走の寒さ　今季一番低く　北日本中心に積雪増加も Copyright (C) 2024 Weather Map Co., Ltd. All Rights Reserved. © LY Corporation' metadata={'title': '東京（東京）の天気 - Yahoo!天気・災害', 'source': 'https://weather.yahoo.co.jp/weather/jp/13/4410.html', 'score': 0.8010817, 'images': []}\n",
      "page_content='{{item.cityname}}\n",
      "天気予報を検索\n",
      "天気\n",
      "防災・減災\n",
      "自然・季節・健康\n",
      "便利なメニュー\n",
      "ほか全メニュー\n",
      "令和6年能登半島地震　特設サイト\n",
      "東京都中央区の天気予報\n",
      "5分ごと\n",
      "1時間ごと\n",
      "今日明日\n",
      "週間天気\n",
      "日\n",
      "天気\n",
      "気温\n",
      "降水\n",
      "確率\n",
      "今日\n",
      "1月12日 (金)\n",
      "最高14℃\n",
      "最低3℃\n",
      "午前10%\n",
      "午後10%\n",
      "明日\n",
      "1月13日 (土)\n",
      "最高11℃\n",
      "最低3℃\n",
      "午前10%\n",
      "午後-%\n",
      "冬晴れ　体感温度の調節を\n",
      "今日は冬晴れで、洗濯物も良く乾きそうです。昼間は昨日よりも日差しの温もりを感じられます。朝晩はグッと冷えるため、特に受験生は体調管理を万全に。\n",
      "5分ごと\n",
      "1時間ごと\n",
      "時\n",
      "分\n",
      "天気\n",
      "0時\n",
      "・\n",
      "星はっきり\n",
      "20\n",
      "星はっきり\n",
      "・\n",
      "星はっきり\n",
      "30\n",
      "星はっきり\n",
      "・\n",
      "星はっきり\n",
      "40\n",
      "星はっきり\n",
      "・\n",
      "星はっきり\n",
      "50\n",
      "星はっきり\n",
      "・\n",
      "星はっきり\n",
      "1時\n",
      "00\n",
      "星はっきり\n",
      "・\n",
      "星はっきり\n",
      "10\n",
      "星はっきり\n",
      "日\n",
      "時\n",
      "天気\n",
      "降水\n",
      "気温\n",
      "風\n",
      "12日(金)\n",
      "1\n",
      "0\n",
      "3℃\n",
      "1m\n",
      "2\n",
      "0\n",
      "3℃\n",
      "1m\n",
      "3\n",
      "0\n",
      "3℃\n",
      "1m\n",
      "4\n",
      "0\n",
      "4℃\n",
      "1m\n",
      "5\n",
      "0\n",
      "4℃\n",
      "1m\n",
      "6\n",
      "0\n",
      "4℃\n",
      "1m\n",
      "7\n",
      "0\n",
      "4℃\n",
      "2m\n",
      "8\n",
      "0\n",
      "4℃\n",
      "2m\n",
      "9\n",
      "0\n",
      "5℃\n",
      "2m\n",
      "10\n",
      "0\n",
      "7℃\n",
      "2m\n",
      "11\n",
      "0\n",
      "9℃\n",
      "2m\n",
      "12\n",
      "0\n",
      "10℃\n",
      "2m\n",
      "13\n",
      "0\n",
      "12℃\n",
      "2m\n",
      "14\n",
      "0\n",
      "13℃\n",
      "2m\n",
      "15\n",
      "0\n",
      "14℃\n",
      "2m\n",
      "16\n",
      "0\n",
      "14℃\n",
      "2m\n",
      "17\n",
      "0\n",
      "14℃\n",
      "2m\n",
      "18\n",
      "0\n",
      "14℃\n",
      "1m\n",
      "19\n",
      "0\n",
      "13℃\n",
      "2m\n",
      "20\n",
      "0\n",
      "11℃\n",
      "2m\n",
      "21\n",
      "0\n",
      "10℃\n",
      "2m\n",
      "22\n",
      "0\n",
      "10℃\n",
      "2m\n",
      "23\n",
      "0\n",
      "9℃\n",
      "2m\n",
      "13日(土)\n",
      "0\n",
      "0\n",
      "8℃\n",
      "2m\n",
      "1\n",
      "0\n",
      "7℃\n",
      "2m\n",
      "2\n",
      "0\n",
      "6℃\n",
      "2m\n",
      "3\n",
      "0\n",
      "6℃\n",
      "2m\n",
      "4\n",
      "0\n",
      "5℃\n",
      "2m\n",
      "5\n",
      "0\n",
      "5℃\n",
      "2m\n",
      "6\n",
      "0\n",
      "5℃\n",
      "2m\n",
      "7\n",
      "0\n",
      "5℃\n",
      "2m\n",
      "8\n",
      "0\n",
      "6℃\n",
      "2m\n",
      "9\n",
      "0\n",
      "6℃\n",
      "2m\n",
      "10\n",
      "0\n",
      "7℃\n",
      "2m\n",
      "11\n",
      "0\n",
      "8℃\n",
      "2m\n",
      "12\n",
      "0\n",
      "9℃\n",
      "2m\n",
      "13\n",
      "0\n",
      "10℃\n",
      "3m\n",
      "14\n",
      "0\n",
      "10℃\n",
      "3m\n",
      "15\n",
      "0\n",
      "11℃\n",
      "2m\n",
      "16\n",
      "1ミリ\n",
      "11℃\n",
      "1m\n",
      "17\n",
      "1ミリ\n",
      "8℃\n",
      "4m\n",
      "18\n",
      "0\n",
      "6℃\n",
      "4m\n",
      "19\n",
      "0\n",
      "5℃\n",
      "4m\n",
      "20\n",
      "0\n",
      "4℃\n",
      "5m\n",
      "21\n",
      "0\n",
      "3℃\n",
      "5m\n",
      "22\n",
      "0\n",
      "4℃\n",
      "5m\n",
      "23\n",
      "0\n",
      "4℃\n",
      "6m\n",
      "14日(日)\n",
      "0\n",
      "0\n",
      "4℃\n",
      "7m\n",
      "1\n",
      "0\n",
      "4℃\n",
      "6m\n",
      "2\n",
      "0\n",
      "4℃\n",
      "5m\n",
      "3\n",
      "0\n",
      "4℃\n",
      "5m\n",
      "4\n",
      "0\n",
      "4℃\n",
      "4m\n",
      "5\n",
      "0\n",
      "3℃\n",
      "3m\n",
      "6\n",
      "0\n",
      "4℃\n",
      "2m\n",
      "7\n",
      "0\n",
      "4℃\n",
      "2m\n",
      "8\n",
      "0\n",
      "4℃\n",
      "2m\n",
      "9\n",
      "0\n",
      "5℃\n",
      "1m\n",
      "10\n",
      "0\n",
      "6℃\n",
      "1m\n",
      "11\n",
      "0\n",
      "7℃\n",
      "2m\n",
      "12\n",
      "0\n",
      "9℃\n",
      "3m\n",
      "13\n",
      "0\n",
      "10℃\n",
      "4m\n",
      "14\n",
      "0\n",
      "11℃\n",
      "5m\n",
      "15\n",
      "0\n",
      "12℃\n",
      "6m\n",
      "16\n",
      "0\n",
      "12℃\n",
      "7m\n",
      "17\n",
      "0\n",
      "12℃\n",
      "6m\n",
      "18\n",
      "0\n",
      "12℃\n",
      "5m\n",
      "19\n",
      "0\n",
      "11℃\n",
      "5m\n",
      "20\n",
      "0\n",
      "10℃\n",
      "5m\n",
      "21\n",
      "0\n",
      "10℃\n",
      "4m\n",
      "22\n",
      "0\n",
      "10℃\n",
      "5m\n",
      "23\n",
      "0\n",
      "9℃\n",
      "5m\n",
      "15日(月)\n",
      "0\n",
      "0\n",
      "9℃\n",
      "5m\n",
      "冬晴れ　体感温度の調節を\n",
      "今日は冬晴れで、洗濯物も良く乾きそうです。昼間は昨日よりも日差しの温もりを感じられます。朝晩はグッと冷えるため、特に受験生は体調管理を万全に。\n",
      "週間(10日間)\n",
      "日\n",
      "天気\n",
      "最高\n",
      "最低\n",
      "降水\n",
      "13(土)\n",
      "11℃\n",
      "3℃\n",
      "50%\n",
      "14(日)\n",
      "12℃\n",
      "2℃\n",
      "20%\n",
      "15(月)\n",
      "12℃\n",
      "4℃\n",
      "20%\n",
      "16(火)\n",
      "10℃\n",
      "1℃\n",
      "20%\n",
      "17(水)\n",
      "12℃\n",
      "2℃\n",
      "20%\n",
      "18(木)\n",
      "14℃\n",
      "3℃\n",
      "30%\n",
      "19(金)\n",
      "12℃\n",
      "5℃\n",
      "40%\n",
      "20(土)\n",
      "10℃\n",
      "5℃\n",
      "40%\n",
      "21(日)\n",
      "10℃\n",
      "4℃\n",
      "60%\n",
      "晴れる日が多い　寒暖差に注意\n",
      "晴れる日が多く、日差しの温もりを感じられそうです。空気が乾燥しているため、火の取り扱いには要注意。日ごとや一日の寒暖差で体調を崩さないよう、お気をつけください。\n",
      "お天気ニュース\n",
      "1月11日(木)　各地の気温変化と最適な服装\n",
      "2024.01.11 15:51\n",
      "明日12日(金)の天気予報　北陸は雨で土砂災害に警戒　太平洋側は穏やかな空\n",
      "2024.01.11 17:00\n",
      "13日(土)の関東は天気急変　都心でも雨に雪が混じる可能性\n",
      "2024.01.11 18:21\n",
      "お天気ニュースをもっと読む →\n",
      "お天気ニュース\n",
      "1月11日(木)　各地の気温変化と最適な服装\n",
      "2024.01.11 15:51\n",
      "明日12日(金)の天気予報　北陸は雨で土砂災害に警戒　太平洋側は穏やかな空\n",
      "2024.01.11 17:00\n",
      "13日(土)の関東は天気急変　都心でも雨に雪が混じる可能性\n",
      "2024.01.11 18:21\n",
      "お天気ニュースをもっと読む →\n",
      "東京都中央区付近の天気\n",
      "雨雲レーダー\n",
      "地図を拡大\n",
      "今の天気\n",
      "グラフ\n",
      "00:00\n",
      "空の写真\n",
      "空の写真をもっと見る\n",
      "ライブ動画番組\n",
      "【ライブ放送中】最新地震・気象情報　ウェザーニュースLiVE\n",
      "東京都中央区付近の観測値\n",
      "(℃)\n",
      "(m/s)\n",
      "(mm/h)\n",
      "(分)\n",
      "続きを見る\n",
      "東京都の都市の天気予報\n",
      "周辺の都道府県\n",
      "お天気ニュース\n",
      "樽酒の鏡開きに込められた意味とは　声かけの回数も決まっていた？\n",
      "2024.01.11 05:00\n",
      "冬に大活躍するフリースの“ふわふわ感”を復活させる洗濯方法\n",
      "2024.01.11 05:00\n",
      "桜開花予想2024　各地とも平年より早く、東京は3月17日予想\n",
      " 2024.01.11 12:00\n",
      "週間天気　北陸など日本海側は雪や雨　関東も土曜に天気崩れる可能性\n",
      "2024.01.11 15:00\n",
      "気象庁1か月予報　暖冬傾向続く　冬将軍は出番なし\n",
      "2024.01.11 16:34\n",
      "お天気ニュースをもっと読む →\n",
      "いまおすすめのメニュー\n",
      "雨雲レーダー\n",
      "雨雲の動きと予想を確認\n",
      "ウェザーリポート\n",
      "全国から届くお天気リポート\n",
      "防災・減災メニュー\n",
      "天気メニュー\n",
      "自然・季節・レジャー情報\n",
      "予報精度向上の取り組みについて\n",
      "東京都中央区付近の空の写真\n",
      "ウェザーニュース' metadata={'title': '東京都中央区の天気予報 - ウェザーニュース', 'source': 'https://weathernews.jp/onebox/tenki/tokyo/13102/', 'score': 0.7507177, 'images': []}\n",
      "page_content='Home   >  東京都   >  千代田区   >  東京   >  14日間(2週間)の1時間ごとの天気予報    東京の天気 リロードすると1時間ごとに更新されます。 今日 2024年 9月22日(日) 28℃/23℃  明日 2024年 9月23日(月) 30℃/22℃  明日 2024年 9月23日(月) 30℃/22℃  2024年 9月24日(火) 27℃/20℃  2024年 9月24日(火) 27℃/20℃  2024年 9月25日(水) 26℃/21℃  2024年 9月25日(水) 26℃/21℃  2024年 9月26日(木) 27℃/22℃  2024年 9月26日(木) 27℃/22℃  2024年 9月27日(金) 29℃/21℃  2024年 9月27日(金) 29℃/21℃  2024年 9月28日(土) 29℃/21℃  2024年 9月28日(土) 29℃/21℃  2024年 9月29日(日) 28℃/22℃  2024年 9月29日(日) 28℃/22℃  2024年 9月30日(月) 26℃/20℃  2024年 9月30日(月) 26℃/20℃  2024年 10月1日(火) 26℃/19℃  2024年 10月1日(火) 26℃/19℃  2024年 10月2日(水) 24℃/23℃  2024年 10月2日(水) 24℃/23℃  2024年 10月3日(木) 27℃/22℃  2024年 10月3日(木) 27℃/22℃  2024年 10月4日(金) 30℃/25℃  2024年 10月4日(金) 30℃/25℃  2024年 10月5日(土) 24℃/22℃  2024年 10月5日(土) 24℃/22℃  2024年 10月6日(日) 今日から２週間分まで先の予報が時間ごとに見られます。 1時間予報 今日から１ヶ月先、１ヶ月以上先の予報が見られます。 90日間予報 14日間の天気日付をクリックすると、1時間ごとの天気やその日の詳細が見られます。 1時間ごとの天気 時間 天気 気温(℃) 降水量(mm/h) 気温(℃) 気温(℃) 気温(℃) 気温(℃) 気温(℃) 気温(℃) 気温(℃) 気温(℃) 気温(℃) 気温(℃) 気温(℃) 気温(℃) 気温(℃)' metadata={'title': '東京の14日間(2週間)の1時間ごとの天気予報 - 東進', 'source': 'https://www.toshin.com/weather/detail?id=56682', 'score': 0.74161834, 'images': []}\n",
      "=== 最終出力 ===\n",
      "東京の今日、2024年11月19日(火)の天気は「晴時々曇」で、最高気温は13℃、最低気温は8℃です。降水確率は0％です。"
     ]
    }
   ],
   "source": [
    "async for event in chain.astream_events(\"東京の今日の天気は？\", version=\"v2\"):\n",
    "    event_kind = event[\"event\"]\n",
    "\n",
    "    if event_kind == \"on_retriever_end\":\n",
    "        print(\"=== 検索結果 ===\")\n",
    "        documents = event[\"data\"][\"output\"]\n",
    "        for document in documents:\n",
    "            print(document)\n",
    "\n",
    "    elif event_kind == \"on_parser_start\":\n",
    "        print(\"=== 最終出力 ===\")\n",
    "\n",
    "    elif event_kind == \"on_parser_stream\":\n",
    "        chunk = event[\"data\"][\"chunk\"]\n",
    "        print(chunk, end=\"\", flush=True)\n"
   ]
  },
  {
   "cell_type": "markdown",
   "metadata": {},
   "source": [
    "### （コラム）Chat history と Memory\n"
   ]
  },
  {
   "cell_type": "code",
   "execution_count": 54,
   "metadata": {},
   "outputs": [],
   "source": [
    "from langchain_core.output_parsers import StrOutputParser\n",
    "from langchain_core.prompts import ChatPromptTemplate, MessagesPlaceholder\n",
    "from langchain_openai import ChatOpenAI\n",
    "\n",
    "model = ChatOpenAI(model=\"gpt-4o-mini\", temperature=0)\n",
    "\n",
    "prompt = ChatPromptTemplate.from_messages(\n",
    "    [\n",
    "        (\"system\", \"You are a helpful assistant.\"),\n",
    "        MessagesPlaceholder(\"chat_history\", optional=True),\n",
    "        (\"human\", \"{input}\"),\n",
    "    ]\n",
    ")\n",
    "\n",
    "chain = prompt | model | StrOutputParser()\n"
   ]
  },
  {
   "cell_type": "code",
   "execution_count": 55,
   "metadata": {},
   "outputs": [],
   "source": [
    "from langchain_community.chat_message_histories import SQLChatMessageHistory\n",
    "\n",
    "\n",
    "def respond(session_id: str, human_message: str) -> str:\n",
    "    chat_message_history = SQLChatMessageHistory(\n",
    "        session_id=session_id, connection=\"sqlite:///sqlite.db\"\n",
    "    )\n",
    "\n",
    "    ai_message = chain.invoke(\n",
    "        {\n",
    "            \"chat_history\": chat_message_history.get_messages(),\n",
    "            \"input\": human_message,\n",
    "        }\n",
    "    )\n",
    "\n",
    "    chat_message_history.add_user_message(human_message)\n",
    "    chat_message_history.add_ai_message(ai_message)\n",
    "\n",
    "    return ai_message\n"
   ]
  },
  {
   "cell_type": "code",
   "execution_count": 56,
   "metadata": {},
   "outputs": [
    {
     "name": "stdout",
     "output_type": "stream",
     "text": [
      "こんにちは、ジョンさん！お会いできて嬉しいです。今日はどんなことをお話ししましょうか？\n",
      "はい、あなたの名前はジョンさんです。何か特別なことについてお話ししたいことがありますか？\n"
     ]
    }
   ],
   "source": [
    "from uuid import uuid4\n",
    "\n",
    "session_id = uuid4().hex\n",
    "\n",
    "output1 = respond(\n",
    "    session_id=session_id,\n",
    "    human_message=\"こんにちは！私はジョンと言います！\",\n",
    ")\n",
    "print(output1)\n",
    "\n",
    "output2 = respond(\n",
    "    session_id=session_id,\n",
    "    human_message=\"私の名前が分かりますか？\",\n",
    ")\n",
    "print(output2)\n"
   ]
  },
  {
   "cell_type": "code",
   "execution_count": null,
   "metadata": {},
   "outputs": [],
   "source": []
  }
 ],
 "metadata": {
  "kernelspec": {
   "display_name": ".venv",
   "language": "python",
   "name": "python3"
  },
  "language_info": {
   "codemirror_mode": {
    "name": "ipython",
    "version": 3
   },
   "file_extension": ".py",
   "mimetype": "text/x-python",
   "name": "python",
   "nbconvert_exporter": "python",
   "pygments_lexer": "ipython3",
   "version": "3.12.8"
  }
 },
 "nbformat": 4,
 "nbformat_minor": 2
}
