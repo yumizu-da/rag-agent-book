{
 "cells": [
  {
   "cell_type": "markdown",
   "metadata": {},
   "source": [
    "# 3. プロンプトエンジニアリング\n"
   ]
  },
  {
   "cell_type": "code",
   "execution_count": 1,
   "metadata": {},
   "outputs": [],
   "source": [
    "import os\n"
   ]
  },
  {
   "cell_type": "markdown",
   "metadata": {},
   "source": [
    "## 3.2. プロンプトエンジニアリングとは\n"
   ]
  },
  {
   "cell_type": "code",
   "execution_count": 2,
   "metadata": {},
   "outputs": [
    {
     "name": "stdout",
     "output_type": "stream",
     "text": [
      "プロンプトエンジニアリングとは、人工知能（AI）や機械学習モデル、特に自然言語処理（NLP）モデルに対して、有効な入力（プロンプト）を設計・作成するプロセスを指します。この技術は、AIがより正確で関連性の高い出力を生成するために、どのような問いかけや指示が最も効果的であるかを探求するものです。\n",
      "\n",
      "プロンプトエンジニアリングの主な要点は次のとおりです：\n",
      "\n",
      "1. **入力の設計**: モデルに与える質問や命令の内容や形式を工夫し、モデルの応答を最適化します。\n",
      "  \n",
      "2. **出力の調整**: プロンプトを調整することで、求める情報や結果が得られるようにします。例えば、具体的な条件を加えたり、異なる視点から質問したりすることが含まれます。\n",
      "\n",
      "3. **反復的なプロセス**: 最適なプロンプトを見つけるために、試行錯誤を繰り返して改善を行うことが必要です。\n",
      "\n",
      "4. **活用分野**: プロンプトエンジニアリングは、チャットボット、コンテンツ生成、翻訳、要約、質問応答システムなど、さまざまなアプリケーションで利用されています。\n",
      "\n",
      "この技術は、AIの性能を最大限に引き出すための重要なスキルとして、今後ますます注目されるでしょう。\n"
     ]
    }
   ],
   "source": [
    "from openai import OpenAI\n",
    "\n",
    "client = OpenAI()\n",
    "\n",
    "response = client.chat.completions.create(\n",
    "    model=\"gpt-4o-mini\",\n",
    "    messages=[\n",
    "        {\"role\": \"user\", \"content\": \"プロンプトエンジニアリングとは\"},\n",
    "    ],\n",
    ")\n",
    "print(response.choices[0].message.content)\n"
   ]
  },
  {
   "cell_type": "code",
   "execution_count": 3,
   "metadata": {},
   "outputs": [
    {
     "name": "stdout",
     "output_type": "stream",
     "text": [
      "プロンプトエンジニアリングとは、AIモデルに与える指示や質問（プロンプト）を最適化する技術や手法のことです。効果的なプロンプトを設計することで、モデルの応答や生成結果を改善し、より正確かつ有用な情報を引き出すことができます。\n"
     ]
    }
   ],
   "source": [
    "response = client.chat.completions.create(\n",
    "    model=\"gpt-4o-mini\",\n",
    "    messages=[\n",
    "        {\"role\": \"system\", \"content\": \"質問に100文字程度で答えてください。\"},\n",
    "        {\"role\": \"user\", \"content\": \"プロンプトエンジニアリングとは\"},\n",
    "    ],\n",
    ")\n",
    "print(response.choices[0].message.content)\n"
   ]
  },
  {
   "cell_type": "markdown",
   "metadata": {},
   "source": [
    "## 3.3. プロンプトの構成要素の基本\n"
   ]
  },
  {
   "cell_type": "markdown",
   "metadata": {},
   "source": [
    "### プロンプトのテンプレート化\n"
   ]
  },
  {
   "cell_type": "code",
   "execution_count": 4,
   "metadata": {},
   "outputs": [
    {
     "name": "stdout",
     "output_type": "stream",
     "text": [
      "### カレーのレシピ\n",
      "\n",
      "#### 材料（4人分）\n",
      "\n",
      "- 鶏肉（もも肉または胸肉）：400g\n",
      "- 玉ねぎ：2個\n",
      "- 人参：1本\n",
      "- じゃがいも：2個\n",
      "- カレールー：100g（お好みの辛さ）\n",
      "- サラダ油：大さじ2\n",
      "- 水：600ml\n",
      "- 塩：適量\n",
      "- コショウ：適量\n",
      "- ガーリックパウダー（お好みで）：小さじ1\n",
      "- 生姜（お好みで）：1片（すりおろし）\n",
      "\n",
      "#### 作り方\n",
      "\n",
      "1. **材料の準備**\n",
      "   - 鶏肉は一口大に切り、塩とコショウで下味をつける。\n",
      "   - 玉ねぎは薄切りに、人参は乱切りに、じゃがいもは一口サイズに切る。\n",
      "\n",
      "2. **炒める**\n",
      "   - 鍋にサラダ油を熱し、玉ねぎを中火で炒める。玉ねぎが透明になったら、鶏肉を加えて炒める。\n",
      "   - 鶏肉の表面が白くなったら、人参とじゃがいもを加えてさらに炒める。\n",
      "\n",
      "3. **煮る**\n",
      "   - 材料が全体に炒まったら、水を加える。強火で沸騰させ、アクが出たら取り除く。\n",
      "   - 中火にし、蓋をして約15分煮る。じゃがいもと人参が柔らかくなるまで煮る。\n",
      "\n",
      "4. **カレーを作る**\n",
      "   - 火を止めてからカレールーを加え、よく溶かす。再び火を入れ、弱火で10分ほど煮込む。\n",
      "   - お好みで、ガーリックパウダーやすりおろし生姜を加えて風味を調整する。\n",
      "\n",
      "5. **仕上げ**\n",
      "   - 味をみて、必要であれば塩とコショウで調整する。全体がなじんでとろみがつくまで煮込む。\n",
      "\n",
      "6. **盛り付け**\n",
      "   - ご飯を皿に盛り、その上にカレーをたっぷりかけて完成！\n",
      "\n",
      "#### お好みのトッピング\n",
      "- パセリや刻みネギを散らして彩りを加えたり、福神漬けやらっきょうを添えても美味しいです。\n",
      "\n",
      "ぜひお試しください！\n"
     ]
    }
   ],
   "source": [
    "prompt = '''\\\n",
    "以下の料理のレシピを考えてください。\n",
    "\n",
    "料理名: \"\"\"\n",
    "{dish}\n",
    "\"\"\"\n",
    "'''\n",
    "\n",
    "\n",
    "def generate_recipe(dish: str) -> str:\n",
    "    response = client.chat.completions.create(\n",
    "        model=\"gpt-4o-mini\",\n",
    "        messages=[\n",
    "            {\"role\": \"user\", \"content\": prompt.format(dish=dish)},\n",
    "        ],\n",
    "    )\n",
    "    return response.choices[0].message.content\n",
    "\n",
    "\n",
    "recipe = generate_recipe(\"カレー\")\n",
    "print(recipe)\n"
   ]
  },
  {
   "cell_type": "code",
   "execution_count": 5,
   "metadata": {},
   "outputs": [
    {
     "name": "stdout",
     "output_type": "stream",
     "text": [
      "カレーのレシピを考えました！こちらは家庭で作る基本的なチキンカレーのレシピです。\n",
      "\n",
      "### チキンカレーのレシピ\n",
      "\n",
      "#### 材料（4人分）\n",
      "- 鶏もも肉：500g\n",
      "- 玉ねぎ：2個\n",
      "- にんにく：2片\n",
      "- 生姜：1片\n",
      "- トマト：1個（またはホールトマト缶：400g）\n",
      "- じゃがいも：2個（お好みで）\n",
      "- にんじん：1本（お好みで）\n",
      "- サラダ油：大さじ2\n",
      "- カレー粉：大さじ2\n",
      "- クミンシード（お好みで）：小さじ1\n",
      "- 塩：適量\n",
      "- コショウ：適量\n",
      "- 水：500ml\n",
      "- ココナッツミルク（お好みで）：200ml\n",
      "- チャツネやヨーグルト（お好みでトッピング）\n",
      "\n",
      "#### 作り方\n",
      "1. **下準備**:\n",
      "   - 鶏もも肉は一口大に切ります。\n",
      "   - 玉ねぎは薄切り、にんにくと生姜はすりおろします。\n",
      "   - トマトは粗く刻みます。\n",
      "   - じゃがいもとにんじんもお好みの大きさに切ります。\n",
      "\n",
      "2. **炒める**:\n",
      "   - 大きな鍋にサラダ油を熱し、クミンシードを入れ、香りが立つまで炒めます。\n",
      "   - 次に玉ねぎを加え、透明になるまで中火で炒めます。\n",
      "\n",
      "3. **肉を加える**:\n",
      "   - 鶏肉を加え、表面が白くなるまで炒めます。\n",
      "\n",
      "4. **香辛料を加える**:\n",
      "   - すりおろしたにんにくと生姜、カレー粉を加え、全体に混ぜながらさらに1〜2分炒めます。\n",
      "\n",
      "5. **野菜と水を加える**:\n",
      "   - 刻んだトマト、じゃがいも、にんじんを鍋に加え、水を注ぎ入れます。\n",
      "   - 塩とコショウで味を調え、煮立てます。\n",
      "\n",
      "6. **煮込む**:\n",
      "   - 煮立ったら、弱火にして蓋をし、30分程度煮込みます。途中でかき混ぜ、焦げ付かないよう注意しましょう。\n",
      "\n",
      "7. **仕上げ**:\n",
      "   - 最後にお好みでココナッツミルクを加え、さらに5分煮て、味を調整します。\n",
      "\n",
      "8. **盛り付け**:\n",
      "   - ご飯やナンと一緒にいただきます。お好みでチャツネやヨーグルトをトッピングして完成です！\n",
      "\n",
      "### ポイント\n",
      "- カレーは一晩寝かせると更に味がなじんで美味しくなります。\n",
      "- スパイスや具材はお好みで調整して、オリジナルのカレーを作ってみてください！\n",
      "\n",
      "楽しんで料理してくださいね！\n"
     ]
    }
   ],
   "source": [
    "prompt = \"\"\"\\\n",
    "ユーザーが入力した料理のレシピを考えてください。\n",
    "\n",
    "料理名: '''\n",
    "{dish}\n",
    "'''\n",
    "\"\"\"\n",
    "\n",
    "\n",
    "def generate_recipe(dish: str) -> str:\n",
    "    response = client.chat.completions.create(\n",
    "        model=\"gpt-4o-mini\",\n",
    "        messages=[\n",
    "            {\"role\": \"system\", \"content\": \"ユーザーが入力した料理のレシピを考えてください。\"},\n",
    "            {\"role\": \"user\", \"content\": f\"{dish}\"},\n",
    "        ],\n",
    "    )\n",
    "    return response.choices[0].message.content\n",
    "\n",
    "\n",
    "recipe = generate_recipe(\"カレー\")\n",
    "print(recipe)\n"
   ]
  },
  {
   "cell_type": "markdown",
   "metadata": {},
   "source": [
    "### 出力形式を指定する\n"
   ]
  },
  {
   "cell_type": "code",
   "execution_count": 6,
   "metadata": {},
   "outputs": [
    {
     "name": "stdout",
     "output_type": "stream",
     "text": [
      "```json\n",
      "{\n",
      "  \"材料\": [\"鶏肉\", \"玉ねぎ\", \"にんじん\", \"じゃがいも\", \"カレールー\", \"水\", \"油\", \"塩\"],\n",
      "  \"手順\": [\n",
      "    \"玉ねぎを薄切りにし、にんじんとじゃがいもを一口大に切る。\",\n",
      "    \"鍋に油を熱し、玉ねぎを炒め、透明になるまで炒める。\",\n",
      "    \"鶏肉を加えて表面が白くなるまで炒める。\",\n",
      "    \"にんじんとじゃがいもを加え、全体がなじむまで炒める。\",\n",
      "    \"水を加え、煮立ったらアクを取り、蓋をして中火で約15分煮る。\",\n",
      "    \"火を止めてカレールーを加え、溶かすまで混ぜ、さらに5分煮込む。\",\n",
      "    \"塩で味を調整し、完成したカレーを器に盛り付ける。\"\n",
      "  ]\n",
      "}\n",
      "```\n"
     ]
    }
   ],
   "source": [
    "system_prompt = \"\"\"\\\n",
    "ユーザーが入力した料理のレシピを考えてください。\n",
    "\n",
    "出力は以下のJSON形式にしてください。\n",
    "\n",
    "```\n",
    "{\n",
    "  \"材料\": [\"材料1\", \"材料2\"],\n",
    "  \"手順\": [\"手順1\", \"手順2\"]\n",
    "}\n",
    "```\n",
    "\"\"\"\n",
    "\n",
    "response = client.chat.completions.create(\n",
    "    model=\"gpt-4o-mini\",\n",
    "    messages=[\n",
    "        {\"role\": \"system\", \"content\": system_prompt},\n",
    "        {\"role\": \"user\", \"content\": \"カレー\"},\n",
    "    ],\n",
    ")\n",
    "print(response.choices[0].message.content)\n"
   ]
  },
  {
   "cell_type": "markdown",
   "metadata": {},
   "source": [
    "## 3.4. プロンプトエンジニアリングの定番の手法\n"
   ]
  },
  {
   "cell_type": "markdown",
   "metadata": {},
   "source": [
    "### Zero-shot プロンプティング\n"
   ]
  },
  {
   "cell_type": "code",
   "execution_count": 7,
   "metadata": {},
   "outputs": [
    {
     "name": "stdout",
     "output_type": "stream",
     "text": [
      "ポジティブ\n"
     ]
    }
   ],
   "source": [
    "response = client.chat.completions.create(\n",
    "    model=\"gpt-4o-mini\",\n",
    "    messages=[\n",
    "        {\n",
    "            \"role\": \"system\",\n",
    "            \"content\": \"入力をポジティブ・ネガティブ・中立のどれかに分類してください。\",\n",
    "        },\n",
    "        {\n",
    "            \"role\": \"user\",\n",
    "            \"content\": \"ChatGPTはとても便利だ\",\n",
    "        },\n",
    "    ],\n",
    ")\n",
    "print(response.choices[0].message.content)\n"
   ]
  },
  {
   "cell_type": "markdown",
   "metadata": {},
   "source": [
    "### Few-shot プロンプティング\n"
   ]
  },
  {
   "cell_type": "code",
   "execution_count": 8,
   "metadata": {},
   "outputs": [
    {
     "name": "stdout",
     "output_type": "stream",
     "text": [
      "はい、ChatGPTは情報を提供したり、質問に答えたりするのに役立つツールです。さまざまなトピックについて話したり、アドバイスを提供したりすることができますので、何か特定のことについてお話ししたいことがあれば教えてください！\n"
     ]
    }
   ],
   "source": [
    "response = client.chat.completions.create(\n",
    "    model=\"gpt-4o-mini\",\n",
    "    messages=[\n",
    "        {\"role\": \"system\", \"content\": \"入力がAIに関係するか回答してください。\"},\n",
    "        {\"role\": \"user\", \"content\": \"ChatGPTはとても便利だ\"},\n",
    "    ],\n",
    ")\n",
    "print(response.choices[0].message.content)\n"
   ]
  },
  {
   "cell_type": "code",
   "execution_count": 9,
   "metadata": {},
   "outputs": [
    {
     "name": "stdout",
     "output_type": "stream",
     "text": [
      "true\n"
     ]
    }
   ],
   "source": [
    "response = client.chat.completions.create(\n",
    "    model=\"gpt-4o-mini\",\n",
    "    messages=[\n",
    "        {\"role\": \"system\", \"content\": \"入力がAIに関係するか回答してください。\"},\n",
    "        {\"role\": \"user\", \"content\": \"AIの進化はすごい\"},\n",
    "        {\"role\": \"assistant\", \"content\": \"true\"},\n",
    "        {\"role\": \"user\", \"content\": \"今日は良い天気だ\"},\n",
    "        {\"role\": \"assistant\", \"content\": \"false\"},\n",
    "        {\"role\": \"user\", \"content\": \"ChatGPTはとても便利だ\"},\n",
    "    ],\n",
    ")\n",
    "print(response.choices[0].message.content)\n"
   ]
  },
  {
   "cell_type": "markdown",
   "metadata": {},
   "source": [
    "### （コラム）Few-shot プロンプティングのその他の形式\n"
   ]
  },
  {
   "cell_type": "code",
   "execution_count": 10,
   "metadata": {},
   "outputs": [
    {
     "name": "stdout",
     "output_type": "stream",
     "text": [
      "true\n"
     ]
    }
   ],
   "source": [
    "prompt = \"\"\"\\\n",
    "入力がAIに関係するか回答してください。\n",
    "\n",
    "Q: AIの進化はすごい\n",
    "A: true\n",
    "Q: 今日は良い天気だ\n",
    "A: false\n",
    "Q: ChatGPTはとても便利だ\n",
    "A:\n",
    "\"\"\"\n",
    "\n",
    "response = client.completions.create(\n",
    "    model=\"gpt-3.5-turbo-instruct\",\n",
    "    prompt=prompt,\n",
    ")\n",
    "print(response.choices[0].text)\n"
   ]
  },
  {
   "cell_type": "code",
   "execution_count": 11,
   "metadata": {},
   "outputs": [
    {
     "name": "stdout",
     "output_type": "stream",
     "text": [
      "true\n"
     ]
    }
   ],
   "source": [
    "response = client.chat.completions.create(\n",
    "    model=\"gpt-4o-mini\",\n",
    "    messages=[\n",
    "        {\"role\": \"system\", \"content\": \"入力がAIに関係するか回答してください。\"},\n",
    "        {\"role\": \"system\", \"name\": \"example_user\", \"content\": \"AIの進化はすごい\"},\n",
    "        {\"role\": \"system\", \"name\": \"example_assistant\", \"content\": \"true\"},\n",
    "        {\"role\": \"system\", \"name\": \"example_user\", \"content\": \"今日は良い天気だ\"},\n",
    "        {\"role\": \"system\", \"name\": \"example_assistant\", \"content\": \"false\"},\n",
    "        {\"role\": \"user\", \"content\": \"ChatGPTはとても便利だ\"},\n",
    "    ],\n",
    ")\n",
    "print(response.choices[0].message.content)\n"
   ]
  },
  {
   "cell_type": "markdown",
   "metadata": {},
   "source": [
    "### Zero-shot Chain-of-Thought プロンプティング\n"
   ]
  },
  {
   "cell_type": "code",
   "execution_count": null,
   "metadata": {},
   "outputs": [],
   "source": [
    "response = client.chat.completions.create(\n",
    "    model=\"gpt-4o-mini\",\n",
    "    messages=[\n",
    "        {\"role\": \"system\", \"content\": \"回答だけ一言で出力してください。\"},\n",
    "        {\"role\": \"user\", \"content\": \"10 + 2 * 3 - 4 * 2\"},\n",
    "    ],\n",
    ")\n",
    "print(response.choices[0].message.content)\n"
   ]
  },
  {
   "cell_type": "code",
   "execution_count": null,
   "metadata": {},
   "outputs": [],
   "source": [
    "response = client.chat.completions.create(\n",
    "    model=\"gpt-4o-mini\",\n",
    "    messages=[\n",
    "        {\"role\": \"system\", \"content\": \"ステップバイステップで考えてください。\"},\n",
    "        {\"role\": \"user\", \"content\": \"10 + 2 * 3 - 4 * 2\"},\n",
    "    ],\n",
    ")\n",
    "print(response.choices[0].message.content)\n"
   ]
  },
  {
   "cell_type": "code",
   "execution_count": null,
   "metadata": {},
   "outputs": [],
   "source": []
  }
 ],
 "metadata": {
  "kernelspec": {
   "display_name": ".venv",
   "language": "python",
   "name": "python3"
  },
  "language_info": {
   "codemirror_mode": {
    "name": "ipython",
    "version": 3
   },
   "file_extension": ".py",
   "mimetype": "text/x-python",
   "name": "python",
   "nbconvert_exporter": "python",
   "pygments_lexer": "ipython3",
   "version": "3.12.8"
  }
 },
 "nbformat": 4,
 "nbformat_minor": 2
}
