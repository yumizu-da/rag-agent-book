{
 "cells": [
  {
   "cell_type": "markdown",
   "metadata": {},
   "source": [
    "# LangGraphで作るAIエージェント実践入門"
   ]
  },
  {
   "cell_type": "markdown",
   "metadata": {},
   "source": [
    "## 9.3 ハンズオン：Q&Aアプリケーション"
   ]
  },
  {
   "cell_type": "code",
   "execution_count": 1,
   "metadata": {},
   "outputs": [],
   "source": [
    "import os\n"
   ]
  },
  {
   "cell_type": "code",
   "execution_count": 2,
   "metadata": {},
   "outputs": [],
   "source": [
    "ROLES = {\n",
    "    \"1\": {\n",
    "        \"name\": \"一般知識エキスパート\",\n",
    "        \"description\": \"幅広い分野の一般的な質問に答える\",\n",
    "        \"details\": \"幅広い分野の一般的な質問に対して、正確で分かりやすい回答を提供してください。\",\n",
    "    },\n",
    "    \"2\": {\n",
    "        \"name\": \"生成AI製品エキスパート\",\n",
    "        \"description\": \"生成AIや関連製品、技術に関する専門的な質問に答える\",\n",
    "        \"details\": \"生成AIや関連製品、技術に関する専門的な質問に対して、最新の情報と深い洞察を提供してください。\",\n",
    "    },\n",
    "    \"3\": {\n",
    "        \"name\": \"カウンセラー\",\n",
    "        \"description\": \"個人的な悩みや心理的な問題に対してサポートを提供する\",\n",
    "        \"details\": \"個人的な悩みや心理的な問題に対して、共感的で支援的な回答を提供し、可能であれば適切なアドバイスも行ってください。\",\n",
    "    },\n",
    "}\n"
   ]
  },
  {
   "cell_type": "code",
   "execution_count": 3,
   "metadata": {},
   "outputs": [],
   "source": [
    "import operator\n",
    "from typing import Annotated\n",
    "\n",
    "from pydantic import BaseModel, Field\n",
    "\n",
    "\n",
    "class State(BaseModel):\n",
    "    query: str = Field(..., description=\"ユーザーからの質問\")\n",
    "    current_role: str = Field(default=\"\", description=\"選定された回答ロール\")\n",
    "    messages: Annotated[list[str], operator.add] = Field(default=[], description=\"回答履歴\")\n",
    "    current_judge: bool = Field(default=False, description=\"品質チェックの結果\")\n",
    "    judgement_reason: str = Field(default=\"\", description=\"品質チェックの判定理由\")\n"
   ]
  },
  {
   "cell_type": "code",
   "execution_count": 4,
   "metadata": {},
   "outputs": [],
   "source": [
    "from langchain_openai import ChatOpenAI\n",
    "from langchain_core.runnables import ConfigurableField\n",
    "\n",
    "llm = ChatOpenAI(model=\"gpt-4o-mini\", temperature=0.0)\n",
    "# 後からmax_tokensの値を変更できるように、変更可能なフィールドを宣言\n",
    "llm = llm.configurable_fields(max_tokens=ConfigurableField(id=\"max_tokens\"))\n"
   ]
  },
  {
   "cell_type": "code",
   "execution_count": 5,
   "metadata": {},
   "outputs": [],
   "source": [
    "from typing import Any\n",
    "\n",
    "from langchain_core.prompts import ChatPromptTemplate\n",
    "from langchain_core.output_parsers import StrOutputParser\n",
    "\n",
    "\n",
    "def selection_node(state: State) -> dict[str, Any]:\n",
    "    query = state.query\n",
    "    role_options = \"\\n\".join([f\"{k}. {v['name']}: {v['description']}\" for k, v in ROLES.items()])\n",
    "\n",
    "    prompt = ChatPromptTemplate.from_template(\n",
    "        \"\"\"質問を分析し、最も適切な回答担当ロールを選択してください。\n",
    "\n",
    "    選択肢:\n",
    "    {role_options}\n",
    "\n",
    "    回答は選択肢の番号（1、2、または3）のみを返してください。\n",
    "\n",
    "    質問: {query}\n",
    "    \"\"\".strip()\n",
    "    )\n",
    "\n",
    "    # 選択肢の番号のみを返すことを期待したいため、max_tokensの値を1に変更\n",
    "    chain = prompt | llm.with_config(configurable=dict(max_tokens=1)) | StrOutputParser()\n",
    "    role_number = chain.invoke({\"role_options\": role_options, \"query\": query})\n",
    "\n",
    "    selected_role = ROLES[role_number.strip()][\"name\"]\n",
    "    return {\"current_role\": selected_role}\n"
   ]
  },
  {
   "cell_type": "code",
   "execution_count": 6,
   "metadata": {},
   "outputs": [],
   "source": [
    "def answering_node(state: State) -> dict[str, Any]:\n",
    "    query = state.query\n",
    "    role = state.current_role\n",
    "    role_details = \"\\n\".join([f\"- {v['name']}: {v['details']}\" for v in ROLES.values()])\n",
    "\n",
    "    prompt = ChatPromptTemplate.from_template(\n",
    "        \"\"\"あなたは{role}として回答してください。以下の質問に対して、あなたの役割に基づいた適切な回答を提供してください。\n",
    "\n",
    "    役割の詳細:\n",
    "    {role_details}\n",
    "\n",
    "    質問: {query}\n",
    "\n",
    "    回答:\"\"\".strip()\n",
    "    )\n",
    "\n",
    "    chain = prompt | llm | StrOutputParser()\n",
    "    answer = chain.invoke({\"role\": role, \"role_details\": role_details, \"query\": query})\n",
    "\n",
    "    return {\"messages\": [answer]}\n"
   ]
  },
  {
   "cell_type": "code",
   "execution_count": 7,
   "metadata": {},
   "outputs": [],
   "source": [
    "class Judgement(BaseModel):\n",
    "    judge: bool = Field(default=False, description=\"判定結果\")\n",
    "    reason: str = Field(default=\"\", description=\"判定理由\")\n",
    "\n",
    "\n",
    "def check_node(state: State) -> dict[str, Any]:\n",
    "    query = state.query\n",
    "    answer = state.messages[-1]\n",
    "\n",
    "    prompt = ChatPromptTemplate.from_template(\n",
    "        \"\"\"以下の回答の品質をチェックし、問題がある場合は'False'、問題がない場合は'True'を回答してください。\n",
    "    また、その判断理由も説明してください。\n",
    "\n",
    "    ユーザーからの質問: {query}\n",
    "    回答: {answer}\n",
    "    \"\"\".strip()\n",
    "    )\n",
    "\n",
    "    chain = prompt | llm.with_structured_output(Judgement)\n",
    "    result: Judgement = chain.invoke({\"query\": query, \"answer\": answer})\n",
    "\n",
    "    return {\"current_judge\": result.judge, \"judgement_reason\": result.reason}\n"
   ]
  },
  {
   "cell_type": "code",
   "execution_count": 8,
   "metadata": {},
   "outputs": [],
   "source": [
    "from langgraph.graph import StateGraph\n",
    "\n",
    "workflow = StateGraph(State)\n"
   ]
  },
  {
   "cell_type": "code",
   "execution_count": 9,
   "metadata": {},
   "outputs": [],
   "source": [
    "workflow.add_node(\"selection\", selection_node)\n",
    "workflow.add_node(\"answering\", answering_node)\n",
    "workflow.add_node(\"check\", check_node)\n"
   ]
  },
  {
   "cell_type": "code",
   "execution_count": 10,
   "metadata": {},
   "outputs": [],
   "source": [
    "# selectionノードから処理を開始\n",
    "workflow.set_entry_point(\"selection\")\n"
   ]
  },
  {
   "cell_type": "code",
   "execution_count": 11,
   "metadata": {},
   "outputs": [],
   "source": [
    "# selectionノードからansweringノードへ\n",
    "workflow.add_edge(\"selection\", \"answering\")\n",
    "# answeringノードからcheckノードへ\n",
    "workflow.add_edge(\"answering\", \"check\")\n"
   ]
  },
  {
   "cell_type": "code",
   "execution_count": 12,
   "metadata": {},
   "outputs": [],
   "source": [
    "from langgraph.graph import END\n",
    "\n",
    "# checkノードから次のノードへの遷移に条件付きエッジを定義\n",
    "# state.current_judgeの値がTrueならENDノードへ、Falseならselectionノードへ\n",
    "workflow.add_conditional_edges(\"check\", lambda state: state.current_judge, {True: END, False: \"selection\"})\n"
   ]
  },
  {
   "cell_type": "code",
   "execution_count": 13,
   "metadata": {},
   "outputs": [],
   "source": [
    "compiled = workflow.compile()\n"
   ]
  },
  {
   "cell_type": "code",
   "execution_count": 14,
   "metadata": {},
   "outputs": [],
   "source": [
    "initial_state = State(query=\"生成AIについて教えてください\")\n",
    "result = compiled.invoke(initial_state)\n"
   ]
  },
  {
   "cell_type": "code",
   "execution_count": 15,
   "metadata": {},
   "outputs": [
    {
     "data": {
      "text/plain": [
       "{'query': '生成AIについて教えてください',\n",
       " 'current_role': '生成AI製品エキスパート',\n",
       " 'messages': ['生成AIとは、人工知能の一分野であり、特にデータを基に新しいコンテンツを生成する能力を持つ技術を指します。これには、テキスト、画像、音声、動画など、さまざまな形式のコンテンツが含まれます。生成AIは、機械学習アルゴリズム、特に深層学習を利用して、既存のデータからパターンを学習し、それを基に新しいデータを生成します。\\n\\n### 主な技術と応用例\\n\\n1. **自然言語処理（NLP）**:\\n   - テキスト生成（例: GPTシリーズ）\\n   - 自動翻訳\\n   - チャットボットやバーチャルアシスタント\\n\\n2. **画像生成**:\\n   - GAN（Generative Adversarial Networks）を用いた画像生成（例: DALL-E、StyleGAN）\\n   - 画像の修正やスタイル変換\\n\\n3. **音声生成**:\\n   - テキストから音声を生成する技術（例: TTS: Text-to-Speech）\\n   - 音楽の自動作曲\\n\\n4. **動画生成**:\\n   - 動画の自動生成や編集\\n   - アニメーションの作成\\n\\n### 利点と課題\\n\\n**利点**:\\n- コンテンツ制作の効率化\\n- 創造性の拡張\\n- パーソナライズされた体験の提供\\n\\n**課題**:\\n- 倫理的な問題（偽情報の生成、著作権の侵害など）\\n- バイアスの問題（学習データに基づく偏り）\\n- コンテンツの品質管理\\n\\n生成AIは、ビジネス、エンターテインメント、教育など、さまざまな分野での応用が進んでおり、今後もその可能性は広がっていくと考えられています。'],\n",
       " 'current_judge': True,\n",
       " 'judgement_reason': '回答は生成AIについての基本的な定義、主な技術と応用例、利点と課題を包括的に説明しており、情報が正確で関連性が高い。'}"
      ]
     },
     "execution_count": 15,
     "metadata": {},
     "output_type": "execute_result"
    }
   ],
   "source": [
    "result\n"
   ]
  },
  {
   "cell_type": "code",
   "execution_count": 16,
   "metadata": {},
   "outputs": [
    {
     "name": "stdout",
     "output_type": "stream",
     "text": [
      "生成AIとは、人工知能の一分野であり、特にデータを基に新しいコンテンツを生成する能力を持つ技術を指します。これには、テキスト、画像、音声、動画など、さまざまな形式のコンテンツが含まれます。生成AIは、機械学習アルゴリズム、特に深層学習を利用して、既存のデータからパターンを学習し、それを基に新しいデータを生成します。\n",
      "\n",
      "### 主な技術と応用例\n",
      "\n",
      "1. **自然言語処理（NLP）**:\n",
      "   - テキスト生成（例: GPTシリーズ）\n",
      "   - 自動翻訳\n",
      "   - チャットボットやバーチャルアシスタント\n",
      "\n",
      "2. **画像生成**:\n",
      "   - GAN（Generative Adversarial Networks）を用いた画像生成（例: DALL-E、StyleGAN）\n",
      "   - 画像の修正やスタイル変換\n",
      "\n",
      "3. **音声生成**:\n",
      "   - テキストから音声を生成する技術（例: TTS: Text-to-Speech）\n",
      "   - 音楽の自動作曲\n",
      "\n",
      "4. **動画生成**:\n",
      "   - 動画の自動生成や編集\n",
      "   - アニメーションの作成\n",
      "\n",
      "### 利点と課題\n",
      "\n",
      "**利点**:\n",
      "- コンテンツ制作の効率化\n",
      "- 創造性の拡張\n",
      "- パーソナライズされた体験の提供\n",
      "\n",
      "**課題**:\n",
      "- 倫理的な問題（偽情報の生成、著作権の侵害など）\n",
      "- バイアスの問題（学習データに基づく偏り）\n",
      "- コンテンツの品質管理\n",
      "\n",
      "生成AIは、ビジネス、エンターテインメント、教育など、さまざまな分野での応用が進んでおり、今後もその可能性は広がっていくと考えられています。\n"
     ]
    }
   ],
   "source": [
    "print(result[\"messages\"][-1])\n"
   ]
  },
  {
   "cell_type": "code",
   "execution_count": 22,
   "metadata": {},
   "outputs": [
    {
     "name": "stderr",
     "output_type": "stream",
     "text": [
      "Error in LangChainTracer.on_chain_start callback: ValidationError(model='Run', errors=[{'loc': ('__root__',), 'msg': \"argument of type 'NoneType' is not iterable\", 'type': 'type_error'}])\n",
      "Error in LangChainTracer.on_chain_end callback: TracerException('No indexed run ID 876d06ed-7e30-4646-8566-010d981147f0.')\n"
     ]
    },
    {
     "data": {
      "text/plain": [
       "{'query': '生成AIについて教えてください',\n",
       " 'current_role': '生成AI製品エキスパート',\n",
       " 'messages': ['生成AIとは、人工知能の一分野であり、特にデータを基に新しいコンテンツを生成する能力を持つ技術を指します。これには、テキスト、画像、音声、動画など、さまざまな形式のコンテンツが含まれます。生成AIは、機械学習アルゴリズム、特に深層学習を利用して、既存のデータからパターンを学習し、それを基に新しいデータを生成します。\\n\\n### 主な技術とモデル\\n1. **自然言語処理（NLP）**: テキスト生成に特化したモデル（例: GPTシリーズ、BERTなど）があり、文章の作成、要約、翻訳などに利用されます。\\n2. **画像生成**: GAN（Generative Adversarial Networks）やVQ-VAEなどの技術を用いて、リアルな画像を生成することができます。例としては、DALL-EやMidjourneyがあります。\\n3. **音声生成**: 音声合成技術を用いて、自然な音声を生成することが可能です。これには、音声のトーンやスタイルを調整することも含まれます。\\n\\n### 利用例\\n- **コンテンツ制作**: ブログ記事、広告コピー、ストーリーなどの自動生成。\\n- **アートとデザイン**: アート作品やデザインの生成、カスタマイズ。\\n- **ゲーム開発**: ゲーム内のキャラクターやストーリーの生成。\\n- **教育**: 学習教材や問題集の自動生成。\\n\\n### 課題と倫理\\n生成AIには、著作権やプライバシーの問題、フェイクニュースの生成、バイアスの問題など、さまざまな倫理的課題が伴います。これらの課題に対処するために、開発者や企業は責任あるAIの使用を促進するためのガイドラインや規制を設ける必要があります。\\n\\n生成AIは、今後の技術革新において重要な役割を果たすと期待されており、さまざまな分野での応用が進んでいます。'],\n",
       " 'current_judge': True,\n",
       " 'judgement_reason': '回答は生成AIについての基本的な定義、技術、利用例、課題と倫理に関する情報を包括的に提供しており、正確で関連性のある内容が含まれています。'}"
      ]
     },
     "execution_count": 22,
     "metadata": {},
     "output_type": "execute_result"
    }
   ],
   "source": [
    "initial_state = State(query=\"生成AIについて教えてください\")\n",
    "result = await compiled.ainvoke(initial_state)\n",
    "result\n"
   ]
  },
  {
   "cell_type": "code",
   "execution_count": null,
   "metadata": {},
   "outputs": [],
   "source": [
    "!apt-get install -y graphviz libgraphviz-dev pkg-config\n",
    "!uv pip install pygraphviz\n"
   ]
  },
  {
   "cell_type": "code",
   "execution_count": 26,
   "metadata": {},
   "outputs": [
    {
     "data": {
      "image/png": "[encoded data removed]",
      "text/plain": [
       "<IPython.core.display.Image object>"
      ]
     },
     "execution_count": 26,
     "metadata": {},
     "output_type": "execute_result"
    }
   ],
   "source": [
    "from IPython.display import Image\n",
    "\n",
    "Image(compiled.get_graph().draw_png())\n"
   ]
  },
  {
   "cell_type": "markdown",
   "metadata": {},
   "source": [
    "## 9.4 チェックポイント機能：ステートの永続化と再会"
   ]
  },
  {
   "cell_type": "code",
   "execution_count": 19,
   "metadata": {},
   "outputs": [],
   "source": [
    "import operator\n",
    "from typing import Annotated, Any\n",
    "from langchain_core.messages import SystemMessage, HumanMessage, BaseMessage\n",
    "from langchain_openai import ChatOpenAI\n",
    "from pydantic import BaseModel, Field\n",
    "\n",
    "\n",
    "# グラフのステートを定義\n",
    "class State(BaseModel):\n",
    "    query: str\n",
    "    messages: Annotated[list[BaseMessage], operator.add] = Field(default=[])\n",
    "\n",
    "\n",
    "# メッセージを追加するノード関数\n",
    "def add_message(state: State) -> dict[str, Any]:\n",
    "    additional_messages = []\n",
    "    if not state.messages:\n",
    "        additional_messages.append(SystemMessage(content=\"あなたは最小限の応答をする対話エージェントです。\"))\n",
    "    additional_messages.append(HumanMessage(content=state.query))\n",
    "    return {\"messages\": additional_messages}\n",
    "\n",
    "\n",
    "# LLMからの応答を追加するノード関数\n",
    "def llm_response(state: State) -> dict[str, Any]:\n",
    "    llm = ChatOpenAI(model=\"gpt-4o-mini\", temperature=0.5)\n",
    "    ai_message = llm.invoke(state.messages)\n",
    "    return {\"messages\": [ai_message]}\n"
   ]
  },
  {
   "cell_type": "code",
   "execution_count": 20,
   "metadata": {},
   "outputs": [],
   "source": [
    "from pprint import pprint\n",
    "from langchain_core.runnables import RunnableConfig\n",
    "from langgraph.checkpoint.base import BaseCheckpointSaver\n",
    "\n",
    "\n",
    "def print_checkpoint_dump(checkpointer: BaseCheckpointSaver, config: RunnableConfig):\n",
    "    checkpoint_tuple = checkpointer.get_tuple(config)\n",
    "\n",
    "    print(\"チェックポイントデータ:\")\n",
    "    pprint(checkpoint_tuple.checkpoint)\n",
    "    print(\"\\nメタデータ:\")\n",
    "    pprint(checkpoint_tuple.metadata)\n"
   ]
  },
  {
   "cell_type": "code",
   "execution_count": 21,
   "metadata": {},
   "outputs": [],
   "source": [
    "from langgraph.graph import StateGraph, END\n",
    "from langgraph.checkpoint.memory import MemorySaver\n",
    "\n",
    "# グラフを設定\n",
    "graph = StateGraph(State)\n",
    "graph.add_node(\"add_message\", add_message)\n",
    "graph.add_node(\"llm_response\", llm_response)\n",
    "\n",
    "graph.set_entry_point(\"add_message\")\n",
    "graph.add_edge(\"add_message\", \"llm_response\")\n",
    "graph.add_edge(\"llm_response\", END)\n",
    "\n",
    "# チェックポインターを設定\n",
    "checkpointer = MemorySaver()\n",
    "\n",
    "# グラフをコンパイル\n",
    "compiled_graph = graph.compile(checkpointer=checkpointer)\n"
   ]
  },
  {
   "cell_type": "code",
   "execution_count": 22,
   "metadata": {},
   "outputs": [
    {
     "data": {
      "text/plain": [
       "{'query': '私の好きなものはずんだ餅です。覚えておいてね。',\n",
       " 'messages': [SystemMessage(content='あなたは最小限の応答をする対話エージェントです。', additional_kwargs={}, response_metadata={}),\n",
       "  HumanMessage(content='私の好きなものはずんだ餅です。覚えておいてね。', additional_kwargs={}, response_metadata={}),\n",
       "  AIMessage(content='了解しました！ずんだ餅が好きなんですね。', additional_kwargs={'refusal': None}, response_metadata={'token_usage': {'completion_tokens': 14, 'prompt_tokens': 48, 'total_tokens': 62, 'prompt_tokens_details': {'cached_tokens': 0, 'audio_tokens': 0}, 'completion_tokens_details': {'reasoning_tokens': 0, 'audio_tokens': 0, 'accepted_prediction_tokens': 0, 'rejected_prediction_tokens': 0}}, 'model_name': 'gpt-4o-mini-2024-07-18', 'system_fingerprint': 'fp_d02d531b47', 'finish_reason': 'stop', 'logprobs': None}, id='run-832540ae-acd7-4970-94d8-f6f9b7ddf3d5-0', usage_metadata={'input_tokens': 48, 'output_tokens': 14, 'total_tokens': 62})]}"
      ]
     },
     "execution_count": 22,
     "metadata": {},
     "output_type": "execute_result"
    }
   ],
   "source": [
    "config = {\"configurable\": {\"thread_id\": \"example-1\"}}\n",
    "user_query = State(query=\"私の好きなものはずんだ餅です。覚えておいてね。\")\n",
    "first_response = compiled_graph.invoke(user_query, config)\n",
    "first_response\n"
   ]
  },
  {
   "cell_type": "code",
   "execution_count": 23,
   "metadata": {},
   "outputs": [
    {
     "name": "stdout",
     "output_type": "stream",
     "text": [
      "CheckpointTuple(config={'configurable': {'thread_id': 'example-1', 'checkpoint_ns': '', 'checkpoint_id': '1efccb6a-fcb1-6e74-8002-f34d68a99950'}}, checkpoint={'v': 1, 'ts': '2025-01-07T05:17:27.721317+00:00', 'id': '1efccb6a-fcb1-6e74-8002-f34d68a99950', 'channel_values': {'query': '私の好きなものはずんだ餅です。覚えておいてね。', 'messages': [SystemMessage(content='あなたは最小限の応答をする対話エージェントです。', additional_kwargs={}, response_metadata={}), HumanMessage(content='私の好きなものはずんだ餅です。覚えておいてね。', additional_kwargs={}, response_metadata={}), AIMessage(content='了解しました！ずんだ餅が好きなんですね。', additional_kwargs={'refusal': None}, response_metadata={'token_usage': {'completion_tokens': 14, 'prompt_tokens': 48, 'total_tokens': 62, 'prompt_tokens_details': {'cached_tokens': 0, 'audio_tokens': 0}, 'completion_tokens_details': {'reasoning_tokens': 0, 'audio_tokens': 0, 'accepted_prediction_tokens': 0, 'rejected_prediction_tokens': 0}}, 'model_name': 'gpt-4o-mini-2024-07-18', 'system_fingerprint': 'fp_d02d531b47', 'finish_reason': 'stop', 'logprobs': None}, id='run-832540ae-acd7-4970-94d8-f6f9b7ddf3d5-0', usage_metadata={'input_tokens': 48, 'output_tokens': 14, 'total_tokens': 62})], 'llm_response': 'llm_response'}, 'channel_versions': {'__start__': '00000000000000000000000000000002.0.06924324898796741', 'query': '00000000000000000000000000000002.0.035579468106213485', 'messages': '00000000000000000000000000000004.0.6115696882807866', 'start:add_message': '00000000000000000000000000000003.0.8681009586005558', 'add_message': '00000000000000000000000000000004.0.2443604789603433', 'llm_response': '00000000000000000000000000000004.0.9165549561790978'}, 'versions_seen': {'__input__': {}, '__start__': {'__start__': '00000000000000000000000000000001.0.22858467614458122'}, 'add_message': {'start:add_message': '00000000000000000000000000000002.0.7758393378864039'}, 'llm_response': {'add_message': '00000000000000000000000000000003.0.5277657271485737'}}, 'pending_sends': []}, metadata={'source': 'loop', 'writes': {'llm_response': {'messages': [AIMessage(content='了解しました！ずんだ餅が好きなんですね。', additional_kwargs={'refusal': None}, response_metadata={'token_usage': {'completion_tokens': 14, 'prompt_tokens': 48, 'total_tokens': 62, 'prompt_tokens_details': {'cached_tokens': 0, 'audio_tokens': 0}, 'completion_tokens_details': {'reasoning_tokens': 0, 'audio_tokens': 0, 'accepted_prediction_tokens': 0, 'rejected_prediction_tokens': 0}}, 'model_name': 'gpt-4o-mini-2024-07-18', 'system_fingerprint': 'fp_d02d531b47', 'finish_reason': 'stop', 'logprobs': None}, id='run-832540ae-acd7-4970-94d8-f6f9b7ddf3d5-0', usage_metadata={'input_tokens': 48, 'output_tokens': 14, 'total_tokens': 62})]}}, 'step': 2, 'parents': {}}, parent_config={'configurable': {'thread_id': 'example-1', 'checkpoint_ns': '', 'checkpoint_id': '1efccb6a-f34f-6414-8001-45f4c1726d08'}}, pending_writes=[])\n",
      "CheckpointTuple(config={'configurable': {'thread_id': 'example-1', 'checkpoint_ns': '', 'checkpoint_id': '1efccb6a-f34f-6414-8001-45f4c1726d08'}}, checkpoint={'v': 1, 'ts': '2025-01-07T05:17:26.737195+00:00', 'id': '1efccb6a-f34f-6414-8001-45f4c1726d08', 'channel_values': {'query': '私の好きなものはずんだ餅です。覚えておいてね。', 'messages': [SystemMessage(content='あなたは最小限の応答をする対話エージェントです。', additional_kwargs={}, response_metadata={}), HumanMessage(content='私の好きなものはずんだ餅です。覚えておいてね。', additional_kwargs={}, response_metadata={})], 'add_message': 'add_message'}, 'channel_versions': {'__start__': '00000000000000000000000000000002.0.06924324898796741', 'query': '00000000000000000000000000000002.0.035579468106213485', 'messages': '00000000000000000000000000000003.0.5989006607773902', 'start:add_message': '00000000000000000000000000000003.0.8681009586005558', 'add_message': '00000000000000000000000000000003.0.5277657271485737'}, 'versions_seen': {'__input__': {}, '__start__': {'__start__': '00000000000000000000000000000001.0.22858467614458122'}, 'add_message': {'start:add_message': '00000000000000000000000000000002.0.7758393378864039'}}, 'pending_sends': []}, metadata={'source': 'loop', 'writes': {'add_message': {'messages': [SystemMessage(content='あなたは最小限の応答をする対話エージェントです。', additional_kwargs={}, response_metadata={}), HumanMessage(content='私の好きなものはずんだ餅です。覚えておいてね。', additional_kwargs={}, response_metadata={})]}}, 'step': 1, 'parents': {}}, parent_config={'configurable': {'thread_id': 'example-1', 'checkpoint_ns': '', 'checkpoint_id': '1efccb6a-f34a-62f7-8000-90a1efd961ee'}}, pending_writes=[])\n",
      "CheckpointTuple(config={'configurable': {'thread_id': 'example-1', 'checkpoint_ns': '', 'checkpoint_id': '1efccb6a-f34a-62f7-8000-90a1efd961ee'}}, checkpoint={'v': 1, 'ts': '2025-01-07T05:17:26.735097+00:00', 'id': '1efccb6a-f34a-62f7-8000-90a1efd961ee', 'channel_values': {'query': '私の好きなものはずんだ餅です。覚えておいてね。', 'messages': [], 'start:add_message': '__start__'}, 'channel_versions': {'__start__': '00000000000000000000000000000002.0.06924324898796741', 'query': '00000000000000000000000000000002.0.035579468106213485', 'messages': '00000000000000000000000000000002.0.2900772898827676', 'start:add_message': '00000000000000000000000000000002.0.7758393378864039'}, 'versions_seen': {'__input__': {}, '__start__': {'__start__': '00000000000000000000000000000001.0.22858467614458122'}}, 'pending_sends': []}, metadata={'source': 'loop', 'writes': None, 'step': 0, 'parents': {}}, parent_config={'configurable': {'thread_id': 'example-1', 'checkpoint_ns': '', 'checkpoint_id': '1efccb6a-f33e-6feb-bfff-48923c1083fe'}}, pending_writes=[])\n",
      "CheckpointTuple(config={'configurable': {'thread_id': 'example-1', 'checkpoint_ns': '', 'checkpoint_id': '1efccb6a-f33e-6feb-bfff-48923c1083fe'}}, checkpoint={'v': 1, 'ts': '2025-01-07T05:17:26.730538+00:00', 'id': '1efccb6a-f33e-6feb-bfff-48923c1083fe', 'channel_values': {'__start__': State(query='私の好きなものはずんだ餅です。覚えておいてね。', messages=[])}, 'channel_versions': {'__start__': '00000000000000000000000000000001.0.22858467614458122'}, 'versions_seen': {'__input__': {}}, 'pending_sends': []}, metadata={'source': 'input', 'writes': {'__start__': State(query='私の好きなものはずんだ餅です。覚えておいてね。', messages=[])}, 'step': -1, 'parents': {}}, parent_config=None, pending_writes=[])\n"
     ]
    }
   ],
   "source": [
    "for checkpoint in checkpointer.list(config):\n",
    "    print(checkpoint)\n"
   ]
  },
  {
   "cell_type": "code",
   "execution_count": 24,
   "metadata": {},
   "outputs": [
    {
     "name": "stdout",
     "output_type": "stream",
     "text": [
      "チェックポイントデータ:\n",
      "{'channel_values': {'llm_response': 'llm_response',\n",
      "                    'messages': [SystemMessage(content='あなたは最小限の応答をする対話エージェントです。', additional_kwargs={}, response_metadata={}),\n",
      "                                 HumanMessage(content='私の好きなものはずんだ餅です。覚えておいてね。', additional_kwargs={}, response_metadata={}),\n",
      "                                 AIMessage(content='了解しました！ずんだ餅が好きなんですね。', additional_kwargs={'refusal': None}, response_metadata={'token_usage': {'completion_tokens': 14, 'prompt_tokens': 48, 'total_tokens': 62, 'prompt_tokens_details': {'cached_tokens': 0, 'audio_tokens': 0}, 'completion_tokens_details': {'reasoning_tokens': 0, 'audio_tokens': 0, 'accepted_prediction_tokens': 0, 'rejected_prediction_tokens': 0}}, 'model_name': 'gpt-4o-mini-2024-07-18', 'system_fingerprint': 'fp_d02d531b47', 'finish_reason': 'stop', 'logprobs': None}, id='run-832540ae-acd7-4970-94d8-f6f9b7ddf3d5-0', usage_metadata={'input_tokens': 48, 'output_tokens': 14, 'total_tokens': 62})],\n",
      "                    'query': '私の好きなものはずんだ餅です。覚えておいてね。'},\n",
      " 'channel_versions': {'__start__': '00000000000000000000000000000002.0.06924324898796741',\n",
      "                      'add_message': '00000000000000000000000000000004.0.2443604789603433',\n",
      "                      'llm_response': '00000000000000000000000000000004.0.9165549561790978',\n",
      "                      'messages': '00000000000000000000000000000004.0.6115696882807866',\n",
      "                      'query': '00000000000000000000000000000002.0.035579468106213485',\n",
      "                      'start:add_message': '00000000000000000000000000000003.0.8681009586005558'},\n",
      " 'id': '1efccb6a-fcb1-6e74-8002-f34d68a99950',\n",
      " 'pending_sends': [],\n",
      " 'ts': '2025-01-07T05:17:27.721317+00:00',\n",
      " 'v': 1,\n",
      " 'versions_seen': {'__input__': {},\n",
      "                   '__start__': {'__start__': '00000000000000000000000000000001.0.22858467614458122'},\n",
      "                   'add_message': {'start:add_message': '00000000000000000000000000000002.0.7758393378864039'},\n",
      "                   'llm_response': {'add_message': '00000000000000000000000000000003.0.5277657271485737'}}}\n",
      "\n",
      "メタデータ:\n",
      "{'parents': {},\n",
      " 'source': 'loop',\n",
      " 'step': 2,\n",
      " 'writes': {'llm_response': {'messages': [AIMessage(content='了解しました！ずんだ餅が好きなんですね。', additional_kwargs={'refusal': None}, response_metadata={'token_usage': {'completion_tokens': 14, 'prompt_tokens': 48, 'total_tokens': 62, 'prompt_tokens_details': {'cached_tokens': 0, 'audio_tokens': 0}, 'completion_tokens_details': {'reasoning_tokens': 0, 'audio_tokens': 0, 'accepted_prediction_tokens': 0, 'rejected_prediction_tokens': 0}}, 'model_name': 'gpt-4o-mini-2024-07-18', 'system_fingerprint': 'fp_d02d531b47', 'finish_reason': 'stop', 'logprobs': None}, id='run-832540ae-acd7-4970-94d8-f6f9b7ddf3d5-0', usage_metadata={'input_tokens': 48, 'output_tokens': 14, 'total_tokens': 62})]}}}\n"
     ]
    }
   ],
   "source": [
    "print_checkpoint_dump(checkpointer, config)\n"
   ]
  },
  {
   "cell_type": "code",
   "execution_count": 25,
   "metadata": {},
   "outputs": [
    {
     "data": {
      "text/plain": [
       "{'query': '私の好物は何か覚えてる？',\n",
       " 'messages': [SystemMessage(content='あなたは最小限の応答をする対話エージェントです。', additional_kwargs={}, response_metadata={}),\n",
       "  HumanMessage(content='私の好きなものはずんだ餅です。覚えておいてね。', additional_kwargs={}, response_metadata={}),\n",
       "  AIMessage(content='了解しました！ずんだ餅が好きなんですね。', additional_kwargs={'refusal': None}, response_metadata={'token_usage': {'completion_tokens': 14, 'prompt_tokens': 48, 'total_tokens': 62, 'prompt_tokens_details': {'cached_tokens': 0, 'audio_tokens': 0}, 'completion_tokens_details': {'reasoning_tokens': 0, 'audio_tokens': 0, 'accepted_prediction_tokens': 0, 'rejected_prediction_tokens': 0}}, 'model_name': 'gpt-4o-mini-2024-07-18', 'system_fingerprint': 'fp_d02d531b47', 'finish_reason': 'stop', 'logprobs': None}, id='run-832540ae-acd7-4970-94d8-f6f9b7ddf3d5-0', usage_metadata={'input_tokens': 48, 'output_tokens': 14, 'total_tokens': 62}),\n",
       "  HumanMessage(content='私の好物は何か覚えてる？', additional_kwargs={}, response_metadata={}),\n",
       "  AIMessage(content='はい、ずんだ餅ですね。', additional_kwargs={'refusal': None}, response_metadata={'token_usage': {'completion_tokens': 10, 'prompt_tokens': 80, 'total_tokens': 90, 'prompt_tokens_details': {'cached_tokens': 0, 'audio_tokens': 0}, 'completion_tokens_details': {'reasoning_tokens': 0, 'audio_tokens': 0, 'accepted_prediction_tokens': 0, 'rejected_prediction_tokens': 0}}, 'model_name': 'gpt-4o-mini-2024-07-18', 'system_fingerprint': 'fp_0aa8d3e20b', 'finish_reason': 'stop', 'logprobs': None}, id='run-739640e8-c064-423d-8973-081c91332f6a-0', usage_metadata={'input_tokens': 80, 'output_tokens': 10, 'total_tokens': 90})]}"
      ]
     },
     "execution_count": 25,
     "metadata": {},
     "output_type": "execute_result"
    }
   ],
   "source": [
    "user_query = State(query=\"私の好物は何か覚えてる？\")\n",
    "second_response = compiled_graph.invoke(user_query, config)\n",
    "second_response\n"
   ]
  },
  {
   "cell_type": "code",
   "execution_count": 26,
   "metadata": {},
   "outputs": [
    {
     "name": "stdout",
     "output_type": "stream",
     "text": [
      "CheckpointTuple(config={'configurable': {'thread_id': 'example-1', 'checkpoint_ns': '', 'checkpoint_id': '1efccb75-b49b-632f-8006-7832c12b5afc'}}, checkpoint={'v': 1, 'ts': '2025-01-07T05:22:15.441272+00:00', 'id': '1efccb75-b49b-632f-8006-7832c12b5afc', 'channel_values': {'query': '私の好物は何か覚えてる？', 'messages': [SystemMessage(content='あなたは最小限の応答をする対話エージェントです。', additional_kwargs={}, response_metadata={}), HumanMessage(content='私の好きなものはずんだ餅です。覚えておいてね。', additional_kwargs={}, response_metadata={}), AIMessage(content='了解しました！ずんだ餅が好きなんですね。', additional_kwargs={'refusal': None}, response_metadata={'token_usage': {'completion_tokens': 14, 'prompt_tokens': 48, 'total_tokens': 62, 'prompt_tokens_details': {'cached_tokens': 0, 'audio_tokens': 0}, 'completion_tokens_details': {'reasoning_tokens': 0, 'audio_tokens': 0, 'accepted_prediction_tokens': 0, 'rejected_prediction_tokens': 0}}, 'model_name': 'gpt-4o-mini-2024-07-18', 'system_fingerprint': 'fp_d02d531b47', 'finish_reason': 'stop', 'logprobs': None}, id='run-832540ae-acd7-4970-94d8-f6f9b7ddf3d5-0', usage_metadata={'input_tokens': 48, 'output_tokens': 14, 'total_tokens': 62}), HumanMessage(content='私の好物は何か覚えてる？', additional_kwargs={}, response_metadata={}), AIMessage(content='はい、ずんだ餅ですね。', additional_kwargs={'refusal': None}, response_metadata={'token_usage': {'completion_tokens': 10, 'prompt_tokens': 80, 'total_tokens': 90, 'prompt_tokens_details': {'cached_tokens': 0, 'audio_tokens': 0}, 'completion_tokens_details': {'reasoning_tokens': 0, 'audio_tokens': 0, 'accepted_prediction_tokens': 0, 'rejected_prediction_tokens': 0}}, 'model_name': 'gpt-4o-mini-2024-07-18', 'system_fingerprint': 'fp_0aa8d3e20b', 'finish_reason': 'stop', 'logprobs': None}, id='run-739640e8-c064-423d-8973-081c91332f6a-0', usage_metadata={'input_tokens': 80, 'output_tokens': 10, 'total_tokens': 90})], 'llm_response': 'llm_response'}, 'channel_versions': {'__start__': '00000000000000000000000000000006.0.8858012818493206', 'query': '00000000000000000000000000000006.0.15614418151644838', 'messages': '00000000000000000000000000000008.0.1822319198577258', 'start:add_message': '00000000000000000000000000000007.0.42517832002284617', 'add_message': '00000000000000000000000000000008.0.13284547643328337', 'llm_response': '00000000000000000000000000000008.0.09695393215782044'}, 'versions_seen': {'__input__': {}, '__start__': {'__start__': '00000000000000000000000000000005.0.7917662752020921'}, 'add_message': {'start:add_message': '00000000000000000000000000000006.0.414598755643948'}, 'llm_response': {'add_message': '00000000000000000000000000000007.0.6208986992826832'}}, 'pending_sends': []}, metadata={'source': 'loop', 'writes': {'llm_response': {'messages': [AIMessage(content='はい、ずんだ餅ですね。', additional_kwargs={'refusal': None}, response_metadata={'token_usage': {'completion_tokens': 10, 'prompt_tokens': 80, 'total_tokens': 90, 'prompt_tokens_details': {'cached_tokens': 0, 'audio_tokens': 0}, 'completion_tokens_details': {'reasoning_tokens': 0, 'audio_tokens': 0, 'accepted_prediction_tokens': 0, 'rejected_prediction_tokens': 0}}, 'model_name': 'gpt-4o-mini-2024-07-18', 'system_fingerprint': 'fp_0aa8d3e20b', 'finish_reason': 'stop', 'logprobs': None}, id='run-739640e8-c064-423d-8973-081c91332f6a-0', usage_metadata={'input_tokens': 80, 'output_tokens': 10, 'total_tokens': 90})]}}, 'step': 6, 'parents': {}}, parent_config={'configurable': {'thread_id': 'example-1', 'checkpoint_ns': '', 'checkpoint_id': '1efccb75-afc5-633e-8005-b2bce7fdfac1'}}, pending_writes=[])\n",
      "CheckpointTuple(config={'configurable': {'thread_id': 'example-1', 'checkpoint_ns': '', 'checkpoint_id': '1efccb75-afc5-633e-8005-b2bce7fdfac1'}}, checkpoint={'v': 1, 'ts': '2025-01-07T05:22:14.934189+00:00', 'id': '1efccb75-afc5-633e-8005-b2bce7fdfac1', 'channel_values': {'query': '私の好物は何か覚えてる？', 'messages': [SystemMessage(content='あなたは最小限の応答をする対話エージェントです。', additional_kwargs={}, response_metadata={}), HumanMessage(content='私の好きなものはずんだ餅です。覚えておいてね。', additional_kwargs={}, response_metadata={}), AIMessage(content='了解しました！ずんだ餅が好きなんですね。', additional_kwargs={'refusal': None}, response_metadata={'token_usage': {'completion_tokens': 14, 'prompt_tokens': 48, 'total_tokens': 62, 'prompt_tokens_details': {'cached_tokens': 0, 'audio_tokens': 0}, 'completion_tokens_details': {'reasoning_tokens': 0, 'audio_tokens': 0, 'accepted_prediction_tokens': 0, 'rejected_prediction_tokens': 0}}, 'model_name': 'gpt-4o-mini-2024-07-18', 'system_fingerprint': 'fp_d02d531b47', 'finish_reason': 'stop', 'logprobs': None}, id='run-832540ae-acd7-4970-94d8-f6f9b7ddf3d5-0', usage_metadata={'input_tokens': 48, 'output_tokens': 14, 'total_tokens': 62}), HumanMessage(content='私の好物は何か覚えてる？', additional_kwargs={}, response_metadata={})], 'add_message': 'add_message'}, 'channel_versions': {'__start__': '00000000000000000000000000000006.0.8858012818493206', 'query': '00000000000000000000000000000006.0.15614418151644838', 'messages': '00000000000000000000000000000007.0.2893114139490345', 'start:add_message': '00000000000000000000000000000007.0.42517832002284617', 'add_message': '00000000000000000000000000000007.0.6208986992826832', 'llm_response': '00000000000000000000000000000005.0.5595177102230192'}, 'versions_seen': {'__input__': {}, '__start__': {'__start__': '00000000000000000000000000000005.0.7917662752020921'}, 'add_message': {'start:add_message': '00000000000000000000000000000006.0.414598755643948'}, 'llm_response': {'add_message': '00000000000000000000000000000003.0.5277657271485737'}}, 'pending_sends': []}, metadata={'source': 'loop', 'writes': {'add_message': {'messages': [HumanMessage(content='私の好物は何か覚えてる？', additional_kwargs={}, response_metadata={})]}}, 'step': 5, 'parents': {}}, parent_config={'configurable': {'thread_id': 'example-1', 'checkpoint_ns': '', 'checkpoint_id': '1efccb75-afc0-6385-8004-d59b33867490'}}, pending_writes=[])\n",
      "CheckpointTuple(config={'configurable': {'thread_id': 'example-1', 'checkpoint_ns': '', 'checkpoint_id': '1efccb75-afc0-6385-8004-d59b33867490'}}, checkpoint={'v': 1, 'ts': '2025-01-07T05:22:14.932146+00:00', 'id': '1efccb75-afc0-6385-8004-d59b33867490', 'channel_values': {'query': '私の好物は何か覚えてる？', 'messages': [SystemMessage(content='あなたは最小限の応答をする対話エージェントです。', additional_kwargs={}, response_metadata={}), HumanMessage(content='私の好きなものはずんだ餅です。覚えておいてね。', additional_kwargs={}, response_metadata={}), AIMessage(content='了解しました！ずんだ餅が好きなんですね。', additional_kwargs={'refusal': None}, response_metadata={'token_usage': {'completion_tokens': 14, 'prompt_tokens': 48, 'total_tokens': 62, 'prompt_tokens_details': {'cached_tokens': 0, 'audio_tokens': 0}, 'completion_tokens_details': {'reasoning_tokens': 0, 'audio_tokens': 0, 'accepted_prediction_tokens': 0, 'rejected_prediction_tokens': 0}}, 'model_name': 'gpt-4o-mini-2024-07-18', 'system_fingerprint': 'fp_d02d531b47', 'finish_reason': 'stop', 'logprobs': None}, id='run-832540ae-acd7-4970-94d8-f6f9b7ddf3d5-0', usage_metadata={'input_tokens': 48, 'output_tokens': 14, 'total_tokens': 62})], 'start:add_message': '__start__'}, 'channel_versions': {'__start__': '00000000000000000000000000000006.0.8858012818493206', 'query': '00000000000000000000000000000006.0.15614418151644838', 'messages': '00000000000000000000000000000006.0.8614940856876087', 'start:add_message': '00000000000000000000000000000006.0.414598755643948', 'add_message': '00000000000000000000000000000004.0.2443604789603433', 'llm_response': '00000000000000000000000000000005.0.5595177102230192'}, 'versions_seen': {'__input__': {}, '__start__': {'__start__': '00000000000000000000000000000005.0.7917662752020921'}, 'add_message': {'start:add_message': '00000000000000000000000000000002.0.7758393378864039'}, 'llm_response': {'add_message': '00000000000000000000000000000003.0.5277657271485737'}}, 'pending_sends': []}, metadata={'source': 'loop', 'writes': None, 'step': 4, 'parents': {}}, parent_config={'configurable': {'thread_id': 'example-1', 'checkpoint_ns': '', 'checkpoint_id': '1efccb75-afbb-65b7-8003-b84a0abd5b0e'}}, pending_writes=[])\n",
      "CheckpointTuple(config={'configurable': {'thread_id': 'example-1', 'checkpoint_ns': '', 'checkpoint_id': '1efccb75-afbb-65b7-8003-b84a0abd5b0e'}}, checkpoint={'v': 1, 'ts': '2025-01-07T05:22:14.930147+00:00', 'id': '1efccb75-afbb-65b7-8003-b84a0abd5b0e', 'channel_values': {'query': '私の好きなものはずんだ餅です。覚えておいてね。', 'messages': [SystemMessage(content='あなたは最小限の応答をする対話エージェントです。', additional_kwargs={}, response_metadata={}), HumanMessage(content='私の好きなものはずんだ餅です。覚えておいてね。', additional_kwargs={}, response_metadata={}), AIMessage(content='了解しました！ずんだ餅が好きなんですね。', additional_kwargs={'refusal': None}, response_metadata={'token_usage': {'completion_tokens': 14, 'prompt_tokens': 48, 'total_tokens': 62, 'prompt_tokens_details': {'cached_tokens': 0, 'audio_tokens': 0}, 'completion_tokens_details': {'reasoning_tokens': 0, 'audio_tokens': 0, 'accepted_prediction_tokens': 0, 'rejected_prediction_tokens': 0}}, 'model_name': 'gpt-4o-mini-2024-07-18', 'system_fingerprint': 'fp_d02d531b47', 'finish_reason': 'stop', 'logprobs': None}, id='run-832540ae-acd7-4970-94d8-f6f9b7ddf3d5-0', usage_metadata={'input_tokens': 48, 'output_tokens': 14, 'total_tokens': 62})], '__start__': State(query='私の好物は何か覚えてる？', messages=[])}, 'channel_versions': {'__start__': '00000000000000000000000000000005.0.7917662752020921', 'query': '00000000000000000000000000000002.0.035579468106213485', 'messages': '00000000000000000000000000000004.0.6115696882807866', 'start:add_message': '00000000000000000000000000000003.0.8681009586005558', 'add_message': '00000000000000000000000000000004.0.2443604789603433', 'llm_response': '00000000000000000000000000000005.0.5595177102230192'}, 'versions_seen': {'__input__': {}, '__start__': {'__start__': '00000000000000000000000000000001.0.22858467614458122'}, 'add_message': {'start:add_message': '00000000000000000000000000000002.0.7758393378864039'}, 'llm_response': {'add_message': '00000000000000000000000000000003.0.5277657271485737'}}, 'pending_sends': []}, metadata={'source': 'input', 'writes': {'__start__': State(query='私の好物は何か覚えてる？', messages=[])}, 'step': 3, 'parents': {}}, parent_config={'configurable': {'thread_id': 'example-1', 'checkpoint_ns': '', 'checkpoint_id': '1efccb6a-fcb1-6e74-8002-f34d68a99950'}}, pending_writes=[])\n",
      "CheckpointTuple(config={'configurable': {'thread_id': 'example-1', 'checkpoint_ns': '', 'checkpoint_id': '1efccb6a-fcb1-6e74-8002-f34d68a99950'}}, checkpoint={'v': 1, 'ts': '2025-01-07T05:17:27.721317+00:00', 'id': '1efccb6a-fcb1-6e74-8002-f34d68a99950', 'channel_values': {'query': '私の好きなものはずんだ餅です。覚えておいてね。', 'messages': [SystemMessage(content='あなたは最小限の応答をする対話エージェントです。', additional_kwargs={}, response_metadata={}), HumanMessage(content='私の好きなものはずんだ餅です。覚えておいてね。', additional_kwargs={}, response_metadata={}), AIMessage(content='了解しました！ずんだ餅が好きなんですね。', additional_kwargs={'refusal': None}, response_metadata={'token_usage': {'completion_tokens': 14, 'prompt_tokens': 48, 'total_tokens': 62, 'prompt_tokens_details': {'cached_tokens': 0, 'audio_tokens': 0}, 'completion_tokens_details': {'reasoning_tokens': 0, 'audio_tokens': 0, 'accepted_prediction_tokens': 0, 'rejected_prediction_tokens': 0}}, 'model_name': 'gpt-4o-mini-2024-07-18', 'system_fingerprint': 'fp_d02d531b47', 'finish_reason': 'stop', 'logprobs': None}, id='run-832540ae-acd7-4970-94d8-f6f9b7ddf3d5-0', usage_metadata={'input_tokens': 48, 'output_tokens': 14, 'total_tokens': 62})], 'llm_response': 'llm_response'}, 'channel_versions': {'__start__': '00000000000000000000000000000002.0.06924324898796741', 'query': '00000000000000000000000000000002.0.035579468106213485', 'messages': '00000000000000000000000000000004.0.6115696882807866', 'start:add_message': '00000000000000000000000000000003.0.8681009586005558', 'add_message': '00000000000000000000000000000004.0.2443604789603433', 'llm_response': '00000000000000000000000000000004.0.9165549561790978'}, 'versions_seen': {'__input__': {}, '__start__': {'__start__': '00000000000000000000000000000001.0.22858467614458122'}, 'add_message': {'start:add_message': '00000000000000000000000000000002.0.7758393378864039'}, 'llm_response': {'add_message': '00000000000000000000000000000003.0.5277657271485737'}}, 'pending_sends': []}, metadata={'source': 'loop', 'writes': {'llm_response': {'messages': [AIMessage(content='了解しました！ずんだ餅が好きなんですね。', additional_kwargs={'refusal': None}, response_metadata={'token_usage': {'completion_tokens': 14, 'prompt_tokens': 48, 'total_tokens': 62, 'prompt_tokens_details': {'cached_tokens': 0, 'audio_tokens': 0}, 'completion_tokens_details': {'reasoning_tokens': 0, 'audio_tokens': 0, 'accepted_prediction_tokens': 0, 'rejected_prediction_tokens': 0}}, 'model_name': 'gpt-4o-mini-2024-07-18', 'system_fingerprint': 'fp_d02d531b47', 'finish_reason': 'stop', 'logprobs': None}, id='run-832540ae-acd7-4970-94d8-f6f9b7ddf3d5-0', usage_metadata={'input_tokens': 48, 'output_tokens': 14, 'total_tokens': 62})]}}, 'step': 2, 'parents': {}}, parent_config={'configurable': {'thread_id': 'example-1', 'checkpoint_ns': '', 'checkpoint_id': '1efccb6a-f34f-6414-8001-45f4c1726d08'}}, pending_writes=[])\n",
      "CheckpointTuple(config={'configurable': {'thread_id': 'example-1', 'checkpoint_ns': '', 'checkpoint_id': '1efccb6a-f34f-6414-8001-45f4c1726d08'}}, checkpoint={'v': 1, 'ts': '2025-01-07T05:17:26.737195+00:00', 'id': '1efccb6a-f34f-6414-8001-45f4c1726d08', 'channel_values': {'query': '私の好きなものはずんだ餅です。覚えておいてね。', 'messages': [SystemMessage(content='あなたは最小限の応答をする対話エージェントです。', additional_kwargs={}, response_metadata={}), HumanMessage(content='私の好きなものはずんだ餅です。覚えておいてね。', additional_kwargs={}, response_metadata={})], 'add_message': 'add_message'}, 'channel_versions': {'__start__': '00000000000000000000000000000002.0.06924324898796741', 'query': '00000000000000000000000000000002.0.035579468106213485', 'messages': '00000000000000000000000000000003.0.5989006607773902', 'start:add_message': '00000000000000000000000000000003.0.8681009586005558', 'add_message': '00000000000000000000000000000003.0.5277657271485737'}, 'versions_seen': {'__input__': {}, '__start__': {'__start__': '00000000000000000000000000000001.0.22858467614458122'}, 'add_message': {'start:add_message': '00000000000000000000000000000002.0.7758393378864039'}}, 'pending_sends': []}, metadata={'source': 'loop', 'writes': {'add_message': {'messages': [SystemMessage(content='あなたは最小限の応答をする対話エージェントです。', additional_kwargs={}, response_metadata={}), HumanMessage(content='私の好きなものはずんだ餅です。覚えておいてね。', additional_kwargs={}, response_metadata={})]}}, 'step': 1, 'parents': {}}, parent_config={'configurable': {'thread_id': 'example-1', 'checkpoint_ns': '', 'checkpoint_id': '1efccb6a-f34a-62f7-8000-90a1efd961ee'}}, pending_writes=[])\n",
      "CheckpointTuple(config={'configurable': {'thread_id': 'example-1', 'checkpoint_ns': '', 'checkpoint_id': '1efccb6a-f34a-62f7-8000-90a1efd961ee'}}, checkpoint={'v': 1, 'ts': '2025-01-07T05:17:26.735097+00:00', 'id': '1efccb6a-f34a-62f7-8000-90a1efd961ee', 'channel_values': {'query': '私の好きなものはずんだ餅です。覚えておいてね。', 'messages': [], 'start:add_message': '__start__'}, 'channel_versions': {'__start__': '00000000000000000000000000000002.0.06924324898796741', 'query': '00000000000000000000000000000002.0.035579468106213485', 'messages': '00000000000000000000000000000002.0.2900772898827676', 'start:add_message': '00000000000000000000000000000002.0.7758393378864039'}, 'versions_seen': {'__input__': {}, '__start__': {'__start__': '00000000000000000000000000000001.0.22858467614458122'}}, 'pending_sends': []}, metadata={'source': 'loop', 'writes': None, 'step': 0, 'parents': {}}, parent_config={'configurable': {'thread_id': 'example-1', 'checkpoint_ns': '', 'checkpoint_id': '1efccb6a-f33e-6feb-bfff-48923c1083fe'}}, pending_writes=[])\n",
      "CheckpointTuple(config={'configurable': {'thread_id': 'example-1', 'checkpoint_ns': '', 'checkpoint_id': '1efccb6a-f33e-6feb-bfff-48923c1083fe'}}, checkpoint={'v': 1, 'ts': '2025-01-07T05:17:26.730538+00:00', 'id': '1efccb6a-f33e-6feb-bfff-48923c1083fe', 'channel_values': {'__start__': State(query='私の好きなものはずんだ餅です。覚えておいてね。', messages=[])}, 'channel_versions': {'__start__': '00000000000000000000000000000001.0.22858467614458122'}, 'versions_seen': {'__input__': {}}, 'pending_sends': []}, metadata={'source': 'input', 'writes': {'__start__': State(query='私の好きなものはずんだ餅です。覚えておいてね。', messages=[])}, 'step': -1, 'parents': {}}, parent_config=None, pending_writes=[])\n"
     ]
    }
   ],
   "source": [
    "for checkpoint in checkpointer.list(config):\n",
    "    print(checkpoint)\n"
   ]
  },
  {
   "cell_type": "code",
   "execution_count": 27,
   "metadata": {},
   "outputs": [
    {
     "name": "stdout",
     "output_type": "stream",
     "text": [
      "チェックポイントデータ:\n",
      "{'channel_values': {'llm_response': 'llm_response',\n",
      "                    'messages': [SystemMessage(content='あなたは最小限の応答をする対話エージェントです。', additional_kwargs={}, response_metadata={}),\n",
      "                                 HumanMessage(content='私の好きなものはずんだ餅です。覚えておいてね。', additional_kwargs={}, response_metadata={}),\n",
      "                                 AIMessage(content='了解しました！ずんだ餅が好きなんですね。', additional_kwargs={'refusal': None}, response_metadata={'token_usage': {'completion_tokens': 14, 'prompt_tokens': 48, 'total_tokens': 62, 'prompt_tokens_details': {'cached_tokens': 0, 'audio_tokens': 0}, 'completion_tokens_details': {'reasoning_tokens': 0, 'audio_tokens': 0, 'accepted_prediction_tokens': 0, 'rejected_prediction_tokens': 0}}, 'model_name': 'gpt-4o-mini-2024-07-18', 'system_fingerprint': 'fp_d02d531b47', 'finish_reason': 'stop', 'logprobs': None}, id='run-832540ae-acd7-4970-94d8-f6f9b7ddf3d5-0', usage_metadata={'input_tokens': 48, 'output_tokens': 14, 'total_tokens': 62}),\n",
      "                                 HumanMessage(content='私の好物は何か覚えてる？', additional_kwargs={}, response_metadata={}),\n",
      "                                 AIMessage(content='はい、ずんだ餅ですね。', additional_kwargs={'refusal': None}, response_metadata={'token_usage': {'completion_tokens': 10, 'prompt_tokens': 80, 'total_tokens': 90, 'prompt_tokens_details': {'cached_tokens': 0, 'audio_tokens': 0}, 'completion_tokens_details': {'reasoning_tokens': 0, 'audio_tokens': 0, 'accepted_prediction_tokens': 0, 'rejected_prediction_tokens': 0}}, 'model_name': 'gpt-4o-mini-2024-07-18', 'system_fingerprint': 'fp_0aa8d3e20b', 'finish_reason': 'stop', 'logprobs': None}, id='run-739640e8-c064-423d-8973-081c91332f6a-0', usage_metadata={'input_tokens': 80, 'output_tokens': 10, 'total_tokens': 90})],\n",
      "                    'query': '私の好物は何か覚えてる？'},\n",
      " 'channel_versions': {'__start__': '00000000000000000000000000000006.0.8858012818493206',\n",
      "                      'add_message': '00000000000000000000000000000008.0.13284547643328337',\n",
      "                      'llm_response': '00000000000000000000000000000008.0.09695393215782044',\n",
      "                      'messages': '00000000000000000000000000000008.0.1822319198577258',\n",
      "                      'query': '00000000000000000000000000000006.0.15614418151644838',\n",
      "                      'start:add_message': '00000000000000000000000000000007.0.42517832002284617'},\n",
      " 'id': '1efccb75-b49b-632f-8006-7832c12b5afc',\n",
      " 'pending_sends': [],\n",
      " 'ts': '2025-01-07T05:22:15.441272+00:00',\n",
      " 'v': 1,\n",
      " 'versions_seen': {'__input__': {},\n",
      "                   '__start__': {'__start__': '00000000000000000000000000000005.0.7917662752020921'},\n",
      "                   'add_message': {'start:add_message': '00000000000000000000000000000006.0.414598755643948'},\n",
      "                   'llm_response': {'add_message': '00000000000000000000000000000007.0.6208986992826832'}}}\n",
      "\n",
      "メタデータ:\n",
      "{'parents': {},\n",
      " 'source': 'loop',\n",
      " 'step': 6,\n",
      " 'writes': {'llm_response': {'messages': [AIMessage(content='はい、ずんだ餅ですね。', additional_kwargs={'refusal': None}, response_metadata={'token_usage': {'completion_tokens': 10, 'prompt_tokens': 80, 'total_tokens': 90, 'prompt_tokens_details': {'cached_tokens': 0, 'audio_tokens': 0}, 'completion_tokens_details': {'reasoning_tokens': 0, 'audio_tokens': 0, 'accepted_prediction_tokens': 0, 'rejected_prediction_tokens': 0}}, 'model_name': 'gpt-4o-mini-2024-07-18', 'system_fingerprint': 'fp_0aa8d3e20b', 'finish_reason': 'stop', 'logprobs': None}, id='run-739640e8-c064-423d-8973-081c91332f6a-0', usage_metadata={'input_tokens': 80, 'output_tokens': 10, 'total_tokens': 90})]}}}\n"
     ]
    }
   ],
   "source": [
    "print_checkpoint_dump(checkpointer, config)\n"
   ]
  },
  {
   "cell_type": "code",
   "execution_count": 28,
   "metadata": {},
   "outputs": [
    {
     "data": {
      "text/plain": [
       "{'query': '私の好物は何？',\n",
       " 'messages': [SystemMessage(content='あなたは最小限の応答をする対話エージェントです。', additional_kwargs={}, response_metadata={}),\n",
       "  HumanMessage(content='私の好物は何？', additional_kwargs={}, response_metadata={}),\n",
       "  AIMessage(content='わかりません。あなたの好物は何ですか？', additional_kwargs={'refusal': None}, response_metadata={'token_usage': {'completion_tokens': 15, 'prompt_tokens': 36, 'total_tokens': 51, 'prompt_tokens_details': {'cached_tokens': 0, 'audio_tokens': 0}, 'completion_tokens_details': {'reasoning_tokens': 0, 'audio_tokens': 0, 'accepted_prediction_tokens': 0, 'rejected_prediction_tokens': 0}}, 'model_name': 'gpt-4o-mini-2024-07-18', 'system_fingerprint': 'fp_0aa8d3e20b', 'finish_reason': 'stop', 'logprobs': None}, id='run-564e00f9-e655-4606-aa27-0fcd0ac97ae4-0', usage_metadata={'input_tokens': 36, 'output_tokens': 15, 'total_tokens': 51})]}"
      ]
     },
     "execution_count": 28,
     "metadata": {},
     "output_type": "execute_result"
    }
   ],
   "source": [
    "config = {\"configurable\": {\"thread_id\": \"example-2\"}}\n",
    "user_query = State(query=\"私の好物は何？\")\n",
    "other_thread_response = compiled_graph.invoke(user_query, config)\n",
    "other_thread_response\n"
   ]
  }
 ],
 "metadata": {
  "kernelspec": {
   "display_name": "Python 3",
   "language": "python",
   "name": "python3"
  },
  "language_info": {
   "codemirror_mode": {
    "name": "ipython",
    "version": 3
   },
   "file_extension": ".py",
   "mimetype": "text/x-python",
   "name": "python",
   "nbconvert_exporter": "python",
   "pygments_lexer": "ipython3",
   "version": "3.12.8"
  }
 },
 "nbformat": 4,
 "nbformat_minor": 2
}
