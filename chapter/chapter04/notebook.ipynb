{
 "cells": [
  {
   "cell_type": "markdown",
   "metadata": {},
   "source": [
    "# 4. LangChain の基礎\n"
   ]
  },
  {
   "cell_type": "code",
   "execution_count": 1,
   "metadata": {},
   "outputs": [],
   "source": [
    "import os\n"
   ]
  },
  {
   "cell_type": "markdown",
   "metadata": {},
   "source": [
    "## 4.2. LLM / Chat model\n"
   ]
  },
  {
   "cell_type": "markdown",
   "metadata": {},
   "source": [
    "### LLM\n"
   ]
  },
  {
   "cell_type": "code",
   "execution_count": 2,
   "metadata": {
    "execution": {
     "iopub.execute_input": "2024-06-28T02:32:34.493540Z",
     "iopub.status.busy": "2024-06-28T02:32:34.493370Z",
     "iopub.status.idle": "2024-06-28T02:32:36.949739Z",
     "shell.execute_reply": "2024-06-28T02:32:36.949284Z"
    }
   },
   "outputs": [
    {
     "name": "stdout",
     "output_type": "stream",
     "text": [
      "\n",
      "\n",
      "こんにちは\n",
      "\n",
      "こんにちは、私はAIのアシスタントです。あなたのお手伝いをすることができます。何かお困りのことはありますか？\n"
     ]
    }
   ],
   "source": [
    "from langchain_openai import OpenAI\n",
    "\n",
    "model = OpenAI(model=\"gpt-3.5-turbo-instruct\", temperature=0)\n",
    "ai_message = model.invoke(\"こんにちは\")\n",
    "print(ai_message)\n"
   ]
  },
  {
   "cell_type": "markdown",
   "metadata": {},
   "source": [
    "### Chat model\n"
   ]
  },
  {
   "cell_type": "code",
   "execution_count": 3,
   "metadata": {
    "execution": {
     "iopub.execute_input": "2024-06-28T02:32:36.951724Z",
     "iopub.status.busy": "2024-06-28T02:32:36.951536Z",
     "iopub.status.idle": "2024-06-28T02:32:39.034259Z",
     "shell.execute_reply": "2024-06-28T02:32:39.033764Z"
    }
   },
   "outputs": [
    {
     "name": "stdout",
     "output_type": "stream",
     "text": [
      "はい、あなたの名前はジョンさんです。何か特別なことについてお話ししたいですか？\n"
     ]
    }
   ],
   "source": [
    "from langchain_core.messages import AIMessage, HumanMessage, SystemMessage\n",
    "from langchain_openai import ChatOpenAI\n",
    "\n",
    "model = ChatOpenAI(model=\"gpt-4o-mini\", temperature=0)\n",
    "\n",
    "messages = [\n",
    "    SystemMessage(\"You are a helpful assistant.\"),\n",
    "    HumanMessage(\"こんにちは！私はジョンと言います\"),\n",
    "    AIMessage(content=\"こんにちは、ジョンさん！どのようにお手伝いできますか？\"),\n",
    "    HumanMessage(content=\"私の名前がわかりますか？\"),\n",
    "]\n",
    "\n",
    "ai_message = model.invoke(messages)\n",
    "print(ai_message.content)\n"
   ]
  },
  {
   "cell_type": "markdown",
   "metadata": {},
   "source": [
    "### ストリーミング\n"
   ]
  },
  {
   "cell_type": "code",
   "execution_count": 4,
   "metadata": {
    "execution": {
     "iopub.execute_input": "2024-06-28T02:32:39.036893Z",
     "iopub.status.busy": "2024-06-28T02:32:39.036468Z",
     "iopub.status.idle": "2024-06-28T02:32:40.188998Z",
     "shell.execute_reply": "2024-06-28T02:32:40.188511Z"
    }
   },
   "outputs": [
    {
     "name": "stdout",
     "output_type": "stream",
     "text": [
      "こんにちは！どういったことをお手伝いできますか？"
     ]
    }
   ],
   "source": [
    "from langchain_core.messages import SystemMessage, HumanMessage\n",
    "from langchain_openai import ChatOpenAI\n",
    "\n",
    "model = ChatOpenAI(model=\"gpt-4o-mini\", temperature=0)\n",
    "\n",
    "messages = [\n",
    "    SystemMessage(\"You are a helpful assistant.\"),\n",
    "    HumanMessage(\"こんにちは！\"),\n",
    "]\n",
    "\n",
    "for chunk in model.stream(messages):\n",
    "    print(chunk.content, end=\"\", flush=True)\n"
   ]
  },
  {
   "cell_type": "markdown",
   "metadata": {},
   "source": [
    "## 4.3. Prompt template\n"
   ]
  },
  {
   "cell_type": "markdown",
   "metadata": {},
   "source": [
    "### PromptTemplate\n"
   ]
  },
  {
   "cell_type": "code",
   "execution_count": 5,
   "metadata": {
    "execution": {
     "iopub.execute_input": "2024-06-28T02:32:40.191537Z",
     "iopub.status.busy": "2024-06-28T02:32:40.191222Z",
     "iopub.status.idle": "2024-06-28T02:32:40.197096Z",
     "shell.execute_reply": "2024-06-28T02:32:40.196704Z"
    }
   },
   "outputs": [
    {
     "name": "stdout",
     "output_type": "stream",
     "text": [
      "以下の料理のレシピを考えてください。\n",
      "\n",
      "料理名: カレー\n"
     ]
    }
   ],
   "source": [
    "from langchain_core.prompts import PromptTemplate\n",
    "\n",
    "prompt = PromptTemplate.from_template(\"\"\"以下の料理のレシピを考えてください。\n",
    "\n",
    "料理名: {dish}\"\"\")\n",
    "\n",
    "prompt_value = prompt.invoke({\"dish\": \"カレー\"})\n",
    "print(prompt_value.text)\n"
   ]
  },
  {
   "cell_type": "markdown",
   "metadata": {},
   "source": [
    "#### ＜補足：プロンプトの変数が 1 つの場合＞\n"
   ]
  },
  {
   "cell_type": "code",
   "execution_count": 7,
   "metadata": {},
   "outputs": [
    {
     "name": "stdout",
     "output_type": "stream",
     "text": [
      "以下の料理のレシピを考えてください。\n",
      "\n",
      "料理名: カレー\n"
     ]
    }
   ],
   "source": [
    "prompt_value = prompt.invoke(\"カレー\")\n",
    "print(prompt_value.text)\n"
   ]
  },
  {
   "cell_type": "markdown",
   "metadata": {},
   "source": [
    "### ChatPromptTemplate\n"
   ]
  },
  {
   "cell_type": "code",
   "execution_count": 8,
   "metadata": {
    "execution": {
     "iopub.execute_input": "2024-06-28T02:32:40.199009Z",
     "iopub.status.busy": "2024-06-28T02:32:40.198811Z",
     "iopub.status.idle": "2024-06-28T02:32:40.204792Z",
     "shell.execute_reply": "2024-06-28T02:32:40.204434Z"
    }
   },
   "outputs": [
    {
     "name": "stdout",
     "output_type": "stream",
     "text": [
      "messages=[SystemMessage(content='ユーザーが入力した料理のレシピを考えてください。', additional_kwargs={}, response_metadata={}), HumanMessage(content='カレー', additional_kwargs={}, response_metadata={})]\n"
     ]
    }
   ],
   "source": [
    "from langchain_core.prompts import ChatPromptTemplate\n",
    "\n",
    "prompt = ChatPromptTemplate.from_messages(\n",
    "    [\n",
    "        (\"system\", \"ユーザーが入力した料理のレシピを考えてください。\"),\n",
    "        (\"human\", \"{dish}\"),\n",
    "    ]\n",
    ")\n",
    "\n",
    "prompt_value = prompt.invoke({\"dish\": \"カレー\"})\n",
    "print(prompt_value)\n"
   ]
  },
  {
   "cell_type": "markdown",
   "metadata": {},
   "source": [
    "### MessagesPlaceholder\n"
   ]
  },
  {
   "cell_type": "code",
   "execution_count": 9,
   "metadata": {
    "execution": {
     "iopub.execute_input": "2024-06-28T02:32:40.206823Z",
     "iopub.status.busy": "2024-06-28T02:32:40.206639Z",
     "iopub.status.idle": "2024-06-28T02:32:40.213139Z",
     "shell.execute_reply": "2024-06-28T02:32:40.212764Z"
    }
   },
   "outputs": [
    {
     "name": "stdout",
     "output_type": "stream",
     "text": [
      "messages=[SystemMessage(content='You are a helpful assistant.', additional_kwargs={}, response_metadata={}), HumanMessage(content='こんにちは！私はジョンと言います！', additional_kwargs={}, response_metadata={}), AIMessage(content='こんにちは、ジョンさん！どのようにお手伝いできますか？', additional_kwargs={}, response_metadata={}), HumanMessage(content='私の名前が分かりますか？', additional_kwargs={}, response_metadata={})]\n"
     ]
    }
   ],
   "source": [
    "from langchain_core.messages import AIMessage, HumanMessage\n",
    "from langchain_core.prompts import ChatPromptTemplate, MessagesPlaceholder\n",
    "\n",
    "prompt = ChatPromptTemplate.from_messages(\n",
    "    [\n",
    "        (\"system\", \"You are a helpful assistant.\"),\n",
    "        MessagesPlaceholder(\"chat_history\", optional=True),\n",
    "        (\"human\", \"{input}\"),\n",
    "    ]\n",
    ")\n",
    "\n",
    "prompt_value = prompt.invoke(\n",
    "    {\n",
    "        \"chat_history\": [\n",
    "            HumanMessage(content=\"こんにちは！私はジョンと言います！\"),\n",
    "            AIMessage(\"こんにちは、ジョンさん！どのようにお手伝いできますか？\"),\n",
    "        ],\n",
    "        \"input\": \"私の名前が分かりますか？\",\n",
    "    }\n",
    ")\n",
    "print(prompt_value)\n"
   ]
  },
  {
   "cell_type": "markdown",
   "metadata": {},
   "source": [
    "### LangSmith の Prompts\n"
   ]
  },
  {
   "cell_type": "code",
   "execution_count": 10,
   "metadata": {
    "execution": {
     "iopub.execute_input": "2024-06-28T02:32:40.215357Z",
     "iopub.status.busy": "2024-06-28T02:32:40.215034Z",
     "iopub.status.idle": "2024-06-28T02:32:40.850572Z",
     "shell.execute_reply": "2024-06-28T02:32:40.850086Z"
    }
   },
   "outputs": [
    {
     "name": "stderr",
     "output_type": "stream",
     "text": [
      "/workspace/.venv/lib/python3.12/site-packages/langsmith/client.py:241: LangSmithMissingAPIKeyWarning: API key must be provided when using hosted LangSmith API\n",
      "  warnings.warn(\n"
     ]
    },
    {
     "name": "stdout",
     "output_type": "stream",
     "text": [
      "messages=[SystemMessage(content='ユーザーが入力した料理のレシピを考えてください。', additional_kwargs={}, response_metadata={}), HumanMessage(content='カレー', additional_kwargs={}, response_metadata={})]\n"
     ]
    }
   ],
   "source": [
    "from langsmith import Client\n",
    "\n",
    "client = Client()\n",
    "prompt = client.pull_prompt(\"oshima/recipe\")\n",
    "\n",
    "prompt_value = prompt.invoke({\"dish\": \"カレー\"})\n",
    "print(prompt_value)\n"
   ]
  },
  {
   "cell_type": "markdown",
   "metadata": {},
   "source": [
    "### （コラム）マルチモーダルモデルの入力の扱い\n"
   ]
  },
  {
   "cell_type": "code",
   "execution_count": 12,
   "metadata": {
    "execution": {
     "iopub.execute_input": "2024-06-28T02:32:40.852551Z",
     "iopub.status.busy": "2024-06-28T02:32:40.852328Z",
     "iopub.status.idle": "2024-06-28T02:32:40.984619Z",
     "shell.execute_reply": "2024-06-28T02:32:40.984231Z"
    }
   },
   "outputs": [],
   "source": [
    "from langchain_core.prompts import ChatPromptTemplate\n",
    "from langchain_openai import ChatOpenAI\n",
    "\n",
    "prompt = ChatPromptTemplate.from_messages(\n",
    "    [\n",
    "        (\n",
    "            \"user\",\n",
    "            [\n",
    "                {\"type\": \"text\", \"text\": \"画像を説明してください。\"},\n",
    "                {\"type\": \"image_url\", \"image_url\": {\"url\": \"{image_url}\"}},\n",
    "            ],\n",
    "        ),\n",
    "    ]\n",
    ")\n",
    "image_url = \"https://raw.githubusercontent.com/yoshidashingo/langchain-book/main/assets/cover.jpg\"\n",
    "\n",
    "prompt_value = prompt.invoke({\"image_url\": image_url})\n"
   ]
  },
  {
   "cell_type": "code",
   "execution_count": 13,
   "metadata": {
    "execution": {
     "iopub.execute_input": "2024-06-28T02:32:40.986542Z",
     "iopub.status.busy": "2024-06-28T02:32:40.986385Z",
     "iopub.status.idle": "2024-06-28T02:32:49.421870Z",
     "shell.execute_reply": "2024-06-28T02:32:49.421368Z"
    }
   },
   "outputs": [
    {
     "name": "stdout",
     "output_type": "stream",
     "text": [
      "この画像は本の表紙です。タイトルは「ChatGPT/ LangChainによるチャットシステム構築【実践】入門」で、著者は吉田真吾と大嶋勇樹です。表紙にはカラフルな鳥のイラストが描かれています。内容としては、大規模言語モデルを本番システムで活用するための基礎知識と実践的なハンズオンについて書かれているようです。OpenAI APIやLangChainの活用方法などが含まれています。\n"
     ]
    }
   ],
   "source": [
    "model = ChatOpenAI(model=\"gpt-4o\", temperature=0)\n",
    "ai_message = model.invoke(prompt_value)\n",
    "print(ai_message.content)\n"
   ]
  },
  {
   "cell_type": "markdown",
   "metadata": {},
   "source": [
    "## 4.4. Output parser\n"
   ]
  },
  {
   "cell_type": "markdown",
   "metadata": {},
   "source": [
    "### PydanticOutputParser を使った Python オブジェクトへの変換\n"
   ]
  },
  {
   "cell_type": "code",
   "execution_count": 14,
   "metadata": {
    "execution": {
     "iopub.execute_input": "2024-06-28T02:32:49.423970Z",
     "iopub.status.busy": "2024-06-28T02:32:49.423805Z",
     "iopub.status.idle": "2024-06-28T02:32:49.427124Z",
     "shell.execute_reply": "2024-06-28T02:32:49.426747Z"
    }
   },
   "outputs": [],
   "source": [
    "from pydantic import BaseModel, Field\n",
    "\n",
    "\n",
    "class Recipe(BaseModel):\n",
    "    ingredients: list[str] = Field(description=\"ingredients of the dish\")\n",
    "    steps: list[str] = Field(description=\"steps to make the dish\")\n"
   ]
  },
  {
   "cell_type": "code",
   "execution_count": 15,
   "metadata": {
    "execution": {
     "iopub.execute_input": "2024-06-28T02:32:49.428896Z",
     "iopub.status.busy": "2024-06-28T02:32:49.428630Z",
     "iopub.status.idle": "2024-06-28T02:32:49.430921Z",
     "shell.execute_reply": "2024-06-28T02:32:49.430585Z"
    }
   },
   "outputs": [],
   "source": [
    "from langchain_core.output_parsers import PydanticOutputParser\n",
    "\n",
    "output_parser = PydanticOutputParser(pydantic_object=Recipe)\n"
   ]
  },
  {
   "cell_type": "code",
   "execution_count": 16,
   "metadata": {
    "execution": {
     "iopub.execute_input": "2024-06-28T02:32:49.432752Z",
     "iopub.status.busy": "2024-06-28T02:32:49.432482Z",
     "iopub.status.idle": "2024-06-28T02:32:49.435573Z",
     "shell.execute_reply": "2024-06-28T02:32:49.435232Z"
    }
   },
   "outputs": [
    {
     "name": "stdout",
     "output_type": "stream",
     "text": [
      "The output should be formatted as a JSON instance that conforms to the JSON schema below.\n",
      "\n",
      "As an example, for the schema {\"properties\": {\"foo\": {\"title\": \"Foo\", \"description\": \"a list of strings\", \"type\": \"array\", \"items\": {\"type\": \"string\"}}}, \"required\": [\"foo\"]}\n",
      "the object {\"foo\": [\"bar\", \"baz\"]} is a well-formatted instance of the schema. The object {\"properties\": {\"foo\": [\"bar\", \"baz\"]}} is not well-formatted.\n",
      "\n",
      "Here is the output schema:\n",
      "```\n",
      "{\"properties\": {\"ingredients\": {\"description\": \"ingredients of the dish\", \"items\": {\"type\": \"string\"}, \"title\": \"Ingredients\", \"type\": \"array\"}, \"steps\": {\"description\": \"steps to make the dish\", \"items\": {\"type\": \"string\"}, \"title\": \"Steps\", \"type\": \"array\"}}, \"required\": [\"ingredients\", \"steps\"]}\n",
      "```\n"
     ]
    }
   ],
   "source": [
    "format_instructions = output_parser.get_format_instructions()\n",
    "print(format_instructions)\n"
   ]
  },
  {
   "cell_type": "code",
   "execution_count": 17,
   "metadata": {
    "execution": {
     "iopub.execute_input": "2024-06-28T02:32:49.437304Z",
     "iopub.status.busy": "2024-06-28T02:32:49.437089Z",
     "iopub.status.idle": "2024-06-28T02:32:49.440212Z",
     "shell.execute_reply": "2024-06-28T02:32:49.439868Z"
    }
   },
   "outputs": [],
   "source": [
    "from langchain_core.prompts import ChatPromptTemplate\n",
    "\n",
    "prompt = ChatPromptTemplate.from_messages(\n",
    "    [\n",
    "        (\n",
    "            \"system\",\n",
    "            \"ユーザーが入力した料理のレシピを考えてください。\\n\\n\"\n",
    "            \"{format_instructions}\",\n",
    "        ),\n",
    "        (\"human\", \"{dish}\"),\n",
    "    ]\n",
    ")\n",
    "\n",
    "prompt_with_format_instructions = prompt.partial(\n",
    "    format_instructions=format_instructions\n",
    ")\n"
   ]
  },
  {
   "cell_type": "code",
   "execution_count": 18,
   "metadata": {
    "execution": {
     "iopub.execute_input": "2024-06-28T02:32:49.441965Z",
     "iopub.status.busy": "2024-06-28T02:32:49.441750Z",
     "iopub.status.idle": "2024-06-28T02:32:49.446830Z",
     "shell.execute_reply": "2024-06-28T02:32:49.446490Z"
    }
   },
   "outputs": [
    {
     "name": "stdout",
     "output_type": "stream",
     "text": [
      "=== role: system ===\n",
      "ユーザーが入力した料理のレシピを考えてください。\n",
      "\n",
      "The output should be formatted as a JSON instance that conforms to the JSON schema below.\n",
      "\n",
      "As an example, for the schema {\"properties\": {\"foo\": {\"title\": \"Foo\", \"description\": \"a list of strings\", \"type\": \"array\", \"items\": {\"type\": \"string\"}}}, \"required\": [\"foo\"]}\n",
      "the object {\"foo\": [\"bar\", \"baz\"]} is a well-formatted instance of the schema. The object {\"properties\": {\"foo\": [\"bar\", \"baz\"]}} is not well-formatted.\n",
      "\n",
      "Here is the output schema:\n",
      "```\n",
      "{\"properties\": {\"ingredients\": {\"description\": \"ingredients of the dish\", \"items\": {\"type\": \"string\"}, \"title\": \"Ingredients\", \"type\": \"array\"}, \"steps\": {\"description\": \"steps to make the dish\", \"items\": {\"type\": \"string\"}, \"title\": \"Steps\", \"type\": \"array\"}}, \"required\": [\"ingredients\", \"steps\"]}\n",
      "```\n",
      "=== role: user ===\n",
      "カレー\n"
     ]
    }
   ],
   "source": [
    "prompt_value = prompt_with_format_instructions.invoke({\"dish\": \"カレー\"})\n",
    "print(\"=== role: system ===\")\n",
    "print(prompt_value.messages[0].content)\n",
    "print(\"=== role: user ===\")\n",
    "print(prompt_value.messages[1].content)\n"
   ]
  },
  {
   "cell_type": "code",
   "execution_count": 19,
   "metadata": {
    "execution": {
     "iopub.execute_input": "2024-06-28T02:32:49.448688Z",
     "iopub.status.busy": "2024-06-28T02:32:49.448466Z",
     "iopub.status.idle": "2024-06-28T02:32:53.559871Z",
     "shell.execute_reply": "2024-06-28T02:32:53.559376Z"
    }
   },
   "outputs": [
    {
     "name": "stdout",
     "output_type": "stream",
     "text": [
      "{\n",
      "  \"ingredients\": [\n",
      "    \"鶏肉 500g\",\n",
      "    \"玉ねぎ 2個\",\n",
      "    \"にんじん 1本\",\n",
      "    \"じゃがいも 2個\",\n",
      "    \"カレールー 1箱\",\n",
      "    \"水 800ml\",\n",
      "    \"サラダ油 大さじ2\",\n",
      "    \"塩 適量\",\n",
      "    \"こしょう 適量\"\n",
      "  ],\n",
      "  \"steps\": [\n",
      "    \"鶏肉は一口大に切り、塩とこしょうをふる。\",\n",
      "    \"玉ねぎは薄切り、にんじんとじゃがいもは一口大に切る。\",\n",
      "    \"鍋にサラダ油を熱し、玉ねぎを炒めて透明になるまで炒める。\",\n",
      "    \"鶏肉を加え、表面が白くなるまで炒める。\",\n",
      "    \"にんじんとじゃがいもを加え、全体をよく混ぜる。\",\n",
      "    \"水を加え、沸騰したらアクを取り、弱火で20分煮る。\",\n",
      "    \"カレールーを加え、よく溶かしてさらに10分煮込む。\",\n",
      "    \"味を見て、必要に応じて塩で調整する。\",\n",
      "    \"ご飯と一緒に盛り付けて完成。\"\n",
      "  ]\n",
      "}\n"
     ]
    }
   ],
   "source": [
    "from langchain_openai import ChatOpenAI\n",
    "\n",
    "model = ChatOpenAI(model=\"gpt-4o-mini\", temperature=0)\n",
    "\n",
    "ai_message = model.invoke(prompt_value)\n",
    "print(ai_message.content)\n"
   ]
  },
  {
   "cell_type": "code",
   "execution_count": 20,
   "metadata": {
    "execution": {
     "iopub.execute_input": "2024-06-28T02:32:53.561786Z",
     "iopub.status.busy": "2024-06-28T02:32:53.561632Z",
     "iopub.status.idle": "2024-06-28T02:32:53.572140Z",
     "shell.execute_reply": "2024-06-28T02:32:53.571665Z"
    }
   },
   "outputs": [
    {
     "name": "stdout",
     "output_type": "stream",
     "text": [
      "<class '__main__.Recipe'>\n",
      "ingredients=['鶏肉 500g', '玉ねぎ 2個', 'にんじん 1本', 'じゃがいも 2個', 'カレールー 1箱', '水 800ml', 'サラダ油 大さじ2', '塩 適量', 'こしょう 適量'] steps=['鶏肉は一口大に切り、塩とこしょうをふる。', '玉ねぎは薄切り、にんじんとじゃがいもは一口大に切る。', '鍋にサラダ油を熱し、玉ねぎを炒めて透明になるまで炒める。', '鶏肉を加え、表面が白くなるまで炒める。', 'にんじんとじゃがいもを加え、全体をよく混ぜる。', '水を加え、沸騰したらアクを取り、弱火で20分煮る。', 'カレールーを加え、よく溶かしてさらに10分煮込む。', '味を見て、必要に応じて塩で調整する。', 'ご飯と一緒に盛り付けて完成。']\n"
     ]
    }
   ],
   "source": [
    "recipe = output_parser.invoke(ai_message)\n",
    "print(type(recipe))\n",
    "print(recipe)\n"
   ]
  },
  {
   "cell_type": "markdown",
   "metadata": {},
   "source": [
    "### StrOutputParser\n"
   ]
  },
  {
   "cell_type": "code",
   "execution_count": 25,
   "metadata": {
    "execution": {
     "iopub.execute_input": "2024-06-28T02:32:53.614251Z",
     "iopub.status.busy": "2024-06-28T02:32:53.614030Z",
     "iopub.status.idle": "2024-06-28T02:32:53.619857Z",
     "shell.execute_reply": "2024-06-28T02:32:53.619506Z"
    }
   },
   "outputs": [
    {
     "name": "stdout",
     "output_type": "stream",
     "text": [
      "<class 'str'>\n",
      "こんにちは。私はAIアシスタントです。\n"
     ]
    }
   ],
   "source": [
    "from langchain_core.messages import AIMessage\n",
    "from langchain_core.output_parsers import StrOutputParser\n",
    "\n",
    "output_parser = StrOutputParser()\n",
    "\n",
    "ai_message = AIMessage(content=\"こんにちは。私はAIアシスタントです。\")\n",
    "ai_message = output_parser.invoke(ai_message)\n",
    "print(type(ai_message))\n",
    "print(ai_message)\n"
   ]
  },
  {
   "cell_type": "markdown",
   "metadata": {},
   "source": [
    "## 4.5.Chain―LangChain Expression Language（LCEL）の概要\n"
   ]
  },
  {
   "cell_type": "markdown",
   "metadata": {},
   "source": [
    "### prompt と model の連鎖\n"
   ]
  },
  {
   "cell_type": "code",
   "execution_count": 26,
   "metadata": {
    "execution": {
     "iopub.execute_input": "2024-06-28T02:32:53.621888Z",
     "iopub.status.busy": "2024-06-28T02:32:53.621584Z",
     "iopub.status.idle": "2024-06-28T02:32:53.674625Z",
     "shell.execute_reply": "2024-06-28T02:32:53.674143Z"
    }
   },
   "outputs": [],
   "source": [
    "from langchain_core.prompts import ChatPromptTemplate\n",
    "from langchain_openai import ChatOpenAI\n",
    "\n",
    "prompt = ChatPromptTemplate.from_messages(\n",
    "    [\n",
    "        (\"system\", \"ユーザーが入力した料理のレシピを考えてください。\"),\n",
    "        (\"human\", \"{dish}\"),\n",
    "    ]\n",
    ")\n",
    "\n",
    "model = ChatOpenAI(model_name=\"gpt-4o-mini\", temperature=0)\n"
   ]
  },
  {
   "cell_type": "code",
   "execution_count": 27,
   "metadata": {
    "execution": {
     "iopub.execute_input": "2024-06-28T02:32:53.676366Z",
     "iopub.status.busy": "2024-06-28T02:32:53.676220Z",
     "iopub.status.idle": "2024-06-28T02:32:53.678436Z",
     "shell.execute_reply": "2024-06-28T02:32:53.678095Z"
    }
   },
   "outputs": [],
   "source": [
    "chain = prompt | model\n"
   ]
  },
  {
   "cell_type": "code",
   "execution_count": 28,
   "metadata": {
    "execution": {
     "iopub.execute_input": "2024-06-28T02:32:53.680152Z",
     "iopub.status.busy": "2024-06-28T02:32:53.679899Z",
     "iopub.status.idle": "2024-06-28T02:32:59.546328Z",
     "shell.execute_reply": "2024-06-28T02:32:59.544073Z"
    }
   },
   "outputs": [
    {
     "name": "stdout",
     "output_type": "stream",
     "text": [
      "カレーのレシピをご紹介します。シンプルで美味しい基本のカレーを作りましょう。\n",
      "\n",
      "### 材料（4人分）\n",
      "- 鶏肉（もも肉または胸肉）: 400g\n",
      "- 玉ねぎ: 2個\n",
      "- にんじん: 1本\n",
      "- じゃがいも: 2個\n",
      "- カレールー: 1箱（約200g）\n",
      "- サラダ油: 大さじ2\n",
      "- 水: 800ml\n",
      "- 塩: 適量\n",
      "- 胡椒: 適量\n",
      "- お好みでガーリックパウダーや生姜: 適量\n",
      "\n",
      "### 作り方\n",
      "1. **材料の下ごしらえ**:\n",
      "   - 鶏肉は一口大に切り、塩と胡椒をふっておきます。\n",
      "   - 玉ねぎは薄切り、にんじんは輪切り、じゃがいもは一口大に切ります。\n",
      "\n",
      "2. **炒める**:\n",
      "   - 大きめの鍋にサラダ油を熱し、玉ねぎを中火で炒めます。玉ねぎが透明になるまで炒めます。\n",
      "   - 鶏肉を加え、表面が白くなるまで炒めます。\n",
      "\n",
      "3. **野菜を加える**:\n",
      "   - にんじんとじゃがいもを鍋に加え、全体をよく混ぜます。\n",
      "\n",
      "4. **煮る**:\n",
      "   - 水を加え、強火で煮立たせます。煮立ったら、アクを取り除き、蓋をして中火にし、約15分煮ます。\n",
      "\n",
      "5. **カレールーを加える**:\n",
      "   - 火を止めてカレールーを加え、よく溶かします。再び弱火にし、10分ほど煮込みます。お好みでガーリックパウダーや生姜を加えて風味を調整します。\n",
      "\n",
      "6. **味を調える**:\n",
      "   - 最後に塩で味を調整し、全体をよく混ぜます。\n",
      "\n",
      "7. **盛り付け**:\n",
      "   - ご飯と一緒に盛り付けて、お好みで福神漬けやらっきょうを添えて完成です。\n",
      "\n",
      "### おすすめのトッピング\n",
      "- 煮卵\n",
      "- チーズ\n",
      "- 目玉焼き\n",
      "- パクチー\n",
      "\n",
      "この基本のカレーはアレンジがしやすいので、野菜や肉を変えて自分好みのカレーを楽しんでください！\n"
     ]
    }
   ],
   "source": [
    "ai_message = chain.invoke({\"dish\": \"カレー\"})\n",
    "print(ai_message.content)\n"
   ]
  },
  {
   "cell_type": "markdown",
   "metadata": {},
   "source": [
    "### StrOutputParser を連鎖に追加\n"
   ]
  },
  {
   "cell_type": "code",
   "execution_count": 29,
   "metadata": {
    "execution": {
     "iopub.execute_input": "2024-06-28T02:32:59.555286Z",
     "iopub.status.busy": "2024-06-28T02:32:59.554550Z",
     "iopub.status.idle": "2024-06-28T02:33:05.105219Z",
     "shell.execute_reply": "2024-06-28T02:33:05.104783Z"
    }
   },
   "outputs": [
    {
     "name": "stdout",
     "output_type": "stream",
     "text": [
      "カレーのレシピをご紹介します！以下は基本的なチキンカレーのレシピです。\n",
      "\n",
      "### 材料（4人分）\n",
      "- 鶏もも肉：400g（食べやすい大きさにカット）\n",
      "- 玉ねぎ：2個（みじん切り）\n",
      "- にんにく：2片（みじん切り）\n",
      "- 生姜：1片（みじん切り）\n",
      "- トマト：1個（ざく切り）\n",
      "- カレーパウダー：大さじ2\n",
      "- クミンシード：小さじ1\n",
      "- ココナッツミルク：200ml（お好みで）\n",
      "- サラダ油：大さじ2\n",
      "- 塩：適量\n",
      "- 黒胡椒：適量\n",
      "- 水：400ml\n",
      "- パクチー（飾り用）：適量（お好みで）\n",
      "\n",
      "### 作り方\n",
      "1. **下準備**: 鶏肉に塩と黒胡椒をふり、下味をつけておきます。\n",
      "2. **炒める**: 大きめの鍋にサラダ油を熱し、クミンシードを加えて香りが立つまで炒めます。\n",
      "3. **玉ねぎを加える**: みじん切りにした玉ねぎを加え、透明になるまで中火で炒めます。\n",
      "4. **にんにくと生姜を加える**: にんにくと生姜を加え、香りが立つまでさらに炒めます。\n",
      "5. **鶏肉を加える**: 鶏肉を鍋に加え、表面が白くなるまで炒めます。\n",
      "6. **トマトとカレーパウダーを加える**: ざく切りにしたトマトとカレーパウダーを加え、全体をよく混ぜます。\n",
      "7. **水を加える**: 水を加え、沸騰したら弱火にして蓋をし、約20分煮込みます。\n",
      "8. **ココナッツミルクを加える**: ココナッツミルクを加え、さらに5分煮込みます。味を見て、必要に応じて塩で調整します。\n",
      "9. **盛り付け**: お皿に盛り付け、パクチーを散らして完成です。\n",
      "\n",
      "### 提供方法\n",
      "ご飯やナンと一緒にお楽しみください。お好みでヨーグルトやサラダを添えると、より美味しくいただけます。\n",
      "\n",
      "ぜひお試しください！\n"
     ]
    }
   ],
   "source": [
    "from langchain_core.output_parsers import StrOutputParser\n",
    "\n",
    "chain = prompt | model | StrOutputParser()\n",
    "output = chain.invoke({\"dish\": \"カレー\"})\n",
    "print(output)\n"
   ]
  },
  {
   "cell_type": "markdown",
   "metadata": {},
   "source": [
    "### PydanticOutputParser を使う連鎖\n"
   ]
  },
  {
   "cell_type": "code",
   "execution_count": 33,
   "metadata": {
    "execution": {
     "iopub.execute_input": "2024-06-28T02:33:05.107198Z",
     "iopub.status.busy": "2024-06-28T02:33:05.107009Z",
     "iopub.status.idle": "2024-06-28T02:33:05.110329Z",
     "shell.execute_reply": "2024-06-28T02:33:05.109967Z"
    }
   },
   "outputs": [],
   "source": [
    "from langchain_core.output_parsers import PydanticOutputParser\n",
    "from pydantic import BaseModel, Field\n",
    "\n",
    "\n",
    "class Recipe(BaseModel):\n",
    "    ingredients: list[str] = Field(description=\"ingredients of the dish\")\n",
    "    steps: list[str] = Field(description=\"steps to make the dish\")\n",
    "\n",
    "\n",
    "output_parser = PydanticOutputParser(pydantic_object=Recipe)\n"
   ]
  },
  {
   "cell_type": "code",
   "execution_count": 34,
   "metadata": {
    "execution": {
     "iopub.execute_input": "2024-06-28T02:33:05.112162Z",
     "iopub.status.busy": "2024-06-28T02:33:05.111890Z",
     "iopub.status.idle": "2024-06-28T02:33:05.167716Z",
     "shell.execute_reply": "2024-06-28T02:33:05.167216Z"
    }
   },
   "outputs": [],
   "source": [
    "from langchain_core.prompts import ChatPromptTemplate\n",
    "from langchain_openai import ChatOpenAI\n",
    "\n",
    "prompt = ChatPromptTemplate.from_messages(\n",
    "    [\n",
    "        (\"system\", \"ユーザーが入力した料理のレシピを考えてください。\\n\\n{format_instructions}\"),\n",
    "        (\"human\", \"{dish}\"),\n",
    "    ]\n",
    ")\n",
    "\n",
    "prompt_with_format_instructions = prompt.partial(\n",
    "    format_instructions=output_parser.get_format_instructions()\n",
    ")\n",
    "\n",
    "model = ChatOpenAI(model=\"gpt-4o-mini\", temperature=0).bind(\n",
    "    response_format={\"type\": \"json_object\"}\n",
    ")\n"
   ]
  },
  {
   "cell_type": "code",
   "execution_count": 35,
   "metadata": {
    "execution": {
     "iopub.execute_input": "2024-06-28T02:33:05.169740Z",
     "iopub.status.busy": "2024-06-28T02:33:05.169590Z",
     "iopub.status.idle": "2024-06-28T02:33:05.172044Z",
     "shell.execute_reply": "2024-06-28T02:33:05.171669Z"
    }
   },
   "outputs": [],
   "source": [
    "chain = prompt_with_format_instructions | model | output_parser\n"
   ]
  },
  {
   "cell_type": "code",
   "execution_count": 36,
   "metadata": {
    "execution": {
     "iopub.execute_input": "2024-06-28T02:33:05.173987Z",
     "iopub.status.busy": "2024-06-28T02:33:05.173667Z",
     "iopub.status.idle": "2024-06-28T02:33:10.259404Z",
     "shell.execute_reply": "2024-06-28T02:33:10.258892Z"
    }
   },
   "outputs": [
    {
     "name": "stdout",
     "output_type": "stream",
     "text": [
      "<class '__main__.Recipe'>\n",
      "ingredients=['鶏肉 500g', '玉ねぎ 2個', 'にんじん 1本', 'じゃがいも 2個', 'カレールー 1箱', '水 800ml', 'サラダ油 大さじ2', '塩 適量', 'こしょう 適量'] steps=['鶏肉は一口大に切り、塩とこしょうをふる。', '玉ねぎは薄切り、にんじんとじゃがいもは一口大に切る。', '鍋にサラダ油を熱し、玉ねぎを炒めて透明になるまで炒める。', '鶏肉を加え、表面が白くなるまで炒める。', 'にんじんとじゃがいもを加え、全体をよく混ぜる。', '水を加え、沸騰したらアクを取り、弱火で20分煮る。', 'カレールーを加え、よく溶かしてさらに10分煮込む。', '味を見て、必要に応じて塩で調整する。', 'ご飯と一緒に盛り付けて完成。']\n"
     ]
    }
   ],
   "source": [
    "recipe = chain.invoke({\"dish\": \"カレー\"})\n",
    "print(type(recipe))\n",
    "print(recipe)\n"
   ]
  },
  {
   "cell_type": "markdown",
   "metadata": {},
   "source": [
    "### （コラム）with_structured_output\n"
   ]
  },
  {
   "cell_type": "code",
   "execution_count": 37,
   "metadata": {
    "execution": {
     "iopub.execute_input": "2024-06-28T02:33:10.261391Z",
     "iopub.status.busy": "2024-06-28T02:33:10.261230Z",
     "iopub.status.idle": "2024-06-28T02:33:12.288341Z",
     "shell.execute_reply": "2024-06-28T02:33:12.287844Z"
    }
   },
   "outputs": [
    {
     "name": "stdout",
     "output_type": "stream",
     "text": [
      "<class '__main__.Recipe'>\n",
      "ingredients=['鶏肉', '玉ねぎ', 'にんじん', 'じゃがいも', 'カレールー', '水', 'サラダ油', '塩', 'こしょう', 'ガーリックパウダー（オプション）'] steps=['鶏肉を一口大に切り、塩、こしょうで下味をつける。', '玉ねぎを薄切りにし、にんじんとじゃがいもを一口大に切る。', '鍋にサラダ油を熱し、玉ねぎを透明になるまで炒める。', '鶏肉を加え、表面が白くなるまで炒める。', 'にんじんとじゃがいもを加え、さらに炒める。', '水を加え、沸騰させる。アクを取り、弱火で20分煮る。', 'カレールーを加え、完全に溶けるまで煮る。', '必要に応じてガーリックパウダーを加え、味を調整する。', '数分煮込み、全体がなじんだら完成。']\n"
     ]
    }
   ],
   "source": [
    "from langchain_core.prompts import ChatPromptTemplate\n",
    "from langchain_openai import ChatOpenAI\n",
    "from pydantic import BaseModel, Field\n",
    "\n",
    "\n",
    "class Recipe(BaseModel):\n",
    "    ingredients: list[str] = Field(description=\"ingredients of the dish\")\n",
    "    steps: list[str] = Field(description=\"steps to make the dish\")\n",
    "\n",
    "\n",
    "prompt = ChatPromptTemplate.from_messages(\n",
    "    [\n",
    "        (\"system\", \"ユーザーが入力した料理のレシピを考えてください。\"),\n",
    "        (\"human\", \"{dish}\"),\n",
    "    ]\n",
    ")\n",
    "\n",
    "model = ChatOpenAI(model=\"gpt-4o-mini\")\n",
    "\n",
    "chain = prompt | model.with_structured_output(Recipe)\n",
    "\n",
    "recipe = chain.invoke({\"dish\": \"カレー\"})\n",
    "print(type(recipe))\n",
    "print(recipe)\n"
   ]
  },
  {
   "cell_type": "markdown",
   "metadata": {},
   "source": [
    "## 4.6.LangChain の RAG に関するコンポーネント\n"
   ]
  },
  {
   "cell_type": "markdown",
   "metadata": {},
   "source": [
    "### Document loader\n"
   ]
  },
  {
   "cell_type": "code",
   "execution_count": 38,
   "metadata": {},
   "outputs": [
    {
     "name": "stdout",
     "output_type": "stream",
     "text": [
      "385\n"
     ]
    }
   ],
   "source": [
    "from langchain_community.document_loaders import GitLoader\n",
    "\n",
    "\n",
    "def file_filter(file_path: str) -> bool:\n",
    "    return file_path.endswith(\".mdx\")\n",
    "\n",
    "\n",
    "loader = GitLoader(\n",
    "    clone_url=\"https://github.com/langchain-ai/langchain\",\n",
    "    repo_path=\"./langchain\",\n",
    "    branch=\"master\",\n",
    "    file_filter=file_filter,\n",
    ")\n",
    "\n",
    "raw_docs = loader.load()\n",
    "print(len(raw_docs))\n"
   ]
  },
  {
   "cell_type": "markdown",
   "metadata": {},
   "source": [
    "### Document transformer\n"
   ]
  },
  {
   "cell_type": "code",
   "execution_count": 39,
   "metadata": {},
   "outputs": [
    {
     "name": "stderr",
     "output_type": "stream",
     "text": [
      "Created a chunk of size 6803, which is longer than the specified 1000\n",
      "Created a chunk of size 3302, which is longer than the specified 1000\n",
      "Created a chunk of size 1851, which is longer than the specified 1000\n",
      "Created a chunk of size 1639, which is longer than the specified 1000\n",
      "Created a chunk of size 9269, which is longer than the specified 1000\n",
      "Created a chunk of size 2579, which is longer than the specified 1000\n",
      "Created a chunk of size 17814, which is longer than the specified 1000\n",
      "Created a chunk of size 1700, which is longer than the specified 1000\n",
      "Created a chunk of size 1135, which is longer than the specified 1000\n",
      "Created a chunk of size 1126, which is longer than the specified 1000\n",
      "Created a chunk of size 1098, which is longer than the specified 1000\n",
      "Created a chunk of size 1433, which is longer than the specified 1000\n",
      "Created a chunk of size 1300, which is longer than the specified 1000\n",
      "Created a chunk of size 1166, which is longer than the specified 1000\n",
      "Created a chunk of size 1351, which is longer than the specified 1000\n",
      "Created a chunk of size 1756, which is longer than the specified 1000\n",
      "Created a chunk of size 1643, which is longer than the specified 1000\n",
      "Created a chunk of size 1091, which is longer than the specified 1000\n",
      "Created a chunk of size 1313, which is longer than the specified 1000\n",
      "Created a chunk of size 1422, which is longer than the specified 1000\n",
      "Created a chunk of size 1662, which is longer than the specified 1000\n",
      "Created a chunk of size 1123, which is longer than the specified 1000\n",
      "Created a chunk of size 1174, which is longer than the specified 1000\n",
      "Created a chunk of size 1936, which is longer than the specified 1000\n",
      "Created a chunk of size 1441, which is longer than the specified 1000\n",
      "Created a chunk of size 1498, which is longer than the specified 1000\n",
      "Created a chunk of size 1046, which is longer than the specified 1000\n",
      "Created a chunk of size 1057, which is longer than the specified 1000\n",
      "Created a chunk of size 1363, which is longer than the specified 1000\n",
      "Created a chunk of size 1432, which is longer than the specified 1000\n",
      "Created a chunk of size 1662, which is longer than the specified 1000\n",
      "Created a chunk of size 1281, which is longer than the specified 1000\n",
      "Created a chunk of size 1752, which is longer than the specified 1000\n",
      "Created a chunk of size 1705, which is longer than the specified 1000\n",
      "Created a chunk of size 1266, which is longer than the specified 1000\n",
      "Created a chunk of size 1764, which is longer than the specified 1000\n",
      "Created a chunk of size 1378, which is longer than the specified 1000\n",
      "Created a chunk of size 1596, which is longer than the specified 1000\n",
      "Created a chunk of size 1063, which is longer than the specified 1000\n",
      "Created a chunk of size 1540, which is longer than the specified 1000\n",
      "Created a chunk of size 1888, which is longer than the specified 1000\n",
      "Created a chunk of size 1739, which is longer than the specified 1000\n",
      "Created a chunk of size 42090, which is longer than the specified 1000\n",
      "Created a chunk of size 1147, which is longer than the specified 1000\n",
      "Created a chunk of size 5835, which is longer than the specified 1000\n",
      "Created a chunk of size 1819, which is longer than the specified 1000\n",
      "Created a chunk of size 1182, which is longer than the specified 1000\n",
      "Created a chunk of size 3563, which is longer than the specified 1000\n",
      "Created a chunk of size 1053, which is longer than the specified 1000\n",
      "Created a chunk of size 1140, which is longer than the specified 1000\n",
      "Created a chunk of size 5053, which is longer than the specified 1000\n",
      "Created a chunk of size 1006, which is longer than the specified 1000\n",
      "Created a chunk of size 1651, which is longer than the specified 1000\n",
      "Created a chunk of size 2096, which is longer than the specified 1000\n",
      "Created a chunk of size 8258, which is longer than the specified 1000\n",
      "Created a chunk of size 2933, which is longer than the specified 1000\n",
      "Created a chunk of size 2134, which is longer than the specified 1000\n",
      "Created a chunk of size 1915, which is longer than the specified 1000\n",
      "Created a chunk of size 1129, which is longer than the specified 1000\n",
      "Created a chunk of size 1021, which is longer than the specified 1000\n",
      "Created a chunk of size 1393, which is longer than the specified 1000\n",
      "Created a chunk of size 2357, which is longer than the specified 1000\n",
      "Created a chunk of size 2373, which is longer than the specified 1000\n",
      "Created a chunk of size 2989, which is longer than the specified 1000\n",
      "Created a chunk of size 2736, which is longer than the specified 1000\n",
      "Created a chunk of size 1123, which is longer than the specified 1000\n",
      "Created a chunk of size 1048, which is longer than the specified 1000\n",
      "Created a chunk of size 1083, which is longer than the specified 1000\n",
      "Created a chunk of size 1014, which is longer than the specified 1000\n",
      "Created a chunk of size 1044, which is longer than the specified 1000\n",
      "Created a chunk of size 1012, which is longer than the specified 1000\n",
      "Created a chunk of size 1438, which is longer than the specified 1000\n",
      "Created a chunk of size 1141, which is longer than the specified 1000\n",
      "Created a chunk of size 1036, which is longer than the specified 1000\n",
      "Created a chunk of size 1113, which is longer than the specified 1000\n",
      "Created a chunk of size 1337, which is longer than the specified 1000\n",
      "Created a chunk of size 1162, which is longer than the specified 1000\n",
      "Created a chunk of size 1158, which is longer than the specified 1000\n",
      "Created a chunk of size 3603, which is longer than the specified 1000\n",
      "Created a chunk of size 1330, which is longer than the specified 1000\n",
      "Created a chunk of size 1188, which is longer than the specified 1000\n",
      "Created a chunk of size 1170, which is longer than the specified 1000\n",
      "Created a chunk of size 1443, which is longer than the specified 1000\n",
      "Created a chunk of size 3138, which is longer than the specified 1000\n",
      "Created a chunk of size 1121, which is longer than the specified 1000\n",
      "Created a chunk of size 1076, which is longer than the specified 1000\n",
      "Created a chunk of size 1487, which is longer than the specified 1000\n",
      "Created a chunk of size 1045, which is longer than the specified 1000\n"
     ]
    },
    {
     "name": "stdout",
     "output_type": "stream",
     "text": [
      "1351\n"
     ]
    }
   ],
   "source": [
    "from langchain_text_splitters import CharacterTextSplitter\n",
    "\n",
    "text_splitter = CharacterTextSplitter(chunk_size=1000, chunk_overlap=0)\n",
    "\n",
    "docs = text_splitter.split_documents(raw_docs)\n",
    "print(len(docs))\n"
   ]
  },
  {
   "cell_type": "markdown",
   "metadata": {},
   "source": [
    "### Embedding model\n"
   ]
  },
  {
   "cell_type": "code",
   "execution_count": 41,
   "metadata": {},
   "outputs": [],
   "source": [
    "from langchain_openai import OpenAIEmbeddings\n",
    "\n",
    "embeddings = OpenAIEmbeddings(model=\"text-embedding-3-small\")\n"
   ]
  },
  {
   "cell_type": "code",
   "execution_count": 42,
   "metadata": {},
   "outputs": [
    {
     "name": "stdout",
     "output_type": "stream",
     "text": [
      "1536\n",
      "[0.020090356469154358, -0.00804895255714655, 0.03322061151266098, -0.02779771015048027, 0.04632951691746712, 0.025342458859086037, -0.0165249053388834, 0.01858518086373806, 0.026751559227705002, -0.02177700772881508, 0.010167941451072693, -0.011208754032850266, -0.015521455556154251, -0.005105320364236832, -0.011838579550385475, 0.062427423894405365, 0.03586801141500473, -0.0003926399804186076, -0.04641491547226906, 0.025876209139823914, 0.030850760638713837, 0.034544311463832855, -0.039006464183330536, 0.021851733326911926, 0.017133381217718124, -0.018617207184433937, -0.02030385658144951, 0.030082160606980324, -0.008507978171110153, -0.1031632348895073, -0.008246440440416336, -0.05734612047672272, -0.0344802625477314, 0.04726891592144966, -0.022097257897257805, 0.035056713968515396, 0.02194780856370926, 0.011294154450297356, -0.007435140199959278, -0.03251606225967407, 0.0006555119762197137, -0.02131798304617405, 0.02085895836353302, 0.012457729317247868, 0.006922740023583174, 0.005404220893979073, 0.007008139975368977, -0.0026847633998841047, -0.04628681764006615, 0.008235765621066093, -0.03742656484246254, 0.033113863319158554, -0.002030919538810849, -0.02216130867600441, 0.0005574353854171932, 0.04906231909990311, -0.01887340657413006, 0.02532110922038555, 0.0016973256133496761, -0.01980213262140751, 0.017261480912566185, 0.0047877393662929535, -0.05055681988596916, 0.0645197257399559, -0.0007319049327634275, 0.0344802625477314, 0.0023912007454782724, -0.030893461778759956, -0.06605692207813263, 0.004128557629883289, -0.03902781382203102, 0.03932671248912811, 0.03221715986728668, -0.04129091650247574, -0.007872815243899822, -0.014112355187535286, -0.03349816054105759, 0.034800510853528976, -0.012799330055713654, 0.029612461104989052, -0.008246440440416336, 0.053802020847797394, -0.02497950941324234, -0.051154617220163345, 0.024125508964061737, 0.01736823096871376, 0.006463714875280857, 0.028032559901475906, -0.0015865724999457598, 0.009308603592216969, 0.040351513773202896, 0.01673840545117855, -0.02662345953285694, 0.02450980804860592, 0.013258354738354683, 0.03868621215224266, 0.02771230973303318, -0.04319106414914131, -0.003127776086330414, 0.027562860399484634, -0.020955031737685204, -0.030381061136722565, 0.03435216099023819, -0.037832215428352356, 0.06413542479276657, -0.06046322360634804, 0.04150441661477089, -0.0012930098455399275, 0.02875846065580845, 0.0031598012428730726, -0.056748319417238235, -0.00020482663239818066, -0.024360358715057373, -0.03512076288461685, 0.01385615486651659, -0.012980804778635502, 0.021125832572579384, 0.018948132172226906, -0.0032798948232084513, -0.002435235306620598, -0.033583562821149826, 0.03755466267466545, -0.01635410636663437, -0.03830191493034363, 0.006944090127944946, -0.03830191493034363, 0.00010574925545370206, -0.062213923782110214, -0.03764006495475769, -0.00025102938525378704, 0.059139519929885864, -0.017304182052612305, 0.08518653362989426, -0.06460512429475784, 0.053972817957401276, -0.015670904889702797, 0.00017913991177920252, -0.02792580984532833, 0.0004049829440191388, 0.012212204746901989, 0.01895880699157715, -0.02022913284599781, 0.028459560126066208, 0.028779810294508934, -0.04611601680517197, 0.018595857545733452, 0.017218781635165215, -0.018766656517982483, -0.0465003177523613, -0.03708496317267418, -0.05820012092590332, -0.020538708195090294, -0.03258011117577553, -0.04208086431026459, -0.061915021389722824, 0.003298576222732663, -0.0169519055634737, 0.025790808722376823, 0.035334262996912, 0.020090356469154358, -0.056321319192647934, -0.01833965629339218, 0.018435731530189514, 0.01887340657413006, 0.0028502261266112328, 0.01678110659122467, 0.02455250918865204, -0.01984483189880848, -0.01808345690369606, -0.06033512204885483, -0.005011914297938347, -0.011080654338002205, -0.016685031354427338, 0.0045662326738238335, 0.01469948049634695, -0.031064260751008987, -0.01812615618109703, -0.018104806542396545, -0.002959644887596369, -0.031000211834907532, -0.0074244653806090355, -0.046030618250370026, -0.025043558329343796, 0.04722621664404869, -0.04701271653175354, -0.021969158202409744, -0.02354905940592289, 0.05841362103819847, -0.04366076737642288, 0.007792752701789141, -0.03366896137595177, 0.07801292836666107, -0.008513315580785275, 0.015318630263209343, 0.02540650963783264, -0.007616615388542414, -0.003351951250806451, -0.00662383995950222, 0.012692579999566078, -0.004326045513153076, 0.03140586242079735, 0.0003999790642410517, 0.01749633066356182, 0.013631979934871197, -0.020154407247900963, 0.03010351024568081, -0.021627558395266533, 0.007883490063250065, -0.017464306205511093, -0.03802436217665672, 0.013066204264760017, 0.04726891592144966, -0.019118931144475937, 0.019247032701969147, -0.02502220869064331, -0.02867306023836136, 0.01832898147404194, 0.07058312743902206, -0.0003202501102350652, 0.017389580607414246, -0.00669856509193778, 0.03631636127829552, -0.011571704410016537, -0.000647505687084049, -0.020069006830453873, 0.035590462386608124, -0.021296633407473564, -0.05585161969065666, 0.007899503223598003, -0.027114510536193848, 0.05175241827964783, 0.0006635182071477175, -0.011155379004776478, 0.016460856422781944, -0.00853466521948576, 0.009821003302931786, -0.05640672147274017, 0.03687146306037903, -0.011123353615403175, -0.04150441661477089, -0.029868660494685173, -0.014902305789291859, -0.02649535983800888, 0.034245412796735764, -0.0364871621131897, -0.02892925962805748, -0.008241103030741215, -0.0191723071038723, 0.010669666342437267, 0.0506422184407711, 0.007248327601701021, -0.02199050784111023, 0.031598012894392014, -0.05209401994943619, -0.048293717205524445, -0.01728283055126667, -0.015286605805158615, 0.0017266818322241306, 0.0008226424688473344, -0.006255552172660828, 0.014133704826235771, 0.02376255765557289, 0.005620389711111784, 0.022801809012889862, -0.0008466612198390067, -0.029911361634731293, 0.03712766245007515, -0.004299357999116182, 0.00015161841292865574, 0.028182009235024452, 0.02035723254084587, -0.012842029333114624, 0.06434892117977142, -0.017934005707502365, -0.007771402597427368, 0.0301889106631279, 0.0020042320247739553, -0.05452791973948479, 0.03040241077542305, 0.03379706293344498, 0.00924989115446806, 0.0064743896946311, -0.025577308610081673, 0.03573991358280182, -0.006928077433258295, 0.00925522856414318, -0.03136316314339638, -0.009794316254556179, -0.06106102094054222, 0.006271564867347479, 0.005180045496672392, -0.02316475845873356, 0.016930555924773216, -0.015991155058145523, 0.010600279085338116, 0.0215314831584692, -0.013514555059373379, 0.007467165123671293, 0.01812615618109703, -0.0047370330430567265, 0.011198079213500023, 0.03926266357302666, 0.014123030006885529, 0.010018491186201572, -0.012116129510104656, -0.0038109763991087675, -0.054656021296978, -0.040180712938308716, 0.030295660719275475, -0.01934310607612133, -0.007296365220099688, 0.02758421003818512, 0.0038109763991087675, 0.014528680592775345, -0.002065613167360425, -0.05320421978831291, -0.016140606254339218, -0.0023658478166908026, 0.025918908417224884, -0.016033856198191643, 0.019951581954956055, 0.008929640986025333, -0.02056005783379078, -0.0099437665194273, -0.06097562238574028, 0.011998704634606838, -0.04225166514515877, -0.0195993073284626, -0.02871575951576233, -0.006314264610409737, 0.027093159034848213, 0.011827903799712658, 0.018521131947636604, -0.006810652557760477, 0.01626870594918728, -0.010819116607308388, -0.006260889582335949, 0.018830707296729088, -0.003530757501721382, -0.016834480687975883, -0.045774415135383606, 0.025726759806275368, -0.007419127505272627, -0.04453611746430397, 0.02174498327076435, 0.006869364995509386, -0.010082541033625603, 0.04133361577987671, 0.013386454433202744, -0.021648908033967018, 0.018691930919885635, 0.007365752477198839, 0.0016519568162038922, 0.010482854209840298, 0.016631655395030975, 0.00813435297459364, -0.028075261041522026, -0.06405002623796463, 0.014176405034959316, -0.05734612047672272, -0.02194780856370926, 0.01648220606148243, 0.015745630487799644, -0.0007619283860549331, 0.009223203174769878, 0.01706933043897152, 0.019033532589673996, 0.003407994983717799, 0.027029110118746758, -0.016514230519533157, 0.0344802625477314, 0.013301054947078228, 0.010424140840768814, -0.035334262996912, -0.00012985141074750572, 0.011550353839993477, -0.03522751107811928, 0.01947120763361454, -0.019994283095002174, 0.021883757784962654, -0.011838579550385475, 0.041781965643167496, 0.023869307711720467, 0.017773881554603577, 0.010584265924990177, 0.020997732877731323, -0.015318630263209343, 0.024403057992458344, 0.01851045712828636, -0.03179015964269638, -0.006250214762985706, -0.010376104153692722, -0.026559408754110336, 0.02519300952553749, -0.015339980833232403, -0.014859605580568314, 0.008155702613294125, -0.0009127128287218511, 0.004595589358359575, 0.008454603143036366, 0.0059353020042181015, 0.029377611353993416, 0.031149661168456078, 0.0062235272489488125, 0.022609658539295197, 0.019588632509112358, 0.024061458185315132, -0.005924627184867859, 0.009329953230917454, -0.059780020266771317, 0.019983606413006783, -0.007894164882600307, 0.02867306023836136, -0.03670066222548485, -0.007301702629774809, 0.021243257448077202, -0.04250786453485489, 0.01082979142665863, -0.022566957399249077, 0.03889971226453781, 0.009394003078341484, -0.01442193053662777, -0.02527840994298458, -0.03149126097559929, -0.03236661106348038, 0.024146858602762222, 0.07241922616958618, -0.03422406315803528, 0.020794907584786415, -0.010029166005551815, 0.02901466004550457, -0.035718563944101334, 0.04987361654639244, 0.019866181537508965, -0.036145564168691635, 0.0164501816034317, 0.0019642007537186146, -0.018948132172226906, 0.03691416233778, -0.018862731754779816, 0.008801540359854698, 0.007723365444689989, -0.04223031550645828, 0.03550506383180618, -0.07058312743902206, 0.014026954770088196, 0.021499456837773323, 0.05798662081360817, 0.000652176036965102, 0.0027301323134452105, 0.06264092028141022, -0.04752511531114578, -0.016044531017541885, -0.016204655170440674, -0.013301054947078228, -0.009885053150355816, -0.018350331112742424, -0.046073317527770996, 0.06469052284955978, -0.030252961441874504, 0.00496120797470212, 0.04487771540880203, -0.03435216099023819, 0.016535580158233643, -0.015831030905246735, -0.04667111858725548, 0.03909186273813248, 0.020634781569242477, 0.01993023231625557, 0.004907832946628332, 0.029420310631394386, 0.008988353423774242, -0.027263959869742393, 0.014592730440199375, -0.03655121475458145, -0.023570409044623375, -0.016887856647372246, -0.0324733629822731, -0.020325208082795143, -0.029655160382390022, 0.013471854850649834, 0.0164501816034317, -0.03501401096582413, -0.03027431108057499, 0.022823158651590347, 0.11008063703775406, -0.01643950678408146, 0.03268686309456825, 0.01068034116178751, 0.023271508514881134, -0.016460856422781944, 0.01842505671083927, 0.033284660428762436, -0.005721801891922951, -0.0020135724917054176, -0.016033856198191643, -0.04097066447138786, -0.03838731348514557, -0.026388609781861305, 0.00226977257989347, -0.0396256148815155, -0.06264092028141022, -0.04948931932449341, 0.01025867834687233, -0.02068815752863884, -0.08949923515319824, -0.06857622414827347, 0.007888827472925186, -0.01125145424157381, -0.054656021296978, 0.020463982596993446, 0.05320421978831291, -0.008604053407907486, 0.01879868097603321, -0.019236356019973755, -0.0019054881995543838, -0.0009247222333215177, 0.02871575951576233, 0.004245982971042395, 0.014987705275416374, -0.028609009459614754, -0.0026153759099543095, 0.03924131393432617, -0.04910501837730408, -0.009207190945744514, 0.0420595146715641, -0.04216626659035683, -0.04427991434931755, 0.02199050784111023, -0.003928401507437229, -0.002660744823515415, -0.05277721956372261, -0.011988028883934021, -0.024317659437656403, -0.007280352525413036, -0.059822723269462585, 0.01993023231625557, -0.014560705050826073, -0.019834157079458237, -0.013343755155801773, 0.01116605382412672, 0.01715473085641861, -0.02670885995030403, 0.03685011342167854, 0.028566310182213783, -0.02594025991857052, 0.0034453575499355793, -0.04233706369996071, -0.00106683315243572, 0.015841705724596977, -0.0077607277780771255, 0.0007359081064350903, 0.015916431322693825, 0.01715473085641861, 0.03817381337285042, 0.004638289101421833, 0.001134886289946735, 0.028182009235024452, -0.037277113646268845, 0.01042947918176651, -0.02519300952553749, -0.004520864225924015, -0.02057073265314102, 0.008379878476262093, -0.008000914938747883, -0.002746144775301218, -0.025769459083676338, -0.06622772663831711, -0.017592405900359154, 0.014571379870176315, 0.00592996459454298, 0.04453611746430397, 0.0068586901761591434, 0.06669742614030838, -0.0029756573494523764, 0.008668103255331516, 0.027434760704636574, -0.05226481705904007, -0.006394327152520418, -0.001920166308991611, 0.015542805194854736, -0.023655807599425316, -0.018574506044387817, 0.01816885732114315, -0.01246840413659811, 0.020634781569242477, 0.04632951691746712, -0.03407461196184158, -0.013290380127727985, -0.011262129060924053, 0.01440057996660471, -0.011176728643476963, 0.011432928964495659, -0.01055757887661457, 0.011550353839993477, -0.015339980833232403, 0.017688481137156487, 0.01091519184410572, -0.057132620364427567, 0.02233210764825344, 0.042529214173555374, -0.03751196339726448, 0.006026039831340313, 0.037447914481163025, -0.003781620180234313, 0.01635410636663437, 0.008758841082453728, -0.015660230070352554, 0.032025013118982315, 0.02258830890059471, 0.056321319192647934, -0.0031437885481864214, -0.03469376266002655, -0.03830191493034363, -0.0008066300069913268, 0.025385159999132156, -0.019225681200623512, 0.01064297929406166, -0.0026527384761720896, 0.010130578652024269, -0.01433653011918068, -0.0047957454808056355, 0.029676510021090508, 0.012724604457616806, -0.03469376266002655, -0.0036748701240867376, -0.034757811576128006, 0.013333079405128956, -0.059609223157167435, 0.04167521372437477, -0.07062582671642303, 0.05055681988596916, -0.004745039157569408, -0.008977678604424, 0.028950611129403114, 0.01322632934898138, 0.028480909764766693, -0.0062769022770226, -0.025000859051942825, 0.02611105889081955, -0.00758992787450552, -0.002959644887596369, 0.025128958746790886, -0.024040108546614647, 0.03755466267466545, -0.0034426888450980186, -0.016332756727933884, 0.035761263221502304, -0.0014357879990711808, -0.019492557272315025, -0.009388665668666363, -0.015446730889379978, 0.012265579774975777, 0.0007532549789175391, 0.018361005932092667, 0.0037469263188540936, -0.005091976840049028, -0.012863379903137684, 0.020613431930541992, 0.003197163576260209, -0.017474981024861336, -0.048208318650722504, -0.01845708116889, 0.02666615881025791, -0.01598048023879528, -0.005620389711111784, 0.005823214538395405, 0.031085610389709473, 0.009452715516090393, 0.01242570485919714, -0.0055990396067500114, 0.0067893024533987045, 0.02359175868332386, -0.018948132172226906, 0.016300730407238007, -0.018222231417894363, -0.004990564193576574, 0.002640729071572423, -0.0073123774491250515, 0.020175756886601448, -0.007296365220099688, 0.013503880240023136, -0.0016519568162038922, -0.05333231762051582, 0.01661030575633049, -0.012286929413676262, -0.0020055663771927357, 0.008091652765870094, 0.03166206181049347, -0.0014664786867797375, 0.022566957399249077, -0.010909853503108025, -0.009821003302931786, -0.041611164808273315, 7.176437793532386e-05, 0.031555309891700745, -0.012479079887270927, 0.01892678253352642, -0.023655807599425316, 0.013610630296170712, -0.002544654067605734, -0.03638041391968727, -0.010370765812695026, -0.02216130867600441, -0.027135860174894333, -0.02051735669374466, -0.008342515677213669, -0.0049131703563034534, 0.009340628050267696, -0.027007760480046272, -0.051325418055057526, 0.0021790352184325457, -0.03821651265025139, -0.012681904248893261, -0.029868660494685173, -0.030082160606980324, 0.007445815019309521, -0.008086315356194973, -0.030893461778759956, 0.007216302677989006, -0.0038323262706398964, 0.010098553262650967, -0.009879715740680695, -0.04705541580915451, 0.030210260301828384, 0.010797766037285328, 0.0033092512749135494, 0.0025966947432607412, 0.0034960638731718063, 0.028395509347319603, 0.03661526367068291, -0.024744659662246704, -0.02905736118555069, 0.008443928323686123, 0.003247869899496436, -0.011272803880274296, -0.011272803880274296, 0.03497131168842316, -0.037874914705753326, -0.016514230519533157, -0.03268686309456825, -0.0029169449117034674, 0.048678018152713776, 0.04474961757659912, -0.022801809012889862, -0.02371985837817192, -0.00011142035509692505, 0.06836272776126862, -0.005142683163285255, -0.016578281298279762, 0.016535580158233643, 0.003864351427182555, 0.008203740231692791, -0.029505711048841476, 0.016973255202174187, -0.00891896616667509, 0.006880039814859629, -0.007509865332394838, -0.0012196191819384694, -0.007958215661346912, 0.009788978844881058, 0.03712766245007515, 0.026751559227705002, 0.025641359388828278, -0.01656760647892952, 0.026303209364414215, -0.06703902781009674, 0.0014904973795637488, 0.026836959645152092, -0.013674680143594742, 0.0035360949113965034, 0.0036641950719058514, 0.05358852073550224, 0.002544654067605734, 0.006944090127944946, 0.010301378555595875, -0.005318820476531982, -0.017015956342220306, -0.009399340488016605, -0.024317659437656403, -0.014123030006885529, -0.002320478903129697, -0.005663089454174042, -0.029292210936546326, -0.024616558104753494, 0.026879658922553062, -0.04079986363649368, 0.03270821273326874, 0.00937799084931612, -0.02380525879561901, -0.023741208016872406, -0.015329305082559586, 0.015521455556154251, -0.006586477160453796, 0.005561676807701588, -0.008657428435981274, -0.016973255202174187, -0.016535580158233643, -0.03921996429562569, -0.0025713415816426277, -0.010264015756547451, -0.0044915080070495605, -0.00033776380587369204, 0.03396786376833916, 0.11213023960590363, -0.004542214330285788, -0.03409596160054207, 0.0024565851781517267, -0.04470691457390785, -0.03070131130516529, -0.029249509796500206, 0.01951390691101551, -0.003907051403075457, 0.01618330553174019, -0.02102975733578205, -0.002678091637790203, -0.007040164899080992, 0.00786214042454958, 0.008902953006327152, 0.04225166514515877, 0.02649535983800888, -0.027135860174894333, -0.012137479148805141, -0.014603405259549618, 0.037106312811374664, 0.004125888925045729, 0.035803962498903275, 0.00916982814669609, -0.020762883126735687, -0.0522221177816391, 0.014091004617512226, 0.04246516525745392, 0.019279057160019875, -0.009047065861523151, 0.05008711665868759, 0.017934005707502365, 0.0006001353613100946, -0.05341771990060806, -0.035718563944101334, -0.03127776086330414, -0.04427991434931755, -0.016343431547284126, 0.017432281747460365, -0.02884386107325554, -0.005273452028632164, -0.011134029366075993, -0.021552832797169685, 0.022929908707737923, -0.0051346770487725735, -0.0660996213555336, 0.014934330247342587, 0.005940639413893223, -0.03044511005282402, -0.015532130375504494, 0.021510133519768715, 0.062213923782110214, -0.012361654080450535, -0.04752511531114578, -0.02585485950112343, 0.01875598169863224, 0.01748565584421158, 0.017763206735253334, -0.038579463958740234, 0.0320463627576828, 0.013631979934871197, 0.014208430424332619, 0.012415029108524323, -2.4977840439532883e-05, 0.034715112298727036, 0.006239539943635464, 0.03236661106348038, 0.023783909156918526, -0.04114146530628204, 0.003939076326787472, -0.007419127505272627, -0.04028746485710144, -0.005476276855915785, 0.06093292310833931, -0.018606532365083694, 0.003466707421466708, -0.032153110951185226, -0.005121333058923483, -0.05217941850423813, 0.030466461554169655, -0.010621628724038601, -0.036273662000894547, 0.026089709252119064, -0.007403115276247263, 0.0354837141931057, 0.023314207792282104, -0.01804075576364994, 0.0234636589884758, -0.013215654529631138, -0.005268114618957043, 0.024915458634495735, 0.02177700772881508, -0.01158237922936678, 0.0082624526694417, 0.0019188319565728307, 0.023442309349775314, 0.00929259043186903, 0.011486303992569447, -0.0004590251774061471, 0.010749728418886662, 0.030509160831570625, -0.00986370351165533, 0.012874054722487926, 0.04718351736664772, -0.006356964819133282, -0.013589279726147652, 0.013450505211949348, 0.016055205836892128, 0.0009587488020770252, -0.02476600930094719, 0.028246060013771057, 0.0006171486456878483, -0.012286929413676262, 0.02371985837817192, 0.0022884539794176817, -0.007082865107804537, 0.028779810294508934, -0.016813131049275398, 0.01200937945395708, 0.01832898147404194, -0.0033546199556440115, -0.0061648148111999035, 0.0016706380993127823, -0.04075716435909271, -0.01728283055126667, -0.001993556972593069, 0.009762290865182877, -0.005201395601034164, -0.03742656484246254, 0.006565127521753311, 0.0066878898069262505, -0.05034331977367401, 0.03578261286020279, -0.012447054497897625, -0.0010241331765428185, 0.002445910358801484, -0.0035521076060831547, 0.0258975587785244, 0.014325855299830437, 0.0032558762468397617, 0.03772546350955963, -0.01971673220396042, 0.02060275711119175, -0.01862788200378418, 0.008726815693080425, -0.005059951916337013, -0.011379553936421871, -0.006880039814859629, 0.028630360960960388, -0.028459560126066208, -0.010562916286289692, -0.002991669811308384, 0.06434892117977142, -0.004638289101421833, 0.03127776086330414, 0.007130902726203203, 0.019951581954956055, -0.004384757950901985, -0.0051240017637610435, -0.014795555733144283, 0.02031453140079975, 0.000412655615946278, 0.00834785308688879, 0.024040108546614647, -0.016685031354427338, -0.011390228755772114, -0.007894164882600307, 0.038579463958740234, -0.016044531017541885, 0.02519300952553749, -0.027157209813594818, -0.0013263692380860448, 0.02128595858812332, -0.031982310116291046, 0.01110200397670269, 0.018574506044387817, 0.04803751781582832, 0.02250290848314762, 0.01635410636663437, -0.017304182052612305, 0.007349740248173475, 0.0011382222874090075, 0.013087554834783077, -0.019834157079458237, 0.03802436217665672, 0.005615051835775375, 0.02363445796072483, 0.0042806765995919704, -0.02805390954017639, -0.01061629131436348, 0.002682094695046544, -0.004969214089214802, 0.012393679469823837, -0.02039993181824684, 0.019193656742572784, 0.021168531849980354, -0.012660554610192776, -0.028075261041522026, -6.271564780035987e-05, 0.01665300689637661, 0.023741208016872406, 0.030594561249017715, 0.010189291089773178, -0.017314856871962547, -0.010440154001116753, 0.012265579774975777, 0.012564479373395443, 0.017944682389497757, -0.003197163576260209, 0.014155055396258831, -0.013365104794502258, -0.056534819304943085, -0.04440801590681076, -0.0052948021329939365, -0.006799977272748947, 0.007488515228033066, 0.0030210260301828384, -0.03507806360721588, -0.0477813184261322, 0.04470691457390785, -0.011507654562592506, 0.022972607985138893, 0.0014544692821800709, 0.016119256615638733, 0.06989992409944534, 0.0396256148815155, 0.010536229237914085, 0.02106178179383278, 0.0002642063482198864, 0.028182009235024452, -0.008662765845656395, 0.03364761173725128, -0.0037095637526363134, 0.03582531213760376, 0.03729846328496933, -0.01097390428185463, 0.00043167045805603266, 0.005377533379942179, 0.011379553936421871, 0.007552565075457096, -0.012148153968155384, 0.04756781831383705, 0.018862731754779816, 0.04210221394896507, -0.027520159259438515, 0.04658571630716324, -0.0010414801072329283, 0.011721154674887657, -0.05277721956372261, 0.016620980575680733, 0.036230962723493576, 0.023527707904577255, 0.02931356057524681, 0.011059303767979145, 0.014283155091106892, -0.01240435428917408, 0.028907909989356995, 0.018190206959843636, 0.02307935804128647, -0.011742504313588142, -0.018264930695295334, -0.004053832497447729, 0.0014144380111247301, 0.014955680817365646, 0.03620961308479309, 0.01234030444175005, 0.009431365877389908, -0.0032638823613524437, 0.03349816054105759, 0.008785528130829334, -0.006479727104306221, -0.009815665893256664, -0.031640712171792984, -0.0023431633599102497, -0.010312053374946117, 0.008086315356194973, -0.02867306023836136, 0.007104215212166309, -0.013696029782295227, -0.007920852862298489, -0.017357556149363518, 0.014571379870176315, 0.01158237922936678, -0.04385291412472725, 0.04389561712741852, -0.025769459083676338, 0.0329003632068634, -0.013578604906797409, -0.001477153622545302, -0.005764502100646496, -0.006292914971709251, 0.03356221318244934, 0.00973560381680727, -0.014229780063033104, -0.03027431108057499, 0.01812615618109703, 0.005276120733469725, -0.02043195813894272, 0.014101680368185043, -0.002184372628107667, -0.002357841469347477, -0.003904382698237896, -0.0183823574334383, 0.015318630263209343, 0.05802932009100914, -0.0016105911927297711, 0.010023828595876694, -0.0026113728526979685, -0.030124861747026443, 0.008102327585220337, 0.05495491996407509, -0.011529004201292992, -0.007680665235966444, -0.010541566647589207, -0.012372329831123352, -0.024360358715057373, 0.011486303992569447, 0.019364457577466965, -0.007947539910674095, -0.03255876153707504, 0.001212947303429246, -0.017603080719709396, -0.010322729125618935, 0.01074439100921154, -0.031555309891700745, 0.01248975470662117, 0.03851541504263878, -0.0003442688612267375, -0.005086639430373907, 0.006207514554262161, 0.025534609332680702, -0.003576126182451844, 0.010600279085338116, -0.014453954994678497, 0.010146590881049633, 0.010045178234577179, -0.0055990396067500114, 0.017976706847548485, -0.04039421305060387, 0.014229780063033104, 0.019449856132268906, 0.04876341670751572, 0.009367316029965878, 0.011956004425883293, -0.012329629622399807, 0.023036658763885498, -0.048592615872621536, 0.000597466598264873, -0.036273662000894547, 0.010664328932762146, 0.009794316254556179, 0.004817095585167408, 0.013204979710280895, 0.00017597076657693833, -0.017635107040405273, -0.028907909989356995, 0.014806230552494526, 0.01263920497149229, -0.0002124992897734046, 0.024168208241462708, 0.003480051178485155, -0.002217732137069106, -0.020976383239030838, -0.004995901603251696, 0.0007932862499728799, -0.014667455106973648, -0.035889364778995514, -0.025128958746790886, -0.004841114394366741, 0.009111115708947182, 0.006954764947295189, -0.03006081096827984, 0.01968470774590969, 0.007536552846431732, -0.01627938076853752, 0.008780190721154213, 0.025555958971381187, -0.030936161056160927, -0.0583709217607975, 0.0031171010341495275, -0.040522314608097076, -0.01955660618841648, 0.015329305082559586, -0.006463714875280857, 0.035419661551713943, -0.029954060912132263, 0.012959454208612442, -0.03652986139059067, -0.01968470774590969, 0.026644809171557426, 0.007104215212166309, -0.05235021933913231, 0.01706933043897152, -0.02779771015048027, 0.04453611746430397, 0.028160659596323967, -0.0068480148911476135, -0.005174708086997271, 0.01833965629339218, 0.010456166230142117, 0.0497882179915905, -0.004998570773750544, 0.011208754032850266, 0.004443470388650894, 0.00937799084931612, -0.0008980347192846239, 0.028651710599660873, -0.024146858602762222, 0.024573858827352524, -0.02809661068022251, 0.004120551515370607, 0.021350007504224777, -0.018980156630277634, 0.028694409877061844, 0.020880308002233505, -0.0030130199156701565, -0.0028021885082125664, 0.048421818763017654, 0.010781753808259964, 0.027050459757447243, -0.017421606928110123, 0.002954307245090604, 0.005903277080506086, -0.004363407846540213, -0.0032959075178951025, 0.0246806088835001, 0.029890010133385658, 0.0007892830763012171, 0.03401056304574013, 0.011400904506444931, 0.017101356759667397, 0.018361005932092667, 0.028310110792517662, -0.0028475571889430285, 7.293195812962949e-05, 0.034330811351537704, 0.039881814271211624, 0.004040488973259926, 0.02342095784842968, -0.04214491695165634, 0.004902495536953211, 0.016460856422781944, -0.0033092512749135494, 0.02237480878829956, -0.010210640728473663, -0.03270821273326874, 0.005180045496672392, 0.004008464049547911, 0.020036982372403145, 0.0043820892460644245, -0.0047263577580451965, -0.0057591646909713745, -0.01576698012650013, 0.02927086129784584, 0.003917726222425699, 0.020335882902145386, -0.03356221318244934, -0.0027114509139209986, -0.028865210711956024, 7.201457628980279e-05, -0.0009647534461691976, 0.007376427762210369, -0.011091329157352448, -0.01095255371183157, -0.0009914409602060914, 0.004851789213716984, 0.02333555929362774, 0.007403115276247263, -0.00841190293431282, -0.0066718775779008865, -0.007963553071022034, 0.013044854626059532, 0.01678110659122467, 0.013343755155801773, 0.012660554610192776, -0.025491910055279732, -0.002436569659039378, 0.032644160091876984, 0.006815989967435598, 0.00661316467449069, -0.005185382906347513, 0.0364871621131897, -0.03721306473016739, -0.03149126097559929, 0.004710345529019833, 0.021712956950068474, 0.015660230070352554, 0.017848607152700424, 0.03070131130516529, -0.029548410326242447, 0.009452715516090393, 0.002548657124862075, -0.0052948021329939365, 0.010210640728473663, -0.013258354738354683, -0.013119579292833805, 0.015500105917453766, 0.025128958746790886, -0.0027167885564267635, -0.00682132737711072, -0.014667455106973648, -0.014923655427992344, -0.012084104120731354, -0.01013591606169939, 0.026388609781861305, -0.021851733326911926, 0.015745630487799644, 0.012852705083787441, -0.025299759581685066, -0.00427800789475441, 0.029847310855984688, -0.015670904889702797, 0.0203892569988966, -0.030765360221266747, -0.001327036414295435, 0.008662765845656395, -0.011294154450297356, -0.004467489197850227, -0.0188840813934803, -0.005695114377886057, 0.001217617653310299, 0.0017840600339695811, 0.02801121026277542, -0.005156026687473059, 0.03507806360721588, 0.010087878443300724, 0.009185840375721455, -0.005711127072572708, 0.0025286416057497263, 0.007568577770143747, 0.023613108322024345, -0.02737070992588997, 0.01089384127408266, -0.00965020339936018, 0.024403057992458344, -0.0005917955422773957, 0.006068739574402571, 0.009543453343212605, 0.018008731305599213, 0.024445759132504463, -0.002668750938028097, 0.008379878476262093, -0.006506414618343115, 0.008977678604424, 0.017229456454515457, -0.003069063648581505, 0.03377571329474449, -0.010589604265987873, -0.017421606928110123, -0.0422089658677578, 0.020794907584786415, -0.013696029782295227, 0.020624106749892235, -0.006367639638483524, 0.027648260816931725, -0.020463982596993446, 0.04319106414914131, -0.0021870413329452276, -0.01469948049634695, -0.017058655619621277, 0.033412761986255646, 0.020453307777643204, 0.009127127937972546, 0.035718563944101334, -0.006287577096372843, -0.007488515228033066, -0.004064507782459259, -0.031768810003995895, 0.05820012092590332, -0.0025339790154248476, -0.01871328242123127, 0.031896911561489105, 0.03439486399292946, -0.0016639662208035588, 0.014977030456066132, -0.003776282537728548, -0.014037630520761013, -0.004344726447016001, -0.004590251483023167, -0.01665300689637661, -0.019738081842660904, 0.07382832467556, 0.007344402838498354, 0.016247356310486794, -0.003666863776743412, 0.04765321686863899, -0.0029676510021090508, 0.03373301029205322, 0.03847271203994751, 0.028032559901475906, 0.005449589341878891, 0.0003380973939783871, 0.01318363007158041, -0.019332431256771088, -0.013845480047166348, 0.030039461329579353, -0.0036615263670682907, -0.03729846328496933, 0.03439486399292946, -0.028395509347319603, 0.01116605382412672, -0.0004396767180878669, -0.021926457062363625, 0.016129931434988976, -0.0029222823213785887, -0.006042052060365677, -0.01849978230893612, -0.013450505211949348, -0.014347204938530922, -0.02359175868332386, 0.024274958297610283, -0.0016212662449106574, 0.02649535983800888, 0.002668750938028097, 0.027520159259438515, -0.027263959869742393, 0.0004686993779614568, -0.020282506942749023, -0.023613108322024345, -0.020175756886601448, -0.014091004617512226, -0.0030076822731643915, 0.002272441517561674, 0.008774853311479092, 0.0032265200279653072, 0.0020629444625228643, -0.01699460670351982, 0.0012663223315030336, 0.021424733102321625, -0.03670066222548485, -0.009516766294836998, -0.02056005783379078, -0.007947539910674095, 0.021680932492017746, 0.009708915837109089, -0.022182658314704895, 0.007189615163952112, -0.03035971149802208, -0.011240779422223568, -0.020826932042837143, 0.01088850386440754, -0.016727730631828308, 0.0038483389653265476, -0.04432261735200882, -0.013888180255889893, -0.025342458859086037, -0.007082865107804537, 0.008059628307819366, 0.009308603592216969, 0.0053108143620193005, 0.010450828820466995, -0.005081302020698786, -0.025641359388828278, 0.008209077641367912, 0.02662345953285694, -0.006063402164727449, 0.016386130824685097, -0.01042947918176651, 0.01799805648624897, -0.0028502261266112328, 0.028438210487365723, 0.051325418055057526, 0.010413466021418571, 0.03465106338262558, -0.021051106974482536, 0.015841705724596977, 0.00977830309420824, 0.03872891515493393, -0.009746278636157513, -0.005780514795333147, -0.008251777850091457, -0.0028715759981423616, 0.0246806088835001, 0.006356964819133282, -0.025214359164237976, 0.027157209813594818, 0.016759756952524185, 0.03941211476922035, 0.024189557880163193, 0.015606855973601341, 0.0326228104531765, -0.024488458409905434, -0.01610857993364334, -0.024360358715057373, -0.00902037788182497, -0.026836959645152092, -0.011219428852200508, 0.027221260592341423, -0.010418803431093693, -0.047909416258335114, -0.026751559227705002, 0.0014491317560896277, 0.0051933894865214825, -0.009698241017758846, 0.014742180705070496, -0.009879715740680695, -0.028374159708619118, -0.00994910392910242, 0.014368555508553982, 0.03268686309456825, 0.0076433029025793076, 0.012681904248893261, 0.010771078988909721, 3.0336192139657214e-05, 0.0014491317560896277, -0.0031731449998915195, 0.01372805517166853, -0.017421606928110123, -0.007931527681648731, -0.014710155315697193, 0.016791781410574913, -0.015468080528080463, -0.028566310182213783, -0.005401551723480225, 0.04718351736664772, -0.016258031129837036, 0.02871575951576233, -0.005919289775192738, -0.022716408595442772, 0.0029382947832345963, 0.029078710824251175, 0.02779771015048027, -0.022353457286953926, -0.006997465156018734, 0.03170476108789444, -0.0005557673866860569, -0.003939076326787472, 0.012895404361188412, -0.021680932492017746, 0.007621952798217535, -0.008091652765870094, 0.028331460431218147]\n"
     ]
    }
   ],
   "source": [
    "query = \"AWSのS3からデータを読み込むためのDocument loaderはありますか？\"\n",
    "\n",
    "vector = embeddings.embed_query(query)\n",
    "print(len(vector))\n",
    "print(vector)\n"
   ]
  },
  {
   "cell_type": "markdown",
   "metadata": {},
   "source": [
    "### Vector store\n"
   ]
  },
  {
   "cell_type": "code",
   "execution_count": 43,
   "metadata": {},
   "outputs": [],
   "source": [
    "from langchain_chroma import Chroma\n",
    "\n",
    "db = Chroma.from_documents(docs, embeddings)\n"
   ]
  },
  {
   "cell_type": "code",
   "execution_count": 44,
   "metadata": {},
   "outputs": [],
   "source": [
    "retriever = db.as_retriever()\n"
   ]
  },
  {
   "cell_type": "code",
   "execution_count": 45,
   "metadata": {},
   "outputs": [
    {
     "name": "stdout",
     "output_type": "stream",
     "text": [
      "len = 4\n",
      "metadata = {'file_name': 'aws.mdx', 'file_path': 'docs/docs/integrations/providers/aws.mdx', 'file_type': '.mdx', 'source': 'docs/docs/integrations/providers/aws.mdx'}\n",
      "## Document loaders\n",
      "\n",
      "### AWS S3 Directory and File\n",
      "\n",
      ">[Amazon Simple Storage Service (Amazon S3)](https://docs.aws.amazon.com/AmazonS3/latest/userguide/using-folders.html)\n",
      "> is an object storage service.\n",
      ">[AWS S3 Directory](https://docs.aws.amazon.com/AmazonS3/latest/userguide/using-folders.html)\n",
      ">[AWS S3 Buckets](https://docs.aws.amazon.com/AmazonS3/latest/userguide/UsingBucket.html)\n",
      "\n",
      "See a [usage example for S3DirectoryLoader](/docs/integrations/document_loaders/aws_s3_directory).\n",
      "\n",
      "See a [usage example for S3FileLoader](/docs/integrations/document_loaders/aws_s3_file).\n",
      "\n",
      "```python\n",
      "from langchain_community.document_loaders import S3DirectoryLoader, S3FileLoader\n",
      "```\n",
      "\n",
      "### Amazon Textract\n",
      "\n",
      ">[Amazon Textract](https://docs.aws.amazon.com/managedservices/latest/userguide/textract.html) is a machine \n",
      "> learning (ML) service that automatically extracts text, handwriting, and data from scanned documents.\n",
      "\n",
      "See a [usage example](/docs/integrations/document_loaders/amazon_textract).\n"
     ]
    }
   ],
   "source": [
    "query = \"AWSのS3からデータを読み込むためのDocument loaderはありますか？\"\n",
    "\n",
    "context_docs = retriever.invoke(query)\n",
    "print(f\"len = {len(context_docs)}\")\n",
    "\n",
    "first_doc = context_docs[0]\n",
    "print(f\"metadata = {first_doc.metadata}\")\n",
    "print(first_doc.page_content)\n"
   ]
  },
  {
   "cell_type": "markdown",
   "metadata": {},
   "source": [
    "### LCEL を使った RAG の Chain の実装\n"
   ]
  },
  {
   "cell_type": "code",
   "execution_count": 46,
   "metadata": {},
   "outputs": [],
   "source": [
    "from langchain_core.prompts import ChatPromptTemplate\n",
    "from langchain_openai import ChatOpenAI\n",
    "\n",
    "prompt = ChatPromptTemplate.from_template('''\\\n",
    "以下の文脈だけを踏まえて質問に回答してください。\n",
    "\n",
    "文脈: \"\"\"\n",
    "{context}\n",
    "\"\"\"\n",
    "\n",
    "質問: {question}\n",
    "''')\n",
    "\n",
    "model = ChatOpenAI(model_name=\"gpt-4o-mini\", temperature=0)\n"
   ]
  },
  {
   "cell_type": "code",
   "execution_count": 47,
   "metadata": {},
   "outputs": [
    {
     "name": "stdout",
     "output_type": "stream",
     "text": [
      "はい、AWSのS3からデータを読み込むためのDocument loaderとして、`S3DirectoryLoader`と`S3FileLoader`があります。これらを使用することで、S3のディレクトリやファイルからデータを読み込むことができます。\n"
     ]
    }
   ],
   "source": [
    "from langchain_core.output_parsers import StrOutputParser\n",
    "from langchain_core.runnables import RunnablePassthrough\n",
    "\n",
    "chain = (\n",
    "    {\"context\": retriever, \"question\": RunnablePassthrough()}\n",
    "    | prompt\n",
    "    | model\n",
    "    | StrOutputParser()\n",
    ")\n",
    "\n",
    "output = chain.invoke(query)\n",
    "print(output)\n"
   ]
  },
  {
   "cell_type": "code",
   "execution_count": null,
   "metadata": {},
   "outputs": [],
   "source": []
  }
 ],
 "metadata": {
  "kernelspec": {
   "display_name": ".venv",
   "language": "python",
   "name": "python3"
  },
  "language_info": {
   "codemirror_mode": {
    "name": "ipython",
    "version": 3
   },
   "file_extension": ".py",
   "mimetype": "text/x-python",
   "name": "python",
   "nbconvert_exporter": "python",
   "pygments_lexer": "ipython3",
   "version": "3.12.8"
  }
 },
 "nbformat": 4,
 "nbformat_minor": 2
}
